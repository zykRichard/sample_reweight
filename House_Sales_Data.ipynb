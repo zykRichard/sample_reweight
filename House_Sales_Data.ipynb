{
 "cells": [
  {
   "cell_type": "code",
   "execution_count": 445,
   "metadata": {},
   "outputs": [],
   "source": [
    "import imp\n",
    "from utils import *\n",
    "from sklearn.linear_model import LinearRegression\n",
    "from sklearn.linear_model import Lasso\n",
    "from sklearn.linear_model import ElasticNet\n",
    "\n",
    "from scipy.optimize import minimize\n",
    "\n",
    "import matplotlib.pyplot as plt"
   ]
  },
  {
   "cell_type": "code",
   "execution_count": 446,
   "metadata": {},
   "outputs": [],
   "source": [
    "class OLS(object):\n",
    "    def __init__(self, beta_true = None):\n",
    "        self.model = LinearRegression()\n",
    "\n",
    "    def fit(self, x, y, **options):\n",
    "        n, p = x.shape\n",
    "        # Set the sample weights\n",
    "        if 'weights' in options:\n",
    "            self.weights = np.reshape(options['weights'], [n,])\n",
    "        else:\n",
    "            self.weights = np.ones([n,])\n",
    "\n",
    "        # Fit the model and get the parameter\n",
    "        self.model.fit(x, y, sample_weight = self.weights)\n",
    "        self.beta = np.reshape(self.model.coef_, [p, 1]) # 斜率\n",
    "        self.intercept = np.reshape(self.model.intercept_, [1, 1]) # 截距 \n",
    "        self.coef = np.concatenate((self.intercept, self.beta), axis = 0)\n",
    "\n",
    "    def predict(self, x_test):\n",
    "        return np.matmul(x_test, self.beta) + self.intercept"
   ]
  },
  {
   "cell_type": "code",
   "execution_count": 447,
   "metadata": {},
   "outputs": [],
   "source": [
    "class LASSO(object):\n",
    "    def __init__(self, alpha = 1):\n",
    "        self.model = Lasso(alpha)\n",
    "        \n",
    "    def fit(self, x, y, weights = None):\n",
    "        n, p = x.shape\n",
    "        if weights != None:\n",
    "            self.weights = np.reshape(weights, (n, ))\n",
    "        else:\n",
    "            self.weights = np.ones((n, ))\n",
    "\n",
    "        self.model.fit(x, y, sample_weight=self.weights)\n",
    "        self.beta = np.reshape(self.model.coef_, [p, 1])\n",
    "        self.intercept = np.reshape(self.model.intercept_, [1, 1])\n",
    "        self.coef = np.concatenate((self.intercept, self.beta), axis = 0)\n",
    "        \n",
    "    def predict(self, x_test):\n",
    "        return np.matmul(x_test, self.beta) + self.intercept"
   ]
  },
  {
   "cell_type": "code",
   "execution_count": 448,
   "metadata": {},
   "outputs": [],
   "source": [
    "class EL_NET(object):\n",
    "    def __init__(self):\n",
    "        self.model = ElasticNet()\n",
    "        \n",
    "    def fit(self, x, y, weights = None):\n",
    "        n, p = x.shape\n",
    "        if weights != None:\n",
    "            self.weights = np.reshape(weights, (n, ))\n",
    "        else:\n",
    "            self.weights = np.ones((n, ))\n",
    "            \n",
    "        self.model.fit(x, y, sample_weight=self.weights)\n",
    "        self.beta = np.reshape(self.model.coef_, [p, 1])\n",
    "        self.intercept = np.reshape(self.model.intercept_, [1, 1])\n",
    "        self.coef = np.concatenate((self.intercept, self.beta), axis=0)\n",
    "        \n",
    "    def predict(self, x_test):\n",
    "        return self.model.predict(x_test)"
   ]
  },
  {
   "cell_type": "markdown",
   "metadata": {},
   "source": [
    "# ULasso\n",
    "$$\n",
    "\\text{min}\\ \\parallel Y-\\pmb{X}\\beta \\parallel ^2_2 + \\lambda_1 \\parallel \\beta \\parallel_1 + \\lambda_2 \\beta^T \\pmb{C} \\beta\n",
    "$$\n",
    "\n",
    "$$\n",
    "C_{jk}=r_{jk}^2,\\quad r_{jk}=\\frac{1}{n}|\\pmb{X}_{,j}^T\\pmb{X}_{,k}|\n",
    "$$"
   ]
  },
  {
   "cell_type": "code",
   "execution_count": 449,
   "metadata": {},
   "outputs": [],
   "source": [
    "class ULasso(object):\n",
    "    def __init__(self, data_x, data_y, alpha = 1.0, regu1=0.35, regu2=1, maxiter = 1000):\n",
    "         self.X = np.concatenate((np.ones((data_x.shape[0],1)), data_x), axis=1)\n",
    "         self.Y = data_y\n",
    "         self.regu1 = regu1\n",
    "         self.regu2 = regu2\n",
    "         self.coef = np.ones((self.X.shape[1], 1)) # initialization coef\n",
    "         self.sample_weights = np.ones(data_x.shape[0], )\n",
    "         self.C = np.ones((self.X.shape[1], self.X.shape[1]))\n",
    "         self.maxiter = maxiter\n",
    "         self.alpha = alpha\n",
    "         \n",
    "    def predict(self, X):\n",
    "        X = np.concatenate((np.ones((X.shape[0],1)), X), axis=1)\n",
    "        y_pred = np.matmul(X, self.coef)\n",
    "        return y_pred\n",
    "    \n",
    "    def get_C(self, X):\n",
    "        n, p = X.shape\n",
    "        for i in range(p):\n",
    "            for j in range(p):\n",
    "                col1 = X[:, i].squeeze()\n",
    "                col2 = X[:, j].squeeze()\n",
    "                r = np.abs(np.dot(col1, col2)) / n\n",
    "                self.C[i][j] = r ** 2\n",
    "        \n",
    "        \n",
    "    def loss_function(self, coef):\n",
    "        n, p = self.X.shape\n",
    "        self.get_C(self.X)\n",
    "        self.coef = coef\n",
    "        y_true = self.Y.squeeze()\n",
    "        y_pred = np.matmul(self.X, self.coef).squeeze()\n",
    "        model_error = np.sum(self.sample_weights * np.square(y_true - y_pred))\n",
    "        coef_r = coef.squeeze()\n",
    "        func_error = model_error + self.alpha * self.regu1 * np.sum(coef) + self.alpha * self.regu2 * np.dot(np.dot(coef_r, self.C), coef_r)\n",
    "        return func_error\n",
    "        \n",
    "    def fit(self):\n",
    "        res = minimize(self.loss_function, self.coef, method='BFGS', options={'maxiter': self.maxiter})\n",
    "        self.coef = res.x\n",
    "         "
   ]
  },
  {
   "cell_type": "markdown",
   "metadata": {},
   "source": [
    "# IILasso\n",
    "$$\n",
    "\\text{min}\\ \\parallel Y-\\pmb{X}\\beta \\parallel_2^2 + \\lambda_1 \\parallel \\beta \\parallel_1 + \\lambda_2 |\\beta^T| \\pmb{R} |\\beta|\n",
    "$$\n",
    "\n",
    "$$\n",
    "R_{jk}=|r_{jk}| / (1-|r_{jk}|),\\quad r_{jk}=\\frac{1}{n} |\\pmb{X}^T_{,j}\\pmb{X}_{,k}|\n",
    "$$"
   ]
  },
  {
   "cell_type": "code",
   "execution_count": 450,
   "metadata": {},
   "outputs": [],
   "source": [
    "class IILasso(object):\n",
    "    def __init__(self, data_x, data_y, alpha = 1, regu1 = 0.5, regu2 = 0.5, maxiter = 1000):\n",
    "        self.X = np.concatenate((np.ones((data_x.shape[0], 1)), data_x), axis=1)\n",
    "        self.Y = data_y\n",
    "        self.alpha = alpha\n",
    "        self.regu1 = regu1\n",
    "        self.regu2 = regu2\n",
    "        self.maxiter = maxiter\n",
    "        self.coef = np.ones((self.X.shape[1], 1))\n",
    "        self.sample_weights = np.ones((self.X.shape[0],))\n",
    "        self.R = np.ones((self.X.shape[1], self.X.shape[1]))\n",
    "        \n",
    "    def predict(self, X):\n",
    "        X = np.concatenate((np.ones((X.shape[0], 1)), X), axis=1)\n",
    "        y_pred = np.matmul(X, self.coef)\n",
    "        return y_pred\n",
    "    \n",
    "    def get_R(self, X):\n",
    "        n, p = X.shape\n",
    "        for i in range(p):\n",
    "            for j in range(p):\n",
    "                if i == j:\n",
    "                    self.R[i][j] = 0\n",
    "                else:\n",
    "                    col1 = X[:, i].squeeze()\n",
    "                    col2 = X[:, j].squeeze()\n",
    "                    r = np.abs(np.dot(col1, col2)) / n\n",
    "                    self.R[i][j] = r / (1 - r)\n",
    "                \n",
    "    def loss_function(self, coef):\n",
    "        n, p = self.X.shape\n",
    "        self.get_R(self.X)\n",
    "        self.coef = coef\n",
    "        y_true = self.Y.squeeze()\n",
    "        y_pred = np.matmul(self.X, coef).squeeze()\n",
    "        model_error = np.sum(self.sample_weights * np.square(y_true - y_pred))\n",
    "        coef_r = coef.squeeze()\n",
    "        func_error = model_error + self.regu1 * np.sum(coef_r) + self.regu2 * np.dot(np.dot(np.abs(coef_r), self.R), np.abs(coef_r))\n",
    "        return func_error\n",
    "    \n",
    "    def fit(self):\n",
    "        res = minimize(self.loss_function, self.coef, method='BFGS', options={'maxiter': self.maxiter})\n",
    "        self.coef = res.x"
   ]
  },
  {
   "cell_type": "code",
   "execution_count": 451,
   "metadata": {},
   "outputs": [],
   "source": [
    "X_list, Y_list = [], []\n",
    "for i in range(6):\n",
    "    x = np.load('House_Data/X'+str(i)+'.npy')\n",
    "    y = np.load('House_Data/Y'+str(i)+'.npy')\n",
    "    X_list.append(x)\n",
    "    Y_list.append(y)"
   ]
  },
  {
   "cell_type": "code",
   "execution_count": 452,
   "metadata": {},
   "outputs": [
    {
     "name": "stdout",
     "output_type": "stream",
     "text": [
      "======Envrionment    0============\n",
      "Original Correlation:  0.19463977288355847\n",
      "Original Collinearity:  41.28751156758869\n",
      "======Envrionment    1============\n",
      "Original Correlation:  0.20517168815940565\n",
      "Original Collinearity:  42.333709959295646\n",
      "======Envrionment    2============\n",
      "Original Correlation:  0.19539134384534926\n",
      "Original Collinearity:  34.80208300624458\n",
      "======Envrionment    3============\n",
      "Original Correlation:  0.1844833299748109\n",
      "Original Collinearity:  33.44420625408224\n",
      "======Envrionment    4============\n",
      "Original Correlation:  0.1786383434270527\n",
      "Original Collinearity:  31.203442363271016\n",
      "======Envrionment    5============\n",
      "Original Correlation:  0.16375951007089282\n",
      "Original Collinearity:  31.941753947565097\n"
     ]
    }
   ],
   "source": [
    "for i in range(6):\n",
    "    x, y = X_list[i], Y_list[i]\n",
    "    w_stat = weighted_stat(x, np.ones(y.shape))\n",
    "    # default by indentity.\n",
    "    print('======Envrionment %4d============' % (i))\n",
    "    print('Original Correlation: ', w_stat['mean_corr'])\n",
    "    print('Original Collinearity: ', w_stat['CN'])"
   ]
  },
  {
   "cell_type": "code",
   "execution_count": 453,
   "metadata": {},
   "outputs": [],
   "source": [
    "np.random.seed(0)\n",
    "train_ind = 0\n",
    "x_train_whole, y_train_whole = X_list[train_ind], Y_list[train_ind]\n",
    "sample_index = np.random.choice(x_train_whole.shape[0], 500, replace=False)\n",
    "unsample_index = [x for x in range(len(x_train_whole)) if not (x in sample_index)]\n",
    "\n",
    "x_train, y_train = x_train_whole[sample_index], y_train_whole[sample_index]\n",
    "scaler = preprocessing.StandardScaler().fit(x_train) # 标准化\n",
    "x_train_scaled = scaler.transform(x_train)\n",
    "x_iid_test, y_iid_test = scaler.transform(x_train_whole[unsample_index]), y_train_whole[unsample_index] # 利用训练集中的统计指标标准化"
   ]
  },
  {
   "cell_type": "code",
   "execution_count": 454,
   "metadata": {},
   "outputs": [
    {
     "name": "stdout",
     "output_type": "stream",
     "text": [
      "Original Correlation:  0.2170941630425216\n",
      "Original Collinearity:  51.51486885287824\n"
     ]
    }
   ],
   "source": [
    "w_stat = weighted_stat(x_train_scaled, np.ones(y_train.shape))\n",
    "print('Original Correlation: ', w_stat['mean_corr'])\n",
    "print('Original Collinearity: ', w_stat['CN'])"
   ]
  },
  {
   "cell_type": "code",
   "execution_count": 455,
   "metadata": {},
   "outputs": [],
   "source": [
    "ols = OLS()\n",
    "ols.fit(x_train_scaled, y_train)\n",
    "\n",
    "lasso = LASSO()\n",
    "lasso.fit(x_train_scaled, y_train)\n",
    "\n",
    "ELNET = EL_NET()\n",
    "ELNET.fit(x_train_scaled, y_train)\n",
    "\n",
    "ulasso = ULasso(x_train_scaled, y_train)\n",
    "ulasso.fit()\n",
    "\n",
    "iilasso = IILasso(x_train_scaled, y_train)\n",
    "iilasso.fit()"
   ]
  },
  {
   "cell_type": "code",
   "execution_count": 456,
   "metadata": {},
   "outputs": [],
   "source": [
    "rmse_ols = []\n",
    "rmse_lasso = []\n",
    "rmse_ELNET = []\n",
    "rmse_ulasso = []\n",
    "rmse_iilasso = []\n",
    "for i in range(6):\n",
    "    if i == train_ind:\n",
    "        x_test, y_test = x_iid_test, y_iid_test\n",
    "    else:\n",
    "        x_test, y_test = scaler.transform(X_list[i]), Y_list[i]\n",
    "    rmse_ols.append(cal_prediction_error(y_test, ols.predict(x_test), 'rmse'))\n",
    "    rmse_lasso.append(cal_prediction_error(y_test, lasso.predict(x_test), 'rmse'))\n",
    "    rmse_ELNET.append(cal_prediction_error(y_test, ELNET.predict(x_test), 'rmse'))\n",
    "    rmse_ulasso.append(cal_prediction_error(y_test, ulasso.predict(x_test), 'rmse'))\n",
    "    rmse_iilasso.append(cal_prediction_error(y_test, iilasso.predict(x_test), 'rmse'))"
   ]
  },
  {
   "cell_type": "code",
   "execution_count": 457,
   "metadata": {},
   "outputs": [],
   "source": [
    "# -*- coding: utf-8 -*-\n",
    "import numpy as np\n",
    "import pandas as pd\n",
    "from sklearn.neural_network import MLPClassifier\n",
    "from sklearn.linear_model import LogisticRegression\n",
    "\n",
    "def column_wise_resampling(x, replacement = False, random_state = 0, **options):\n",
    "    \"\"\"\n",
    "    Perform column-wise random resampling to break the joint distribution of p(x).\n",
    "    In practice, we can perform resampling without replacement (a.k.a. permutation) to retain all the data points of feature x_j. \n",
    "    Moreover, if the practitioner has some priors on which features should be permuted,\n",
    "    it can be passed through options by specifying 'sensitive_variables', by default it contains all the features\n",
    "    \"\"\"\n",
    "    rng = np.random.RandomState(random_state)\n",
    "    n, p = x.shape\n",
    "    if 'sensitive_variables' in options:\n",
    "        sensitive_variables = options['sensitive_variables']\n",
    "    else:\n",
    "        sensitive_variables = [i for i in range(p)] \n",
    "    x_decorrelation = np.zeros([n, p])\n",
    "    for i in sensitive_variables:\n",
    "        var = x[:, i]\n",
    "        if replacement: # sampling with replacement\n",
    "            x_decorrelation[:, i] = np.array([var[rng.randint(0, n)] for j in range(n)])\n",
    "        else: # permutation     \n",
    "            x_decorrelation[:, i] = var[rng.permutation(n)]\n",
    "    return x_decorrelation\n",
    "\n",
    "def decorrelation(x, solver = 'adam', hidden_layer_sizes = (2,), max_iter = 500, random_state = 0, clip_range = 0.9):\n",
    "    \"\"\"\n",
    "    Calcualte new sample weights by density ratio estimation\n",
    "           q(x)   P(x belongs to q(x) | x) \n",
    "    w(x) = ---- = ------------------------ \n",
    "           p(x)   P(x belongs to p(x) | x)\n",
    "\n",
    "    If default == True, then a single hidden layer perceptron will be used as binary classifier, \n",
    "    otherwise you can specify it by 'classifier', it must have 'fit' and 'predict_proba' api according to sklearn API standard.\n",
    "    \"\"\"\n",
    "    n, p = x.shape\n",
    "    x_decorrelation = column_wise_resampling(x, random_state = random_state)\n",
    "    P = pd.DataFrame(x)\n",
    "    Q = pd.DataFrame(x_decorrelation)\n",
    "    P['src'] = 1 # 1 means source distribution\n",
    "    Q['src'] = 0 # 0 means target distribution\n",
    "    Z = pd.concat([P, Q], ignore_index=True, axis=0)\n",
    "    labels = Z['src'].values\n",
    "    Z = Z.drop('src', axis=1).values\n",
    "    P, Q = P.values, Q.values\n",
    "\n",
    "    # Train a binary classifier to classify the source and target distribution\n",
    "    clf = MLPClassifier(solver=solver, hidden_layer_sizes=hidden_layer_sizes, max_iter=max_iter, random_state=random_state)\n",
    "    clf.fit(Z, labels)\n",
    "    proba = np.clip(clf.predict_proba(Z)[:len(P), 1], 1-clip_range, clip_range)\n",
    "    weights = (1./proba) - 1. # calculate sample weights by density ratio\n",
    "    weights /= np.mean(weights) # normalize the weights to get average 1\n",
    "    weights = np.reshape(weights, [n,])\n",
    "    return weights"
   ]
  },
  {
   "cell_type": "code",
   "execution_count": 458,
   "metadata": {},
   "outputs": [
    {
     "name": "stdout",
     "output_type": "stream",
     "text": [
      "Decorrelated Correlation:  0.15337498374949854\n",
      "Decorrelated Collinearity:  17.197719725581518\n",
      "Start fitting\n",
      "ave_RMSE(std) of OLS: 365078.1571(137313.6264)\n",
      "ave_RMSE(std) of LASSO: 365078.9347(137316.2037)\n",
      "ave_RMSE(std) of Elastic Net: 283197.7813(80734.1383)\n",
      "ave_RMSE(std) of ULASSO: 362656.6926(135968.5022)\n",
      "ave_RMSE(std) of IILASSO: 358570.9001(133504.4891)\n",
      "ave_RMSE(std) of OLS+Our: 249206.1521(47224.5792)\n"
     ]
    }
   ],
   "source": [
    "ols_our = OLS()\n",
    "w = decorrelation(x_train_scaled, max_iter=1000, hidden_layer_sizes=(3,))\n",
    "w_stat = weighted_stat(x_train_scaled, w)\n",
    "print('Decorrelated Correlation: ', w_stat['mean_corr'])\n",
    "print('Decorrelated Collinearity: ', w_stat['CN'])\n",
    "print('Start fitting')\n",
    "\n",
    "ols_our.fit(x_train_scaled, y_train, weights=w)\n",
    "rmse_ols_our = []\n",
    "for i in range(6):\n",
    "    if i == train_ind:\n",
    "        x_test, y_test = x_iid_test, y_iid_test\n",
    "    else:\n",
    "        x_test, y_test = scaler.transform(X_list[i]), Y_list[i]\n",
    "    rmse_ols_our.append(cal_prediction_error(y_test, ols_our.predict(x_test)))\n",
    "print('ave_RMSE(std) of OLS: %.4f(%.4f)'%(np.mean(rmse_ols), np.std(rmse_ols)))\n",
    "print('ave_RMSE(std) of LASSO: %.4f(%.4f)'%(np.mean(rmse_lasso), np.std(rmse_lasso)))\n",
    "print('ave_RMSE(std) of Elastic Net: %.4f(%.4f)'%(np.mean(rmse_ELNET), np.std(rmse_ELNET)))\n",
    "print('ave_RMSE(std) of ULASSO: %.4f(%.4f)'%(np.mean(rmse_ulasso), np.std(rmse_ulasso)))\n",
    "print('ave_RMSE(std) of IILASSO: %.4f(%.4f)'%(np.mean(rmse_iilasso), np.std(rmse_iilasso)))\n",
    "print('ave_RMSE(std) of OLS+Our: %.4f(%.4f)'%(np.mean(rmse_ols_our), np.std(rmse_ols_our)))"
   ]
  },
  {
   "cell_type": "code",
   "execution_count": 459,
   "metadata": {},
   "outputs": [
    {
     "data": {
      "image/png": "[encoded data removed]",
      "text/plain": [
       "<Figure size 432x432 with 1 Axes>"
      ]
     },
     "metadata": {
      "needs_background": "light"
     },
     "output_type": "display_data"
    }
   ],
   "source": [
    "fig = plt.figure(figsize=(6,6))\n",
    "\n",
    "plt.plot(np.arange(6), rmse_ols, 'r--', marker='o', label='OLS')\n",
    "plt.plot(np.arange(6), rmse_iilasso, 'b--', marker='s', label='IILasso')\n",
    "plt.plot(np.arange(6), rmse_ELNET, 'g--', marker='*', label='ElasticNet')\n",
    "plt.plot(np.arange(6), rmse_lasso, 'c--', marker='x', label='Lasso')\n",
    "plt.plot(np.arange(6), rmse_ulasso, 'y--', marker='.', label='ULasso')\n",
    "plt.plot(np.arange(6), rmse_ols_our, 'm--', marker='D', label='SRDO')\n",
    "\n",
    "plt.xlabel('env')\n",
    "plt.ylabel('error')\n",
    "\n",
    "fig.tight_layout()\n",
    "plt.ticklabel_format(style = 'sci', scilimits = (-1, 2), axis = 'y')\n",
    "plt.legend()\n",
    "plt.show()"
   ]
  }
 ],
 "metadata": {
  "kernelspec": {
   "display_name": "Python 3.9.12 ('base')",
   "language": "python",
   "name": "python3"
  },
  "language_info": {
   "codemirror_mode": {
    "name": "ipython",
    "version": 3
   },
   "file_extension": ".py",
   "mimetype": "text/x-python",
   "name": "python",
   "nbconvert_exporter": "python",
   "pygments_lexer": "ipython3",
   "version": "3.9.12"
  },
  "vscode": {
   "interpreter": {
    "hash": "0496842fed3252e429d236fd9df9f28ef62eb2f8e7d98cd38ba8d6755488d983"
   }
  }
 },
 "nbformat": 4,
 "nbformat_minor": 2
}
