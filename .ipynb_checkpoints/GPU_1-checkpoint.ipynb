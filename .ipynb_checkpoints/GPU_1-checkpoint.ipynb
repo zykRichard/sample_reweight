{
 "cells": [
  {
   "cell_type": "code",
   "execution_count": 1,
   "metadata": {},
   "outputs": [],
   "source": [
    "# Enable autoreload for customized module and some global settings\n",
    "%load_ext autoreload\n",
    "%autoreload 1\n",
    "%matplotlib inline\n",
    "#np.set_printoptions(suppress=True)"
   ]
  },
  {
   "cell_type": "code",
   "execution_count": 2,
   "metadata": {},
   "outputs": [],
   "source": [
    "import logging, argparse, os, sys\n",
    "import numpy as np\n",
    "import tensorflow as tf\n",
    "import scipy, importlib, pprint, matplotlib.pyplot as plt, warnings\n",
    "import seaborn as sns\n",
    "import glmnet_python\n",
    "from glmnet import glmnet; from glmnetPlot import glmnetPlot\n",
    "from glmnetPrint import glmnetPrint; from glmnetCoef import glmnetCoef; from glmnetPredict import glmnetPredict\n",
    "from cvglmnet import cvglmnet; from cvglmnetCoef import cvglmnetCoef\n",
    "from cvglmnetPlot import cvglmnetPlot; from cvglmnetPredict import cvglmnetPredict\n",
    "from statsmodels.stats.weightstats import DescrStatsW\n",
    "from glmnetSet import glmnetSet\n",
    "warnings.filterwarnings('ignore')\n",
    "from sklearn import preprocessing"
   ]
  },
  {
   "cell_type": "code",
   "execution_count": 3,
   "metadata": {},
   "outputs": [],
   "source": [
    "# Package need to be reloaded frequently\n",
    "sys.path.append('./code')\n",
    "%aimport data_generator, baseline\n",
    "from data_generator import generate_toy_example\n",
    "from data_generator import linear_model_generation\n",
    "from data_generator import generate_group_data\n",
    "from baseline import Lasso\n",
    "%aimport model, utils\n",
    "from model import variable_decorrelation"
   ]
  },
  {
   "cell_type": "code",
   "execution_count": 5,
   "metadata": {},
   "outputs": [],
   "source": [
    "os.environ['CUDA_VISIBLE_DEVICES'] = '1'"
   ]
  },
  {
   "cell_type": "code",
   "execution_count": null,
   "metadata": {},
   "outputs": [
    {
     "name": "stdout",
     "output_type": "stream",
     "text": [
      "INFO:tensorflow:Restoring parameters from model/group_decay_5e-3/group_decay_5e-03_l2_1e-04_lr_1e-03/model_iters45000.ckpt\n"
     ]
    }
   ],
   "source": [
    "decay_list = [0.002, 0.005, 0.01, 0.02, 0.05, 0.1, 0.2, 0.5]\n",
    "# Decay 0.005, optimal hyperpara: lr: 1e-3, l2: 1e-4,  45k + 45k iter \n",
    "decay = 0.005\n",
    "X_group = data_generator.generate_group_data(sample_size = 1000, decay = decay)\n",
    "Y_group = None\n",
    "learning_rate, weight_l2, weight_upper = 1e-3, 1e-4, 0\n",
    "log_name = 'group_decay_%.0e_l2_%.0e_lr_%.0e' % (decay, weight_l2, learning_rate)\n",
    "model_path = 'model/group_decay_5e-3/group_decay_%.0e_l2_%.0e_lr_%.0e/model_iters45000.ckpt' % (decay, weight_l2, learning_rate)\n",
    "data_description = 'Group data (10 var) with decay %.0e' % (decay)\n",
    "variable_decorrelation(x = X_group, y = Y_group, log_name = log_name, data_description = data_description,\n",
    "                   learning_rate = learning_rate, weight_l2 = weight_l2, weight_upper = weight_upper, \n",
    "                   max_iter = 45000, display_iter=300, save_iter=3000, mode='rotation', model_path=model_path)\n",
    "#########Complete Tuning###########"
   ]
  },
  {
   "cell_type": "code",
   "execution_count": null,
   "metadata": {},
   "outputs": [],
   "source": []
  }
 ],
 "metadata": {
  "kernelspec": {
   "display_name": "Python 3",
   "language": "python",
   "name": "python3"
  },
  "language_info": {
   "codemirror_mode": {
    "name": "ipython",
    "version": 3
   },
   "file_extension": ".py",
   "mimetype": "text/x-python",
   "name": "python",
   "nbconvert_exporter": "python",
   "pygments_lexer": "ipython3",
   "version": "3.6.6"
  }
 },
 "nbformat": 4,
 "nbformat_minor": 2
}
