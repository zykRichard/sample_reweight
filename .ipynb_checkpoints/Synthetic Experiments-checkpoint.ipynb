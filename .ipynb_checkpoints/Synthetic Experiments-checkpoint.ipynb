{
 "cells": [
  {
   "cell_type": "code",
   "execution_count": 1,
   "metadata": {},
   "outputs": [],
   "source": [
    "# Enable autoreload for customized module and some global settings\n",
    "%load_ext autoreload\n",
    "%autoreload 1\n",
    "%matplotlib inline\n",
    "#np.set_printoptions(suppress=True)"
   ]
  },
  {
   "cell_type": "code",
   "execution_count": 2,
   "metadata": {},
   "outputs": [],
   "source": [
    "import logging, argparse, os, sys\n",
    "import numpy as np\n",
    "import tensorflow as tf\n",
    "import scipy, importlib, pprint, matplotlib.pyplot as plt, warnings\n",
    "import seaborn as sns\n",
    "import pandas as pd\n",
    "import glmnet_python\n",
    "from glmnet import glmnet; from glmnetPlot import glmnetPlot\n",
    "from glmnetPrint import glmnetPrint; from glmnetCoef import glmnetCoef; from glmnetPredict import glmnetPredict\n",
    "from cvglmnet import cvglmnet; from cvglmnetCoef import cvglmnetCoef\n",
    "from cvglmnetPlot import cvglmnetPlot; from cvglmnetPredict import cvglmnetPredict\n",
    "from statsmodels.stats.weightstats import DescrStatsW\n",
    "from glmnetSet import glmnetSet\n",
    "warnings.filterwarnings('ignore')\n",
    "from sklearn import preprocessing\n",
    "from sklearn.neural_network import MLPClassifier as MLP\n",
    "from sklearn.ensemble import RandomForestClassifier as RFC"
   ]
  },
  {
   "cell_type": "code",
   "execution_count": 3,
   "metadata": {},
   "outputs": [],
   "source": [
    "# Package need to be reloaded frequently\n",
    "sys.path.append('./code')\n",
    "%aimport data_generator, baseline\n",
    "from data_generator import generate_toy_example, generate_block_data\n",
    "from data_generator import linear_model_generation\n",
    "from baseline import Lasso, OLS, Exlasso\n",
    "%aimport model, utils\n",
    "from model import variable_decorrelation, load_weight, decorrelation\n",
    "from utils import cal_estimation_error, cal_prediction_error\n",
    "from utils import weighted_stat\n",
    "from sklearn.model_selection import KFold"
   ]
  },
  {
   "cell_type": "markdown",
   "metadata": {},
   "source": [
    "## Problem Formulation\n",
    "We consider the linear regression problem with model misspecification.\n",
    "\n",
    "In the whole experiment, we assume the outcome $Y$ and design matrix $X$ satisfy the relationship as follow:\n",
    "\n",
    "$$Y = X\\cdot\\beta+b(X)+\\epsilon$$\n",
    "\n",
    "where $X\\in R^{n\\times p}$, $\\beta\\in R^{p\\times 1}$, $\\epsilon\\sim N(0, \\sigma^{2})$ is a guassian noise with tunable noise level, and $b(X)$ is a bias term."
   ]
  },
  {
   "cell_type": "code",
   "execution_count": 4,
   "metadata": {},
   "outputs": [],
   "source": [
    "os.environ[\"CUDA_VISIBLE_DEVICES\"] = \"2\""
   ]
  },
  {
   "cell_type": "code",
   "execution_count": 5,
   "metadata": {},
   "outputs": [],
   "source": [
    "dataset = np.load('synthetic_data_exp1_n500.npz')\n",
    "X_train, X_test, Y_train, Y_test = dataset['xtrain'], dataset['xtest'], dataset['ytrain'], dataset['ytest']\n",
    "beta = np.array([[1/5],[-2/5],[3/5],[-4/5],[1],[-1/5],[2/5],[-3/5],[4/5],[-1]])"
   ]
  },
  {
   "cell_type": "code",
   "execution_count": 6,
   "metadata": {},
   "outputs": [],
   "source": [
    "ols = OLS(beta_true=beta)\n",
    "lasso = Lasso(beta_true=beta)\n",
    "elaNet = Lasso(beta_true=beta)\n",
    "ulasso = Exlasso(beta_true=beta, method='ULasso')\n",
    "iilasso = Exlasso(beta_true=beta, method='IILasso')"
   ]
  },
  {
   "cell_type": "code",
   "execution_count": 7,
   "metadata": {},
   "outputs": [
    {
     "name": "stdout",
     "output_type": "stream",
     "text": [
      "0.000822422226067\n"
     ]
    }
   ],
   "source": [
    "# Lasso\n",
    "X, Y = X_train[0], Y_train[0]\n",
    "lasso.fit(X, Y)\n",
    "l1_lasso = lasso.model['lambda_min'][0]\n",
    "print(l1_lasso)"
   ]
  },
  {
   "cell_type": "code",
   "execution_count": 8,
   "metadata": {},
   "outputs": [
    {
     "name": "stdout",
     "output_type": "stream",
     "text": [
      "0.8\n"
     ]
    }
   ],
   "source": [
    "# Elastic Net\n",
    "kf = KFold(n_splits=5)\n",
    "alpha_range = np.linspace(0.1, 0.9, 9)\n",
    "rmse_val = np.zeros(alpha_range.shape)\n",
    "\n",
    "for train_index, test_index in kf.split(X):\n",
    "    for i, alpha in enumerate(alpha_range):\n",
    "        elaNet.fit(X[train_index], Y[train_index], alpha=alpha)\n",
    "        rmse_val[i] += cal_prediction_error(Y[test_index], elaNet.predict(X[test_index]))\n",
    "opt_alpha = alpha_range[np.argmin(rmse_val)]\n",
    "print(opt_alpha)"
   ]
  },
  {
   "cell_type": "code",
   "execution_count": 11,
   "metadata": {
    "collapsed": true
   },
   "outputs": [
    {
     "name": "stdout",
     "output_type": "stream",
     "text": [
      "Converge ... Step 208: Final Loss: 0.958756 ... 0.953975 ... 0.000324 ... 0.004457\n",
      "Converge ... Step 207: Final Loss: 0.961619 ... 0.954036 ... 0.003167 ... 0.004417\n",
      "Converge ... Step 202: Final Loss: 0.987196 ... 0.957280 ... 0.025860 ... 0.004056\n",
      "Converge ... Step 888: Final Loss: 1.110851 ... 1.031125 ... 0.077116 ... 0.002610\n",
      "Converge ... Step 196: Final Loss: 0.998729 ... 0.993854 ... 0.000380 ... 0.004496\n",
      "Converge ... Step 195: Final Loss: 1.002088 ... 0.993932 ... 0.003706 ... 0.004450\n",
      "Converge ... Step 191: Final Loss: 1.031505 ... 0.998301 ... 0.029163 ... 0.004042\n",
      "Converge ... Step 169: Final Loss: 1.154063 ... 1.084161 ... 0.067487 ... 0.002414\n",
      "Converge ... Step 197: Final Loss: 1.057911 ... 1.053339 ... 0.000271 ... 0.004300\n",
      "Converge ... Step 196: Final Loss: 1.060316 ... 1.053384 ... 0.002665 ... 0.004266\n",
      "Converge ... Step 190: Final Loss: 1.082146 ... 1.055825 ... 0.022364 ... 0.003957\n",
      "Converge ... Step 114: Final Loss: 1.188760 ... 1.120999 ... 0.065244 ... 0.002517\n",
      "Converge ... Step 185: Final Loss: 1.000758 ... 0.995967 ... 0.000274 ... 0.004517\n",
      "Converge ... Step 186: Final Loss: 1.003179 ... 0.996009 ... 0.002689 ... 0.004481\n",
      "Converge ... Step 190: Final Loss: 1.025220 ... 0.998419 ... 0.022650 ... 0.004152\n",
      "Converge ... Step 154: Final Loss: 1.136177 ... 1.064380 ... 0.069165 ... 0.002632\n",
      "Converge ... Step 179: Final Loss: 0.963618 ... 0.958524 ... 0.000409 ... 0.004685\n",
      "Converge ... Step 178: Final Loss: 0.967276 ... 0.958651 ... 0.003989 ... 0.004635\n",
      "Converge ... Step 165: Final Loss: 0.999168 ... 0.963546 ... 0.031426 ... 0.004197\n",
      "Converge ... Step 113: Final Loss: 1.128415 ... 1.061997 ... 0.064112 ... 0.002305\n",
      "1e-05\n",
      "Converge ... Step 206: Final Loss: 0.954357 ... 0.953974 ... 0.000328 ... 0.000055\n",
      "Converge ... Step 206: Final Loss: 0.954846 ... 0.953973 ... 0.000328 ... 0.000545\n",
      "Converge ... Step 206: Final Loss: 0.959716 ... 0.953981 ... 0.000323 ... 0.005413\n",
      "Converge ... Step 214: Final Loss: 1.006550 ... 0.955917 ... 0.000275 ... 0.050359\n",
      "Converge ... Step 482: Final Loss: 1.334118 ... 1.076720 ... 0.000050 ... 0.257349\n",
      "Converge ... Step 197: Final Loss: 0.994285 ... 0.993845 ... 0.000385 ... 0.000055\n",
      "Converge ... Step 197: Final Loss: 0.994779 ... 0.993845 ... 0.000384 ... 0.000550\n",
      "Converge ... Step 198: Final Loss: 0.999695 ... 0.993858 ... 0.000379 ... 0.005458\n",
      "Converge ... Step 202: Final Loss: 1.046997 ... 0.995847 ... 0.000324 ... 0.050826\n",
      "Converge ... Step 288: Final Loss: 1.356010 ... 1.139825 ... 0.000040 ... 0.216145\n",
      "Converge ... Step 196: Final Loss: 1.053664 ... 1.053337 ... 0.000275 ... 0.000053\n",
      "Converge ... Step 194: Final Loss: 1.054139 ... 1.053338 ... 0.000275 ... 0.000526\n",
      "Converge ... Step 196: Final Loss: 1.058837 ... 1.053344 ... 0.000271 ... 0.005222\n",
      "Converge ... Step 199: Final Loss: 1.104044 ... 1.055210 ... 0.000231 ... 0.048603\n",
      "Converge ... Step 174: Final Loss: 1.405454 ... 1.183091 ... 0.000028 ... 0.222335\n",
      "Converge ... Step 187: Final Loss: 0.996295 ... 0.995962 ... 0.000277 ... 0.000055\n",
      "Converge ... Step 187: Final Loss: 0.996791 ... 0.995961 ... 0.000277 ... 0.000553\n",
      "Converge ... Step 187: Final Loss: 1.001726 ... 0.995971 ... 0.000273 ... 0.005482\n",
      "Converge ... Step 196: Final Loss: 1.048635 ... 0.998449 ... 0.000231 ... 0.049954\n",
      "Converge ... Step 316: Final Loss: 1.352962 ... 1.139729 ... 0.000029 ... 0.213205\n",
      "Converge ... Step 180: Final Loss: 0.958957 ... 0.958485 ... 0.000415 ... 0.000057\n",
      "Converge ... Step 180: Final Loss: 0.959475 ... 0.958487 ... 0.000415 ... 0.000573\n",
      "Converge ... Step 180: Final Loss: 0.964632 ... 0.958534 ... 0.000408 ... 0.005690\n",
      "Converge ... Step 175: Final Loss: 1.014067 ... 0.961012 ... 0.000347 ... 0.052707\n",
      "Converge ... Step 4444: Final Loss: 1.325246 ... 1.105384 ... 0.000038 ... 0.219824\n",
      "0.001\n"
     ]
    }
   ],
   "source": [
    "# IILasso\n",
    "kf = KFold(n_splits=5)\n",
    "# We first initialize the l1-penalty with Lasso optimal l1 and search for correlation penalty\n",
    "corr_norm_list = [1e-5, 1e-4, 1e-3, 1e-2]\n",
    "rmse_val = np.zeros([len(corr_norm_list),])\n",
    "for train_index, test_index in kf.split(X):\n",
    "    for i, corr_norm in enumerate(corr_norm_list):\n",
    "        iilasso.fit(X[train_index], Y[train_index], learning_rate=0.1, l1_norm=l1_lasso, corr_norm=corr_norm)\n",
    "        rmse_val[i] += cal_prediction_error(Y[test_index], iilasso.predict(X[test_index]))\n",
    "opt_corr_iilasso = corr_norm_list[np.argmin(rmse_val)]\n",
    "print(opt_corr_iilasso) #1e-5\n",
    "# Then we fix the correlation penalty and search for l1-penalty\n",
    "l1_norm_list = [1e-5, 1e-4, 1e-3, 1e-2, 1e-1]\n",
    "rmse_val = np.zeros([len(l1_norm_list),])\n",
    "for train_index, test_index in kf.split(X):\n",
    "    for i, l1_norm in enumerate(l1_norm_list):\n",
    "        iilasso.fit(X[train_index],Y[train_index],learning_rate=0.1,l1_norm=l1_norm,corr_norm=opt_corr_iilasso)\n",
    "        rmse_val[i] += cal_prediction_error(Y[test_index], iilasso.predict(X[test_index]))\n",
    "opt_l1_iilasso = l1_norm_list[np.argmin(rmse_val)]\n",
    "print(opt_l1_iilasso) #1e-4"
   ]
  },
  {
   "cell_type": "code",
   "execution_count": 12,
   "metadata": {
    "scrolled": true
   },
   "outputs": [
    {
     "name": "stdout",
     "output_type": "stream",
     "text": [
      "Converge ... Step 206: Final Loss: 0.958451 ... 0.953974 ... 0.000015 ... 0.004462\n",
      "Converge ... Step 207: Final Loss: 0.958581 ... 0.953974 ... 0.000146 ... 0.004461\n",
      "Converge ... Step 207: Final Loss: 0.959887 ... 0.953979 ... 0.001453 ... 0.004454\n",
      "Converge ... Step 207: Final Loss: 0.972771 ... 0.954212 ... 0.014177 ... 0.004382\n",
      "Converge ... Step 195: Final Loss: 0.998366 ... 0.993851 ... 0.000013 ... 0.004501\n",
      "Converge ... Step 195: Final Loss: 0.998485 ... 0.993852 ... 0.000133 ... 0.004500\n",
      "Converge ... Step 198: Final Loss: 0.999677 ... 0.993856 ... 0.001329 ... 0.004492\n",
      "Converge ... Step 195: Final Loss: 1.011454 ... 0.994093 ... 0.012944 ... 0.004417\n",
      "Converge ... Step 196: Final Loss: 1.057656 ... 1.053338 ... 0.000014 ... 0.004304\n",
      "Converge ... Step 197: Final Loss: 1.057778 ... 1.053338 ... 0.000137 ... 0.004303\n",
      "Converge ... Step 197: Final Loss: 1.059008 ... 1.053343 ... 0.001368 ... 0.004296\n",
      "Converge ... Step 197: Final Loss: 1.071135 ... 1.053569 ... 0.013341 ... 0.004225\n",
      "Converge ... Step 187: Final Loss: 1.000497 ... 0.995964 ... 0.000013 ... 0.004520\n",
      "Converge ... Step 187: Final Loss: 1.000614 ... 0.995964 ... 0.000130 ... 0.004519\n",
      "Converge ... Step 187: Final Loss: 1.001779 ... 0.995970 ... 0.001298 ... 0.004511\n",
      "Converge ... Step 187: Final Loss: 1.013265 ... 0.996193 ... 0.012639 ... 0.004432\n",
      "Converge ... Step 180: Final Loss: 0.963219 ... 0.958514 ... 0.000014 ... 0.004691\n",
      "Converge ... Step 179: Final Loss: 0.963349 ... 0.958516 ... 0.000143 ... 0.004690\n",
      "Converge ... Step 180: Final Loss: 0.964634 ... 0.958528 ... 0.001424 ... 0.004682\n",
      "Converge ... Step 177: Final Loss: 0.977311 ... 0.958845 ... 0.013867 ... 0.004599\n",
      "0.01\n",
      "Converge ... Step 206: Final Loss: 0.954045 ... 0.953976 ... 0.000015 ... 0.000055\n",
      "Converge ... Step 206: Final Loss: 0.954534 ... 0.953974 ... 0.000015 ... 0.000546\n",
      "Converge ... Step 208: Final Loss: 0.959408 ... 0.953976 ... 0.000015 ... 0.005418\n",
      "Converge ... Step 213: Final Loss: 1.006292 ... 0.955864 ... 0.000014 ... 0.050414\n",
      "Converge ... Step 127: Final Loss: 1.334475 ... 1.072891 ... 0.000008 ... 0.261576\n",
      "Converge ... Step 196: Final Loss: 0.993916 ... 0.993848 ... 0.000013 ... 0.000055\n",
      "Converge ... Step 195: Final Loss: 0.994411 ... 0.993848 ... 0.000013 ... 0.000550\n",
      "Converge ... Step 198: Final Loss: 0.999331 ... 0.993854 ... 0.000013 ... 0.005464\n",
      "Converge ... Step 203: Final Loss: 1.046686 ... 0.995795 ... 0.000012 ... 0.050879\n",
      "Converge ... Step 285: Final Loss: 1.355797 ... 1.139455 ... 0.000007 ... 0.216336\n",
      "Converge ... Step 197: Final Loss: 1.053404 ... 1.053337 ... 0.000014 ... 0.000053\n",
      "Converge ... Step 196: Final Loss: 1.053877 ... 1.053337 ... 0.000014 ... 0.000526\n",
      "Converge ... Step 198: Final Loss: 1.058579 ... 1.053340 ... 0.000014 ... 0.005225\n",
      "Converge ... Step 201: Final Loss: 1.103826 ... 1.055180 ... 0.000013 ... 0.048633\n",
      "Converge ... Step 114: Final Loss: 1.405888 ... 1.179083 ... 0.000008 ... 0.226797\n",
      "Converge ... Step 188: Final Loss: 0.996031 ... 0.995963 ... 0.000013 ... 0.000055\n",
      "Converge ... Step 185: Final Loss: 0.996531 ... 0.995964 ... 0.000013 ... 0.000554\n",
      "Converge ... Step 188: Final Loss: 1.001467 ... 0.995968 ... 0.000013 ... 0.005486\n",
      "Converge ... Step 198: Final Loss: 1.048415 ... 0.998417 ... 0.000012 ... 0.049985\n",
      "Converge ... Step 149: Final Loss: 1.352936 ... 1.137409 ... 0.000007 ... 0.215520\n",
      "Converge ... Step 181: Final Loss: 0.958552 ... 0.958480 ... 0.000014 ... 0.000057\n",
      "Converge ... Step 180: Final Loss: 0.959072 ... 0.958484 ... 0.000014 ... 0.000574\n",
      "Converge ... Step 180: Final Loss: 0.964235 ... 0.958525 ... 0.000014 ... 0.005696\n",
      "Converge ... Step 175: Final Loss: 1.013731 ... 0.960950 ... 0.000013 ... 0.052768\n",
      "Converge ... Step 451: Final Loss: 1.323847 ... 1.106957 ... 0.000008 ... 0.216882\n",
      "0.001\n"
     ]
    }
   ],
   "source": [
    "# ULasso\n",
    "kf = KFold(n_splits=5)\n",
    "# We first initialize the l1-penalty with Lasso optimal l1 and search for correlation penalty\n",
    "corr_norm_list = [1e-5, 1e-4, 1e-3, 1e-2]\n",
    "rmse_val = np.zeros([len(corr_norm_list),])\n",
    "for train_index, test_index in kf.split(X):\n",
    "    for i, corr_norm in enumerate(corr_norm_list):\n",
    "        ulasso.fit(X[train_index], Y[train_index], learning_rate=0.1, l1_norm=l1_lasso, corr_norm=corr_norm)\n",
    "        rmse_val[i] += cal_prediction_error(Y[test_index], ulasso.predict(X[test_index]))\n",
    "opt_corr_ulasso = corr_norm_list[np.argmin(rmse_val)]\n",
    "print(opt_corr_ulasso) #1e-4\n",
    "# Then we fix the correlation penalty and search for l1-penalty\n",
    "l1_norm_list = [1e-5, 1e-4, 1e-3, 1e-2, 1e-1]\n",
    "rmse_val = np.zeros([len(l1_norm_list),])\n",
    "for train_index, test_index in kf.split(X):\n",
    "    for i, l1_norm in enumerate(l1_norm_list):\n",
    "        ulasso.fit(X[train_index],Y[train_index],learning_rate=0.1,l1_norm=l1_norm,corr_norm=opt_corr_iilasso)\n",
    "        rmse_val[i] += cal_prediction_error(Y[test_index], ulasso.predict(X[test_index]))\n",
    "opt_l1_ulasso = l1_norm_list[np.argmin(rmse_val)]\n",
    "print(opt_l1_ulasso) #1e-5"
   ]
  },
  {
   "cell_type": "code",
   "execution_count": 13,
   "metadata": {
    "scrolled": true
   },
   "outputs": [
    {
     "name": "stdout",
     "output_type": "stream",
     "text": [
      "Converge ... Step 128: Final Loss: 1.015366 ... 0.996703 ... 0.013341 ... 0.005322\n",
      "Converge ... Step 131: Final Loss: 1.002178 ... 0.996446 ... 0.000313 ... 0.005419\n",
      "Converge ... Step 117: Final Loss: 1.018302 ... 1.001180 ... 0.012802 ... 0.004319\n",
      "Converge ... Step 136: Final Loss: 1.005452 ... 1.000820 ... 0.000242 ... 0.004389\n",
      "Converge ... Step 141: Final Loss: 0.978004 ... 0.962696 ... 0.011028 ... 0.004280\n",
      "Converge ... Step 141: Final Loss: 0.967082 ... 0.962493 ... 0.000247 ... 0.004342\n",
      "Converge ... Step 129: Final Loss: 0.997778 ... 0.978782 ... 0.013919 ... 0.005077\n",
      "Converge ... Step 116: Final Loss: 0.984101 ... 0.978518 ... 0.000401 ... 0.005181\n",
      "Converge ... Step 123: Final Loss: 1.058876 ... 1.033102 ... 0.019636 ... 0.006139\n",
      "Converge ... Step 123: Final Loss: 1.039363 ... 1.032658 ... 0.000462 ... 0.006243\n",
      "Converge ... Step 146: Final Loss: 0.980374 ... 0.957188 ... 0.017316 ... 0.005869\n",
      "Converge ... Step 132: Final Loss: 0.963176 ... 0.956814 ... 0.000384 ... 0.005978\n",
      "Converge ... Step 125: Final Loss: 1.094684 ... 1.077588 ... 0.012506 ... 0.004590\n",
      "Converge ... Step 143: Final Loss: 1.082290 ... 1.077312 ... 0.000305 ... 0.004672\n",
      "Converge ... Step 126: Final Loss: 0.936631 ... 0.923327 ... 0.009884 ... 0.003420\n",
      "Converge ... Step 126: Final Loss: 0.926745 ... 0.923158 ... 0.000114 ... 0.003472\n",
      "Converge ... Step 125: Final Loss: 1.082728 ... 1.064315 ... 0.013772 ... 0.004641\n",
      "Converge ... Step 127: Final Loss: 1.069013 ... 1.064053 ... 0.000231 ... 0.004729\n",
      "Converge ... Step 130: Final Loss: 0.982390 ... 0.963633 ... 0.014084 ... 0.004673\n",
      "Converge ... Step 118: Final Loss: 0.968491 ... 0.963450 ... 0.000297 ... 0.004745\n",
      "0.337269847187\n",
      "0.337547887912\n",
      "0.337357655744\n",
      "0.335534703579\n",
      "0.337497021778\n"
     ]
    }
   ],
   "source": [
    "trial_num = 30\n",
    "mae_ols, mae_lasso, mae_elaNet, mae_ulasso, mae_iilasso = [], [], [], [], []\n",
    "for i in range(trial_num):\n",
    "    #print('Trial Num %d' % (i))\n",
    "    X = X_train[i]\n",
    "    Y = Y_train[i]\n",
    "    ols.fit(X, Y, update=True)\n",
    "    lasso.fit(X, Y, update=True)\n",
    "    elaNet.fit(X, Y, alpha=opt_alpha, update=True)\n",
    "    ulasso.fit(X, Y, update=True, l1_norm=opt_l1_ulasso, corr_norm=opt_corr_ulasso)\n",
    "    iilasso.fit(X, Y, update=True, l1_norm=opt_l1_iilasso, corr_norm=opt_corr_iilasso)\n",
    "    mae_ols.append(cal_estimation_error(beta, ols.beta, 'mae'))\n",
    "    mae_lasso.append(cal_estimation_error(beta, lasso.beta, 'mae'))\n",
    "    mae_elaNet.append(cal_estimation_error(beta, elaNet.beta, 'mae'))\n",
    "    mae_ulasso.append(cal_estimation_error(beta, ulasso.beta, 'mae'))\n",
    "    mae_iilasso.append(cal_estimation_error(beta, iilasso.beta, 'mae'))\n",
    "print(np.mean(mae_ols))\n",
    "print(np.mean(mae_lasso))\n",
    "print(np.mean(mae_elaNet))\n",
    "print(np.mean(mae_ulasso))\n",
    "print(np.mean(mae_iilasso))"
   ]
  },
  {
   "cell_type": "code",
   "execution_count": 14,
   "metadata": {},
   "outputs": [
    {
     "name": "stdout",
     "output_type": "stream",
     "text": [
      "0.242498508365\n",
      "0.243866274456\n",
      "0.243473831653\n",
      "0.240102278143\n",
      "0.242798351943\n"
     ]
    }
   ],
   "source": [
    "print(cal_estimation_error(beta, ols.beta_opt))\n",
    "print(cal_estimation_error(beta, lasso.beta_opt))\n",
    "print(cal_estimation_error(beta, elaNet.beta_opt))\n",
    "print(cal_estimation_error(beta, ulasso.beta_opt))\n",
    "print(cal_estimation_error(beta, iilasso.beta_opt))"
   ]
  },
  {
   "cell_type": "code",
   "execution_count": 16,
   "metadata": {},
   "outputs": [
    {
     "name": "stdout",
     "output_type": "stream",
     "text": [
      "Trial Num 0\n",
      "0.255308026418\n"
     ]
    }
   ],
   "source": [
    "our = OLS(beta_true=beta)\n",
    "mae_our = []\n",
    "for i in range(1):\n",
    "    print('Trial Num %d' % (i))\n",
    "    X = X_train[i]\n",
    "    Y = Y_train[i]\n",
    "    w = decorrelation(X, hidden_layer_sizes=(5,), max_iter=500, trial_num=1)\n",
    "    our.fit(X, Y, weights=w, update=True)\n",
    "    mae_our.append(cal_estimation_error(beta, our.beta, 'mae'))\n",
    "print(np.mean(mae_our))"
   ]
  },
  {
   "cell_type": "code",
   "execution_count": 17,
   "metadata": {},
   "outputs": [
    {
     "name": "stdout",
     "output_type": "stream",
     "text": [
      "0.255308026418\n"
     ]
    }
   ],
   "source": [
    "print(cal_estimation_error(beta, our.beta_opt))"
   ]
  },
  {
   "cell_type": "code",
   "execution_count": 18,
   "metadata": {},
   "outputs": [
    {
     "name": "stdout",
     "output_type": "stream",
     "text": [
      "1.46773332946 0.188521993446\n",
      "1.46343778615 0.186375980616\n",
      "1.46119965873 0.185278197916\n",
      "1.44821731888 0.179219311199\n",
      "1.46450249321 0.18695638093\n",
      "1.47165850215 0.171096383237\n"
     ]
    }
   ],
   "source": [
    "rmse_ols, rmse_lasso, rmse_elaNet = np.zeros([trial_num,10]), np.zeros([trial_num,10]), np.zeros([trial_num,10])\n",
    "rmse_ulasso, rmse_iilasso, rmse_our = np.zeros([trial_num,10]), np.zeros([trial_num,10]), np.zeros([trial_num,10])\n",
    "for i in range(trial_num):\n",
    "    X_env, Y_env = X_test[i], Y_test[i]\n",
    "    for j in range(10):\n",
    "        rmse_ols[i, j] += cal_prediction_error(Y_env[j], ols.predict(X_env[j], opt=True))\n",
    "        rmse_lasso[i, j] += cal_prediction_error(Y_env[j], lasso.predict(X_env[j], opt=True))\n",
    "        rmse_elaNet[i, j] += cal_prediction_error(Y_env[j], elaNet.predict(X_env[j], opt=True))\n",
    "        rmse_ulasso[i, j] += cal_prediction_error(Y_env[j], ulasso.predict(X_env[j], opt=True))\n",
    "        rmse_iilasso[i, j] += cal_prediction_error(Y_env[j], iilasso.predict(X_env[j], opt=True))\n",
    "        rmse_our[i, j] += cal_prediction_error(Y_env[j], our.predict(X_env[j], opt=True))\n",
    "print(rmse_ols.mean(axis=0).mean(), rmse_ols.mean(axis=0).std())\n",
    "print(rmse_lasso.mean(axis=0).mean(), rmse_lasso.mean(axis=0).std())\n",
    "print(rmse_elaNet.mean(axis=0).mean(), rmse_elaNet.mean(axis=0).std())\n",
    "print(rmse_ulasso.mean(axis=0).mean(), rmse_ulasso.mean(axis=0).std())\n",
    "print(rmse_iilasso.mean(axis=0).mean(), rmse_iilasso.mean(axis=0).std())\n",
    "print(rmse_our.mean(axis=0).mean(), rmse_our.mean(axis=0).std())"
   ]
  },
  {
   "cell_type": "code",
   "execution_count": null,
   "metadata": {},
   "outputs": [],
   "source": []
  },
  {
   "cell_type": "code",
   "execution_count": null,
   "metadata": {},
   "outputs": [],
   "source": []
  },
  {
   "cell_type": "code",
   "execution_count": null,
   "metadata": {},
   "outputs": [],
   "source": []
  },
  {
   "cell_type": "code",
   "execution_count": null,
   "metadata": {},
   "outputs": [],
   "source": []
  },
  {
   "cell_type": "code",
   "execution_count": null,
   "metadata": {},
   "outputs": [],
   "source": []
  },
  {
   "cell_type": "code",
   "execution_count": null,
   "metadata": {},
   "outputs": [],
   "source": []
  },
  {
   "cell_type": "code",
   "execution_count": 224,
   "metadata": {},
   "outputs": [],
   "source": [
    "rmse_ols, rmse_lasso, rmse_elaNet, rmse_ulasso, rmse_iilasso, rmse_our = [], [], [], [], [], []\n",
    "correlation_list_test = [-0.9, -0.7, -0.5, -0.2, 0, 0.2, 0.5, 0.7, 0.9]\n",
    "for i in range(9):\n",
    "    \n",
    "    mse_ols.append(cal_prediction_error(y_test, ols.predict(x_test), 'rmse'))\n",
    "    mse_lasso.append(cal_prediction_error(y_test, lasso.predict(x_test), 'rmse'))\n",
    "    mse_elaNet.append(cal_prediction_error(y_test, elaNet.predict(x_test), 'rmse'))\n",
    "    mse_our.append(cal_prediction_error(y_test, ols_our.predict(x_test), 'rmse'))\n",
    "#     mse_ols.append(cal_prediction_error(y_test, predict(x_test, beta_ols/10), 'rmse'))\n",
    "#     mse_lasso.append(cal_prediction_error(y_test, predict(x_test, beta_lasso/10), 'rmse'))\n",
    "#     mse_elaNet.append(cal_prediction_error(y_test, predict(x_test, beta_elaNet/10), 'rmse'))\n",
    "#     mse_our.append(cal_prediction_error(y_test, predict(x_test, beta_our/10), 'rmse'))"
   ]
  },
  {
   "cell_type": "code",
   "execution_count": 226,
   "metadata": {},
   "outputs": [
    {
     "name": "stdout",
     "output_type": "stream",
     "text": [
      "ave_RMSE(std) of OLS: 1.3644(0.1587)\n",
      "ave_RMSE(std) of Lasso: 1.3952(0.1743)\n",
      "ave_RMSE(std) of ElasticNet: 1.3979(0.1767)\n",
      "ave_RMSE(std) of IILasso: 1.1838(0.0672)\n"
     ]
    }
   ],
   "source": [
    "print('ave_RMSE(std) of OLS: %.4f(%.4f)'%(np.mean(mse_ols), np.std(mse_ols)))\n",
    "print('ave_RMSE(std) of Lasso: %.4f(%.4f)'%(np.mean(mse_lasso), np.std(mse_lasso)))\n",
    "print('ave_RMSE(std) of ElasticNet: %.4f(%.4f)'%(np.mean(mse_elaNet), np.std(mse_elaNet)))\n",
    "print('ave_RMSE(std) of IILasso: %.4f(%.4f)'%(np.mean(mse_our), np.std(mse_our)))"
   ]
  },
  {
   "cell_type": "code",
   "execution_count": 227,
   "metadata": {},
   "outputs": [
    {
     "name": "stdout",
     "output_type": "stream",
     "text": [
      "0\n"
     ]
    },
    {
     "name": "stderr",
     "output_type": "stream",
     "text": [
      "/home/zyshen/.local/lib/python3.6/site-packages/sklearn/neural_network/multilayer_perceptron.py:568: UserWarning: Training interrupted by user.\n",
      "  warnings.warn(\"Training interrupted by user.\")\n",
      "/home/zyshen/.local/lib/python3.6/site-packages/sklearn/neural_network/multilayer_perceptron.py:568: UserWarning: Training interrupted by user.\n",
      "  warnings.warn(\"Training interrupted by user.\")\n"
     ]
    },
    {
     "name": "stdout",
     "output_type": "stream",
     "text": [
      "1\n"
     ]
    },
    {
     "name": "stderr",
     "output_type": "stream",
     "text": [
      "/home/zyshen/.local/lib/python3.6/site-packages/sklearn/neural_network/multilayer_perceptron.py:566: ConvergenceWarning: Stochastic Optimizer: Maximum iterations (300) reached and the optimization hasn't converged yet.\n",
      "  % self.max_iter, ConvergenceWarning)\n",
      "/home/zyshen/.local/lib/python3.6/site-packages/sklearn/neural_network/multilayer_perceptron.py:566: ConvergenceWarning: Stochastic Optimizer: Maximum iterations (300) reached and the optimization hasn't converged yet.\n",
      "  % self.max_iter, ConvergenceWarning)\n",
      "/home/zyshen/.local/lib/python3.6/site-packages/sklearn/neural_network/multilayer_perceptron.py:566: ConvergenceWarning: Stochastic Optimizer: Maximum iterations (300) reached and the optimization hasn't converged yet.\n",
      "  % self.max_iter, ConvergenceWarning)\n"
     ]
    },
    {
     "name": "stdout",
     "output_type": "stream",
     "text": [
      "2\n",
      "3\n",
      "4\n"
     ]
    },
    {
     "name": "stderr",
     "output_type": "stream",
     "text": [
      "/home/zyshen/.local/lib/python3.6/site-packages/sklearn/neural_network/multilayer_perceptron.py:566: ConvergenceWarning: Stochastic Optimizer: Maximum iterations (300) reached and the optimization hasn't converged yet.\n",
      "  % self.max_iter, ConvergenceWarning)\n",
      "/home/zyshen/.local/lib/python3.6/site-packages/sklearn/neural_network/multilayer_perceptron.py:566: ConvergenceWarning: Stochastic Optimizer: Maximum iterations (300) reached and the optimization hasn't converged yet.\n",
      "  % self.max_iter, ConvergenceWarning)\n",
      "/home/zyshen/.local/lib/python3.6/site-packages/sklearn/neural_network/multilayer_perceptron.py:566: ConvergenceWarning: Stochastic Optimizer: Maximum iterations (300) reached and the optimization hasn't converged yet.\n",
      "  % self.max_iter, ConvergenceWarning)\n"
     ]
    },
    {
     "name": "stdout",
     "output_type": "stream",
     "text": [
      "5\n"
     ]
    },
    {
     "name": "stderr",
     "output_type": "stream",
     "text": [
      "/home/zyshen/.local/lib/python3.6/site-packages/sklearn/neural_network/multilayer_perceptron.py:566: ConvergenceWarning: Stochastic Optimizer: Maximum iterations (300) reached and the optimization hasn't converged yet.\n",
      "  % self.max_iter, ConvergenceWarning)\n"
     ]
    },
    {
     "name": "stdout",
     "output_type": "stream",
     "text": [
      "6\n"
     ]
    },
    {
     "name": "stderr",
     "output_type": "stream",
     "text": [
      "/home/zyshen/.local/lib/python3.6/site-packages/sklearn/neural_network/multilayer_perceptron.py:566: ConvergenceWarning: Stochastic Optimizer: Maximum iterations (300) reached and the optimization hasn't converged yet.\n",
      "  % self.max_iter, ConvergenceWarning)\n"
     ]
    },
    {
     "name": "stdout",
     "output_type": "stream",
     "text": [
      "7\n",
      "8\n",
      "9\n"
     ]
    }
   ],
   "source": [
    "correlation_list = [0.1, 0.2, 0.3, 0.4, 0.5, 0.6, 0.7, 0.8, 0.9]\n",
    "beta = np.array([[1],[-1.5],[1],[1.5],[1],[-1.5],[1],[1.5],[1],[-1.5]])\n",
    "#beta = np.array([[0],[1]])\n",
    "exp_num = 10\n",
    "sample_size = 2000\n",
    "p = 10\n",
    "\n",
    "beta_ols = np.zeros((exp_num, len(correlation_list), p))\n",
    "bias_ols = np.zeros((len(correlation_list), p))\n",
    "var_ols = np.zeros((len(correlation_list), p))\n",
    "mae_ols = np.zeros((len(correlation_list), 1))\n",
    "beta_lasso = np.zeros((exp_num, len(correlation_list), p))\n",
    "bias_lasso = np.zeros((len(correlation_list), p))\n",
    "var_lasso = np.zeros((len(correlation_list), p))\n",
    "mae_lasso = np.zeros((len(correlation_list), 1))\n",
    "\n",
    "min_mae = 1e10;\n",
    "ols = OLS()\n",
    "ols_our = OLS()\n",
    "for ind in range(exp_num):\n",
    "    print(ind)\n",
    "    for indx, rho in enumerate(correlation_list):\n",
    "        X = generate_block_data(sample_size=sample_size, block_size=5, block_num=2, rho=rho)\n",
    "        Y = linear_model_generation(X, beta, magnitude=0.5, degree=5)\n",
    "        ols.fit(x=X, y=Y)\n",
    "        beta_ols[ind, indx] = ols.beta.T\n",
    "        mae_ols[indx, 0] += cal_estimation_error(beta, ols.beta, 'mae')\n",
    "#             if mae_ols[indx, 0] < min_mae:\n",
    "#                 min_mae = mae_ols[indx, 0]\n",
    "#                 min_beta = ols.beta\n",
    "        ols_our.fit(x=X, y=Y, sample_weight=decorrelation(X, hidden_layer_sizes=(5,5)))\n",
    "        beta_lasso[ind, indx] = ols_our.beta.T\n",
    "        mae_lasso[indx, 0] += cal_estimation_error(beta, ols_our.beta, 'mae')\n",
    "mae_lasso /= exp_num; mae_ols/=exp_num"
   ]
  },
  {
   "cell_type": "code",
   "execution_count": 5,
   "metadata": {},
   "outputs": [
    {
     "data": {
      "text/plain": [
       "Text(0, 0.5, 'Esimation Error (MAE)')"
      ]
     },
     "execution_count": 5,
     "metadata": {},
     "output_type": "execute_result"
    },
    {
     "data": {
      "image/png": "[encoded data removed]",
      "text/plain": [
       "<Figure size 1000x500 with 1 Axes>"
      ]
     },
     "metadata": {
      "needs_background": "light"
     },
     "output_type": "display_data"
    }
   ],
   "source": [
    "plt.figure(figsize=(10,5), dpi=100)\n",
    "plt.plot(correlation_list, mae_ols, color='blue', linewidth=1.5, marker='o', label='OLS')\n",
    "plt.plot(correlation_list, mae_lasso, color='green', linewidth=1.5, marker='x', label='OLS+Reweighting')\n",
    "# plt.xscale('log'); \n",
    "plt.title('Estimation Performance Under Various Correlation Level'); \n",
    "plt.legend(loc='upper left', frameon=False)\n",
    "plt.xlabel('Sample correlation on training data', fontsize=12, fontweight='bold')\n",
    "plt.ylabel('Esimation Error (MAE)', fontsize=12, fontweight='bold')"
   ]
  },
  {
   "cell_type": "code",
   "execution_count": 6,
   "metadata": {},
   "outputs": [
    {
     "name": "stdout",
     "output_type": "stream",
     "text": [
      "[[ 0.10671254]\n",
      " [ 0.11984529]\n",
      " [ 0.12391799]\n",
      " [ 0.13725018]\n",
      " [ 0.14696776]\n",
      " [ 0.15992719]\n",
      " [ 0.17991931]\n",
      " [ 0.23081571]\n",
      " [ 0.32265224]]\n",
      "[[ 0.10319573]\n",
      " [ 0.11473402]\n",
      " [ 0.12023888]\n",
      " [ 0.13273339]\n",
      " [ 0.13488902]\n",
      " [ 0.15540341]\n",
      " [ 0.16232701]\n",
      " [ 0.22924922]\n",
      " [ 0.3223956 ]]\n"
     ]
    }
   ],
   "source": [
    "print(mae_ols)\n",
    "print(mae_lasso)\n",
    "# bias_ols = (beta_ols.mean(axis=0)-beta.T)\n",
    "# print(bias_ols)\n",
    "# var_ols = beta_ols.std(axis=0)\n",
    "# print(var_ols)\n",
    "# bias_lasso = (beta_lasso.mean(axis=0)-beta.T)\n",
    "# print(bias_lasso)\n",
    "# var_lasso = beta_lasso.std(axis=0)\n",
    "# print(var_lasso)"
   ]
  },
  {
   "cell_type": "markdown",
   "metadata": {},
   "source": [
    "From the figure above, we can find that:\n",
    "- When correlation is severe, the performance of Lasso and OLS would generally degrade\n",
    "- OLS is more sensitive to strong correlation than Lasso under model misspecification"
   ]
  },
  {
   "cell_type": "markdown",
   "metadata": {},
   "source": [
    "### 1.2 How correlation influnce outcome prediction\n",
    "In this part, we examine the impact of correlation on outcome predicton, especially stability across different testing scenario.  \n",
    "We follow the above $\\beta$ setting. And for each $\\rho$ on training data, we test the model over various conrleation condition on test data, calculate average RMSE and standard deviation as prediction error and stability."
   ]
  },
  {
   "cell_type": "code",
   "execution_count": 19,
   "metadata": {},
   "outputs": [],
   "source": [
    "seed_list = map(int, np.linspace(1, 96, 20))\n",
    "correlation_list = [0.2, 0.4, 0.6, 0.8, 0.85, 0.9, 0.95, 0.99]\n",
    "correlation_list_test = [-0.9, -0.7, -0.5, -0.2, 0, 0.2, 0.5, 0.7, 0.9]\n",
    "beta_toy = np.array([[0], [1.0]])\n",
    "\n",
    "rmse_ols = np.zeros((len(correlation_list),1))\n",
    "std_ols = np.zeros((len(correlation_list),1))\n",
    "rmse_lasso = np.zeros((len(correlation_list),1))\n",
    "std_lasso = np.zeros((len(correlation_list),1))\n",
    "\n",
    "for ind in range(30):\n",
    "        for indx, rho in enumerate(correlation_list):\n",
    "            X_toy_train = generate_block_data(500, 2, 1, rho)      \n",
    "            Y_toy_train = linear_model_generation(X_toy_train, beta_toy, magnitude=0.2)\n",
    "            _ = ols.fit(x=X_toy_train, y=Y_toy_train)\n",
    "            _ = lasso.fit(x=X_toy_train, y=Y_toy_train)\n",
    "            rmse_ols_x = []; rmse_lasso_x = []\n",
    "            for rho_test in correlation_list_test:\n",
    "                X_toy_test = generate_block_data(500, 2, 1, rho_test)\n",
    "                rmse_ols_x.append(cal_prediction_error(\n",
    "                                                    y_true = linear_model_generation(X_toy_test, beta_toy),\n",
    "                                                    y_predict = ols.predict(X_toy_test)))\n",
    "                rmse_lasso_x.append(cal_prediction_error(\n",
    "                                                    y_true = linear_model_generation(X_toy_test, beta_toy),\n",
    "                                                    y_predict = lasso.predict(X_toy_test)))\n",
    "            rmse_lasso[indx, 0] += np.mean(np.asarray(rmse_lasso_x))\n",
    "            rmse_ols[indx, 0] += np.mean(np.asarray(rmse_ols_x))\n",
    "            std_lasso[indx,0] += np.std(np.asarray(rmse_lasso_x))\n",
    "            std_ols[indx,0] += np.std(np.asarray(rmse_ols_x))\n",
    "rmse_lasso/=30; rmse_ols/=30\n",
    "std_lasso/=30; std_ols/=30"
   ]
  },
  {
   "cell_type": "code",
   "execution_count": 20,
   "metadata": {},
   "outputs": [
    {
     "data": {
      "text/plain": [
       "Text(0, 0.5, 'Stability (STD)')"
      ]
     },
     "execution_count": 20,
     "metadata": {},
     "output_type": "execute_result"
    },
    {
     "data": {
      "image/png": "[encoded data removed]",
      "text/plain": [
       "<Figure size 1000x1000 with 2 Axes>"
      ]
     },
     "metadata": {
      "needs_background": "light"
     },
     "output_type": "display_data"
    }
   ],
   "source": [
    "# RMSE\n",
    "plt.figure(figsize=(10, 10), dpi=100)\n",
    "ind = np.arange(len(correlation_list))    # the x locations for the groups\n",
    "\n",
    "width = 0.15       # the width of the bars\n",
    "ax=plt.subplot(211)\n",
    "plt.bar(ind, rmse_ols.squeeze(), width, color='blue', label='OLS')\n",
    "plt.bar(ind + width + 0.01, rmse_lasso.squeeze(), width, color='green', label='Lasso')\n",
    "plt.legend(loc='upper left', frameon=False); \n",
    "ax.set_xticks(ind + width/2); \n",
    "ax.set_xticklabels(('0.99', '0.995', '0.999', '0.9995', '0.9999', '0.99995', '0.99999'))\n",
    "plt.title('Prediction performance over wild test scenario')\n",
    "#plt.xlabel('Pearson correlation on training data', fontsize=12)\n",
    "plt.ylabel('Average RMSE', fontsize=12)\n",
    "# STD\n",
    "ax=plt.subplot(212)\n",
    "plt.bar(ind, std_ols.squeeze(), width, color='blue', label='OLS')\n",
    "plt.bar(ind + width + 0.01, std_lasso.squeeze(), width, color='green', label='Lasso')\n",
    "plt.legend(loc='upper left', frameon=False); \n",
    "ax.set_xticks(ind + width/2); \n",
    "ax.set_xticklabels(('0.99', '0.995', '0.999', '0.9995', '0.9999', '0.99995', '0.99999'))\n",
    "plt.title('Prediction stability over wild test scenario')\n",
    "plt.xlabel('Pearson correlation on training data', fontsize=12)\n",
    "plt.ylabel('Stability (STD)', fontsize=12)"
   ]
  },
  {
   "cell_type": "markdown",
   "metadata": {},
   "source": [
    "### 1.3 Covariate Decorrelation by Density Ratio Estimation and Adaptation\n",
    "\n",
    "In order to estimate $w(x)$, we first generate $x_k'$ from $x_i$ by column-wise (or feature-wise) random sampling, then we use a probabilistic classifier to seperate $x_i$ and $x_k'$. Such as logistic regression:\n",
    "\n",
    "$$f ( x ) = \\arg \\min _ { f } \\left[ \\sum _ { k = 1 } ^ { n } \\log \\left( 1 + \\exp \\left( - f \\left( x _ { k } ^ { \\prime } \\right) \\right) \\right) + \\sum _ { i = 1 } ^ { n } \\log \\left( 1 + \\exp \\left( f \\left( x _ { i } \\right) \\right) \\right) \\right]$$\n",
    "\n",
    "In the experiment, we instantiate $f(x)$ as an one-hidden-layer neural network, and finally we can get $w(x)$ as:\n",
    "$$ w(x) = \\frac { p _ { \\tilde { D } } ( x ) } { p _ { D ( x ) } } = e^{f(x)}$$\n",
    "\n",
    "We combine the sample weight into Lasso and evaluate the estimation performance as well as prediction performance."
   ]
  },
  {
   "cell_type": "code",
   "execution_count": 29,
   "metadata": {},
   "outputs": [],
   "source": [
    "seed_list = map(int, np.linspace(1, 96, 20))\n",
    "correlation_list = [0.2, 0.4, 0.6, 0.8, 0.85, 0.9, 0.95, 0.99]\n",
    "beta_toy = np.array([[0], [1.0]])\n",
    "\n",
    "beta_ols = np.zeros((20, len(correlation_list), 2))\n",
    "bias_ols = np.zeros((len(correlation_list),2))\n",
    "var_ols = np.zeros((len(correlation_list),2))\n",
    "mae_ols = np.zeros((len(correlation_list),1))\n",
    "beta_lasso = np.zeros((20, len(correlation_list), 2))\n",
    "bias_lasso = np.zeros((len(correlation_list),2))\n",
    "var_lasso = np.zeros((len(correlation_list),2))\n",
    "mae_lasso = np.zeros((len(correlation_list),1))\n",
    "beta_olsx = np.zeros((20, len(correlation_list), 2))\n",
    "bias_olsx = np.zeros((len(correlation_list),2))\n",
    "var_olsx = np.zeros((len(correlation_list),2))\n",
    "mae_olsx = np.zeros((len(correlation_list),1))\n",
    "beta_lassox = np.zeros((20, len(correlation_list), 2))\n",
    "bias_lassox = np.zeros((len(correlation_list),2))\n",
    "var_lassox = np.zeros((len(correlation_list),2))\n",
    "mae_lassox = np.zeros((len(correlation_list),1))\n",
    "\n",
    "rmse_ols = np.zeros((len(correlation_list),1))\n",
    "std_ols = np.zeros((len(correlation_list),1))\n",
    "rmse_lasso = np.zeros((len(correlation_list),1))\n",
    "std_lasso = np.zeros((len(correlation_list),1))\n",
    "rmse_olsx = np.zeros((len(correlation_list),1))\n",
    "std_olsx = np.zeros((len(correlation_list),1))\n",
    "rmse_lassox = np.zeros((len(correlation_list),1))\n",
    "std_lassox = np.zeros((len(correlation_list),1))\n",
    "\n",
    "lasso = Lasso()\n",
    "ols = OLS()\n",
    "lassox = Lasso()\n",
    "olsx = OLS()\n",
    "for ind in range(20): # Run the experiment for 20 times\n",
    "        for indx, rho in enumerate(correlation_list):\n",
    "            X_toy = generate_block_data(500, 2, 1, rho)      \n",
    "            Y_toy = linear_model_generation(X_toy, beta_toy, magnitude=0.1)\n",
    "            w = decorrelation(X_toy)\n",
    "            _ = ols.fit(x=X_toy, y=Y_toy)\n",
    "            beta_ols[ind, indx] = ols.beta.T\n",
    "            mae_ols[indx, 0] += cal_estimation_error(beta_toy, ols.beta, 'mae')            \n",
    "#             _ = lasso.fit(x=X_toy, y=Y_toy)\n",
    "#             beta_lasso[ind, indx] = lasso.beta.T\n",
    "#             mae_lasso[indx, 0] += cal_estimation_error(beta_toy, lasso.beta, 'mae')\n",
    "            \n",
    "            _ = olsx.fit(x=X_toy, y=Y_toy, sample_weight=w)\n",
    "            beta_olsx[ind, indx] = olsx.beta.T\n",
    "            mae_olsx[indx, 0] += cal_estimation_error(beta_toy, olsx.beta, 'mae')            \n",
    "#             _ = lassox.fit(x=X_toy, y=Y_toy, weights=w)\n",
    "#             beta_lassox[ind, indx] = lassox.beta.T\n",
    "#             mae_lassox[indx, 0] += cal_estimation_error(beta_toy, lassox.beta, 'mae')\n",
    "            \n",
    "            rmse_ols_x = []; rmse_lasso_x = []; rmse_olsx_x = []; rmse_lassox_x = []\n",
    "            for rho_test in correlation_list_test:\n",
    "                X_toy_test = generate_block_data(1000, 2, 1, rho_test)\n",
    "                rmse_ols_x.append(cal_prediction_error(\n",
    "                                                    y_true = linear_model_generation(X_toy_test, beta_toy, magnitude=0.2),\n",
    "                                                    y_predict = ols.predict(X_toy_test)))\n",
    "#                 rmse_lasso_x.append(cal_prediction_error(\n",
    "#                                                     y_true = linear_model_generation(X_toy_test, beta_toy, delta=2, seed=666),\n",
    "#                                                     y_predict = lasso.predict(X_toy_test)))\n",
    "                rmse_olsx_x.append(cal_prediction_error(\n",
    "                                                    y_true = linear_model_generation(X_toy_test, beta_toy, magnitude=0.2),\n",
    "                                                    y_predict = olsx.predict(X_toy_test)))\n",
    "#                 rmse_lassox_x.append(cal_prediction_error(\n",
    "#                                                     y_true = linear_model_generation(X_toy_test, beta_toy, delta=2, seed=666),\n",
    "#                                                     y_predict = lassox.predict(X_toy_test)))\n",
    "#             rmse_lasso[indx, 0] += np.mean(np.asarray(rmse_lasso_x))\n",
    "            rmse_ols[indx, 0] += np.mean(np.asarray(rmse_ols_x))\n",
    "#             rmse_lassox[indx, 0] += np.mean(np.asarray(rmse_lassox_x))\n",
    "            rmse_olsx[indx, 0] += np.mean(np.asarray(rmse_olsx_x))\n",
    "#             std_lasso[indx,0] += np.std(np.asarray(rmse_lasso_x))\n",
    "            std_ols[indx,0] += np.std(np.asarray(rmse_ols_x))\n",
    "#             std_lassox[indx,0] += np.std(np.asarray(rmse_lassox_x))\n",
    "            std_olsx[indx,0] += np.std(np.asarray(rmse_olsx_x))\n",
    "rmse_lasso/=20; rmse_ols/=20;rmse_lassox/=20; rmse_olsx/=20\n",
    "std_lasso/=20; std_ols/=20; std_lassox/=20; std_olsx/=20\n",
    "            \n",
    "mae_lasso /= 20; mae_ols/=20; mae_olsx/=20; mae_lassox/=20"
   ]
  },
  {
   "cell_type": "code",
   "execution_count": 30,
   "metadata": {},
   "outputs": [
    {
     "data": {
      "text/plain": [
       "Text(0, 0.5, 'Esimation Error (MAE)')"
      ]
     },
     "execution_count": 30,
     "metadata": {},
     "output_type": "execute_result"
    },
    {
     "data": {
      "image/png": "[encoded data removed]",
      "text/plain": [
       "<Figure size 1000x500 with 1 Axes>"
      ]
     },
     "metadata": {
      "needs_background": "light"
     },
     "output_type": "display_data"
    }
   ],
   "source": [
    "plt.figure(figsize=(10,5), dpi=100)\n",
    "plt.plot(correlation_list, mae_ols, color='blue', linewidth=1.5, marker='o', label='OLS')\n",
    "#plt.plot(correlation_list, mae_lasso, color='green', linewidth=1.5, marker='x', label='Lasso')\n",
    "plt.plot(correlation_list, mae_olsx, color='cyan', linewidth=1.5, marker='o', label='OLS+Reweight')\n",
    "#plt.plot(correlation_list, mae_lassox, color='red', linewidth=1.5, marker='x', label='Lasso+Reweight')\n",
    "#plt.xscale('log'); \n",
    "plt.title('Estimation Performance Under Various Correlation Level'); \n",
    "plt.legend(loc='upper left', frameon=False)\n",
    "plt.xlabel('Pearson correlation on training data', fontsize=12, fontweight='bold')\n",
    "plt.ylabel('Esimation Error (MAE)', fontsize=12, fontweight='bold')"
   ]
  },
  {
   "cell_type": "code",
   "execution_count": 31,
   "metadata": {},
   "outputs": [
    {
     "data": {
      "text/plain": [
       "Text(0, 0.5, 'Stability (STD)')"
      ]
     },
     "execution_count": 31,
     "metadata": {},
     "output_type": "execute_result"
    },
    {
     "data": {
      "image/png": "[encoded data removed]",
      "text/plain": [
       "<Figure size 1000x1000 with 2 Axes>"
      ]
     },
     "metadata": {
      "needs_background": "light"
     },
     "output_type": "display_data"
    }
   ],
   "source": [
    "# RMSE\n",
    "plt.figure(figsize=(10, 10), dpi=100)\n",
    "ind = np.arange(len(correlation_list))    # the x locations for the groups\n",
    "\n",
    "width = 0.25         # the width of the bars\n",
    "ax=plt.subplot(211)\n",
    "plt.bar(ind, rmse_ols.squeeze(), width, color='blue', label='OLS')\n",
    "# plt.bar(ind + width, rmse_lasso.squeeze(), width, color='green', label='Lasso')\n",
    "plt.bar(ind + 2*width , rmse_olsx.squeeze(), width, color='cyan', label='OLS+Reweight')\n",
    "# plt.bar(ind + 2*width, rmse_lassox.squeeze(), width, color='red', label='Lasso+Reweight')\n",
    "plt.legend(loc='upper left', frameon=False); \n",
    "ax.set_xticks(ind + width); \n",
    "ax.set_xticklabels(( '0.999', '0.9995', '0.9999', '0.99995', '0.99999'))\n",
    "plt.title('Prediction performance over  wild test scenario')\n",
    "#plt.xlabel('Pearson correlation on training data', fontsize=12)\n",
    "plt.ylabel('Average RMSE', fontsize=12)\n",
    "# STD\n",
    "ax=plt.subplot(212)\n",
    "plt.bar(ind, std_ols.squeeze(), width, color='blue', label='OLS')\n",
    "# plt.bar(ind + width, std_lasso.squeeze(), width, color='green', label='Lasso')\n",
    "plt.bar(ind+2*width, std_olsx.squeeze(), width, color='cyan', label='OLS+Reweight')\n",
    "# plt.bar(ind + 2*width, std_lassox.squeeze(), width, color='red', label='Lasso+Reweight')\n",
    "plt.legend(loc='upper left', frameon=False); \n",
    "ax.set_xticks(ind + width); \n",
    "ax.set_xticklabels(('0.999', '0.9995', '0.9999', '0.99995', '0.99999'))\n",
    "plt.title('Prediction stability over wild test scenario')\n",
    "plt.xlabel('Pearson correlation on training data', fontsize=12)\n",
    "plt.ylabel('Stability (STD)', fontsize=12)"
   ]
  },
  {
   "cell_type": "markdown",
   "metadata": {},
   "source": [
    "Some findings and questions:\n",
    "- New sample weights do help in a range of $\\rho$ (>0.999 and <0.99999), but the correlation seems too strong to be satisfied in real data\n",
    "- Computing $w(x)$ is an unsupervised process, however, we've found in experiments that adaptation from original distribution to column decorrelated distribution is always at odds with effective sample size. How to define a set of good sample weights in unsupervised way? "
   ]
  },
  {
   "cell_type": "code",
   "execution_count": 399,
   "metadata": {},
   "outputs": [],
   "source": [
    "X = generate_block_data(sample_size=5000, block_size=2, block_num=5, rho=0.7)\n",
    "Y = linear_model_generation(X, beta, magnitude=1.5, degree=5)\n",
    "w = decorrelation(X)\n",
    "#w = variable_decorrelation(X, Y, learning_rate = 1e-4, weight_l2 = 200, log_name = 'synthetic_main', \n",
    "                          #max_iter = 15000, display_iter = 500, max_to_keep = 10, log_scale=True)"
   ]
  },
  {
   "cell_type": "code",
   "execution_count": 400,
   "metadata": {},
   "outputs": [
    {
     "data": {
      "text/plain": [
       "(0.7048424736486907, 0.2951575263513093)"
      ]
     },
     "execution_count": 400,
     "metadata": {},
     "output_type": "execute_result"
    }
   ],
   "source": [
    "weighted_corrcoef(X[:, 4:6], np.ones([5000, 1]))[1:]"
   ]
  },
  {
   "cell_type": "code",
   "execution_count": 401,
   "metadata": {},
   "outputs": [
    {
     "data": {
      "text/plain": [
       "(0.6464971804501052, 0.35350281954989493)"
      ]
     },
     "execution_count": 401,
     "metadata": {},
     "output_type": "execute_result"
    }
   ],
   "source": [
    "weighted_corrcoef(X[:, 4:6], w)[1:]"
   ]
  },
  {
   "cell_type": "code",
   "execution_count": 402,
   "metadata": {},
   "outputs": [
    {
     "name": "stdout",
     "output_type": "stream",
     "text": [
      "0.5605187811301879\n",
      "0.556626303288188\n"
     ]
    }
   ],
   "source": [
    "ols=OLS()\n",
    "ols.fit(X,Y)\n",
    "print(cal_estimation_error(beta, ols.beta))\n",
    "ols.fit(X,Y,sample_weight=w.squeeze())\n",
    "print(cal_estimation_error(beta, ols.beta))"
   ]
  },
  {
   "cell_type": "code",
   "execution_count": 216,
   "metadata": {},
   "outputs": [
    {
     "name": "stdout",
     "output_type": "stream",
     "text": [
      "(1000,)\n",
      "(1000,)\n",
      "(1000,)\n",
      "(1000,)\n",
      "(1000,)\n",
      "(1000,)\n",
      "(1000,)\n",
      "(1000,)\n",
      "(1000,)\n",
      "(1000,)\n",
      "0.21896590788263132 0.21910570949762892 0.16085659309847442 0.16098682954344568 0.1603675550964615\n"
     ]
    }
   ],
   "source": [
    "mse_l, mse, mse_re, mse_be, mse_we = 0, 0, 0, 0, 0\n",
    "for i in range(10):\n",
    "    X = generate_block_data(sample_size=1000, block_size=2, block_num=1, rho=0.8)\n",
    "    Y = linear_model_generation(X, np.array([[1],[0]]), magnitude=0.2, degree=1)\n",
    "    ols = Lasso()\n",
    "    ols.fit(X, Y)\n",
    "    mse_l += cal_estimation_error(np.array([[1],[0]]), ols.beta, 'mae')\n",
    "    lasso = OLS()\n",
    "    lasso.fit(X,Y)\n",
    "    mse += cal_estimation_error(np.array([[1],[0]]), lasso.beta, 'mae')\n",
    "    w = decorrelation(X)\n",
    "    print(w.shape)\n",
    "    lasso.fit(X,Y,sample_weight=w)\n",
    "    mse_re += cal_estimation_error(np.array([[1],[0]]), lasso.beta, 'mae')\n",
    "    w_ave = np.zeros([1000,])\n",
    "    be_ave = np.zeros([2,1])\n",
    "    for j in range(5):\n",
    "        w = decorrelation(X)\n",
    "        w_ave += w\n",
    "        lasso.fit(X,Y,sample_weight=w)\n",
    "        be_ave += lasso.beta\n",
    "    be_ave /= 5\n",
    "    mse_be += cal_estimation_error(np.array([[1],[0]]), be_ave, 'mae')\n",
    "    lasso.fit(X,Y,sample_weight=w_ave/5)\n",
    "    mse_we += cal_estimation_error(np.array([[1],[0]]), lasso.beta, 'mae')\n",
    "print(mse_l/10, mse/10, mse_re/10, mse_be/10, mse_we/10)"
   ]
  },
  {
   "cell_type": "code",
   "execution_count": 206,
   "metadata": {},
   "outputs": [
    {
     "data": {
      "text/plain": [
       "(array([[1.       , 0.5818195],\n",
       "        [0.5818195, 1.       ]]), 0.5818194993848254, 0.41818050061517464)"
      ]
     },
     "execution_count": 206,
     "metadata": {},
     "output_type": "execute_result"
    }
   ],
   "source": [
    "weighted_corrcoef(X, decorrelation(X))"
   ]
  },
  {
   "cell_type": "code",
   "execution_count": 77,
   "metadata": {},
   "outputs": [
    {
     "name": "stdout",
     "output_type": "stream",
     "text": [
      "[[0.64924728]\n",
      " [0.38953467]]\n"
     ]
    },
    {
     "name": "stderr",
     "output_type": "stream",
     "text": [
      "/home/zyshen/.local/lib/python3.6/site-packages/sklearn/neural_network/multilayer_perceptron.py:562: ConvergenceWarning: Stochastic Optimizer: Maximum iterations (200) reached and the optimization hasn't converged yet.\n",
      "  % self.max_iter, ConvergenceWarning)\n"
     ]
    },
    {
     "name": "stdout",
     "output_type": "stream",
     "text": [
      "[[0.84907099]\n",
      " [0.14582929]]\n",
      "[[0.84266944]\n",
      " [0.15774037]]\n"
     ]
    }
   ],
   "source": [
    "X = generate_block_data(sample_size=1000, block_size=2, block_num=1, rho=0.9)\n",
    "Y = linear_model_generation(X, np.array([[1],[0]]), magnitude=0.2, degree=1)\n",
    "ols = Lasso()\n",
    "beta = np.ones([2,1])\n",
    "ols.fit(X, Y)\n",
    "print(ols.beta)\n",
    "w = decorrelation(X, max_iter=200)\n",
    "ols.fit(X, Y, weights=w)\n",
    "print(ols.beta)\n",
    "w = decorrelation(X, max_iter=300)\n",
    "ols.fit(X, Y, weights=w)\n",
    "print(ols.beta)"
   ]
  },
  {
   "cell_type": "code",
   "execution_count": 95,
   "metadata": {},
   "outputs": [],
   "source": [
    "X = generate_block_data(sample_size=1000, block_size=2, block_num=1, rho=0.99)\n",
    "w_stat = weighted_stat(X, np.ones([1000,1]))"
   ]
  },
  {
   "cell_type": "code",
   "execution_count": 96,
   "metadata": {},
   "outputs": [
    {
     "data": {
      "text/plain": [
       "array([  1.        , 206.21034352])"
      ]
     },
     "execution_count": 96,
     "metadata": {},
     "output_type": "execute_result"
    }
   ],
   "source": [
    "w_stat['CI']"
   ]
  },
  {
   "cell_type": "code",
   "execution_count": 97,
   "metadata": {},
   "outputs": [
    {
     "data": {
      "text/plain": [
       "206.21034351753792"
      ]
     },
     "execution_count": 97,
     "metadata": {},
     "output_type": "execute_result"
    }
   ],
   "source": [
    "w_stat['CN']"
   ]
  },
  {
   "cell_type": "code",
   "execution_count": 88,
   "metadata": {},
   "outputs": [],
   "source": [
    "np.linalg.cond?"
   ]
  },
  {
   "cell_type": "code",
   "execution_count": 213,
   "metadata": {},
   "outputs": [
    {
     "name": "stdout",
     "output_type": "stream",
     "text": [
      "Original Correlation:  0.111028111567\n",
      "Original Collinearity:  8.78421034306\n"
     ]
    }
   ],
   "source": [
    "#X = generate_block_data(sample_size=2000, block_size=5, block_num=2, rho=0.9)\n",
    "w = decorrelation(X, max_iter=500, trial_num=3, hidden_layer_sizes=(5,5))\n",
    "w_stat = weighted_stat(X, w)\n",
    "print('Original Correlation: ', w_stat['mean_corr'])\n",
    "print('Original Collinearity: ', w_stat['CN'])"
   ]
  },
  {
   "cell_type": "code",
   "execution_count": 215,
   "metadata": {},
   "outputs": [
    {
     "name": "stdout",
     "output_type": "stream",
     "text": [
      "Original Correlation:  0.0968972291152\n",
      "Original Collinearity:  9.45955503084\n"
     ]
    }
   ],
   "source": [
    "w_stat = weighted_stat(X, np.ones(Y.shape))\n",
    "print('Original Correlation: ', w_stat['mean_corr'])\n",
    "print('Original Collinearity: ', w_stat['CN'])"
   ]
  },
  {
   "cell_type": "code",
   "execution_count": 120,
   "metadata": {},
   "outputs": [],
   "source": [
    "np.set_printoptions(suppress=True)"
   ]
  },
  {
   "cell_type": "code",
   "execution_count": 8,
   "metadata": {},
   "outputs": [],
   "source": []
  },
  {
   "cell_type": "code",
   "execution_count": null,
   "metadata": {},
   "outputs": [],
   "source": []
  }
 ],
 "metadata": {
  "kernelspec": {
   "display_name": "Python 3",
   "language": "python",
   "name": "python3"
  },
  "language_info": {
   "codemirror_mode": {
    "name": "ipython",
    "version": 3
   },
   "file_extension": ".py",
   "mimetype": "text/x-python",
   "name": "python",
   "nbconvert_exporter": "python",
   "pygments_lexer": "ipython3",
   "version": "3.6.7"
  }
 },
 "nbformat": 4,
 "nbformat_minor": 2
}
