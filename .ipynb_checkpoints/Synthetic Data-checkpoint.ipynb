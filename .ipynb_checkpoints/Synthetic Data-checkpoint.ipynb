{
 "cells": [
  {
   "cell_type": "code",
   "execution_count": 3,
   "metadata": {},
   "outputs": [
    {
     "name": "stdout",
     "output_type": "stream",
     "text": [
      "The autoreload extension is already loaded. To reload it, use:\n",
      "  %reload_ext autoreload\n"
     ]
    }
   ],
   "source": [
    "%load_ext autoreload\n",
    "%autoreload 1\n",
    "%matplotlib inline\n",
    "%run ./code/package_loader.py\n",
    "%aimport data_generator, model, baseline, utils"
   ]
  },
  {
   "cell_type": "markdown",
   "metadata": {},
   "source": [
    "### 1. n = 500, p = 5, decay = 2e-3 (Main Result)"
   ]
  },
  {
   "cell_type": "markdown",
   "metadata": {},
   "source": [
    "#### 1.1 Generate Data"
   ]
  },
  {
   "cell_type": "code",
   "execution_count": 9,
   "metadata": {},
   "outputs": [],
   "source": [
    "x_train_list = []\n",
    "# Generate 100 dataset to test stability\n",
    "repeat_num =100\n",
    "for i in range(repeat_num):\n",
    "    x_train_list.append(generate_function_data(sample_size=500, decay=2e-3, predictor_size=4, outcome_size=1))"
   ]
  },
  {
   "cell_type": "code",
   "execution_count": 11,
   "metadata": {},
   "outputs": [],
   "source": [
    "beta_true = np.asarray([1, 1, 1, 1, 0]).reshape([5, 1])"
   ]
  },
  {
   "cell_type": "markdown",
   "metadata": {},
   "source": [
    "#### 1.2 Tuning parameters using CV"
   ]
  },
  {
   "cell_type": "code",
   "execution_count": 17,
   "metadata": {},
   "outputs": [
    {
     "name": "stdout",
     "output_type": "stream",
     "text": [
      "Original Correlation:  0.3818914153852731\n",
      "Original Collinearity(Log):  15.290406936125784\n"
     ]
    }
   ],
   "source": [
    "x_cv = x_train_list[0]\n",
    "y_cv = linear_model_generation(x_cv, beta_true)\n",
    "_, correlation, collinearity = weighted_corrcoef(x_cv, np.ones((x_cv.shape[0], 1)))\n",
    "print('Original Correlation: ', correlation)\n",
    "print('Original Collinearity(Log): ', np.log(collinearity))"
   ]
  },
  {
   "cell_type": "code",
   "execution_count": null,
   "metadata": {},
   "outputs": [],
   "source": [
    "### Lasso Tuning ###\n",
    "kf = KFold(n_splits=5, shuffle=True, random_state=0)\n",
    "lasso = Lasso()\n",
    "lambda_list = [x for x in np.logspace(-4, 1, 100)]\n",
    "mse_lasso_cv = np.zeros((len(lambda_list) , 1))\n",
    "\n",
    "for train_index, test_index in kf.split(x_cv):\n",
    "    for ind, lambdau in enumerate(lambda_list):\n",
    "        _ = lasso.fit(x_cv[train_index], y_cv[train_index], validation=False, lambdau=lambdau)\n",
    "        mse_lasso_cv[ind,0] += cal_prediction_error(y_cv[test_index], lasso.predict(x_cv[test_index]), 'mse')\n",
    "        \n",
    "param_index = np.argmin(mse_lasso_cv)\n",
    "lambda_lasso = lambda_list[param_index]\n",
    "print('Optimal Lambda for Lasso: %.4f' % (lambda_lasso))\n",
    "# coef_lasso = lasso.fit(x_train, y_train, validation=False, lambdau=lambda_lasso)\n",
    "# print('MAE of Lasso: ', cal_estimation_error(beta_true, lasso.beta, 'rmse'))\n",
    "# print('MSE of Lasso: ', cal_prediction_error(y_test, lasso.predict(x_test), 'rmse'))"
   ]
  },
  {
   "cell_type": "code",
   "execution_count": null,
   "metadata": {},
   "outputs": [
    {
     "data": {
      "application/vnd.jupyter.widget-view+json": {
       "model_id": "d3ccac6ab4ea4539ba73e6af703d9929",
       "version_major": 2,
       "version_minor": 0
      },
      "text/plain": [
       "HBox(children=(IntProgress(value=1, bar_style='info', description='val_loop', max=1, style=ProgressStyle(descr…"
      ]
     },
     "metadata": {},
     "output_type": "display_data"
    }
   ],
   "source": [
    "### IILasso Tuning ###\n",
    "kf = KFold(n_splits=5, shuffle=True, random_state=0)\n",
    "iilasso = IIlasso()\n",
    "l1_norm_list = [1e-4, 1e-3, 1e-2, 1e-1, 1, 10]\n",
    "corr_norm_list = [1e-4, 1e-3, 1e-2, 1e-1, 1, 10]\n",
    "mse_iilasso_cv = np.zeros((len(l1_norm_list) , len(corr_norm_list)))\n",
    "\n",
    "for train_index, test_index in tqdm_notebook(kf.split(x_cv), desc='val_loop'):\n",
    "    for indx, l1_norm in enumerate(l1_norm_list):\n",
    "        for indy, corr_norm in enumerate(corr_norm_list):\n",
    "            _ = iilasso.fit(x_cv[train_index], y_cv[train_index], \n",
    "                            l1_norm=l1_norm, corr_norm=corr_norm, model_path='synthetic_data_cv')\n",
    "            mse_iilasso_cv[indx, indy] += cal_prediction_error(y_cv[test_index], \n",
    "                                                    iilasso.predict(x_cv[test_index]), 'rmse')\n",
    "index = np.argmin(mse_iilasso_cv)\n",
    "indx, indy = index//len(corr_norm_list), index%len(corr_norm_list)\n",
    "l1_norm_iilasso, corr_norm_iilasso = l1_norm_list[indx], corr_norm_list[indy]"
   ]
  },
  {
   "cell_type": "code",
   "execution_count": null,
   "metadata": {},
   "outputs": [],
   "source": [
    "### Lasso + Our Tuning ###\n",
    "kf = KFold(n_splits=5, shuffle=True, random_state=0)\n",
    "lasso_our = Lasso()\n",
    "weight_l2_list = [1e-1, 1, 10, 30, 50, 100, 300, 500]\n",
    "mse_l2_list = np.zeros((len(weight_l2_list)))\n",
    "mse_ols = []\n",
    "val_count = 0\n",
    "for train_index, test_index in kf.split(x_train):\n",
    "    val_count += 1\n",
    "    scaler = preprocessing.StandardScaler().fit(x_train[train_index])\n",
    "    x_cvtrain_scaled = scaler.transform(x_train[train_index])\n",
    "    x_cvtest_scaled = scaler.transform(x_train[test_index])\n",
    "    _ = ols.fit(x_cvtrain_scaled, y_train[train_index])\n",
    "    mse_ols.append(cal_prediction_error(y_train[test_index], ols.predict(x_cvtest_scaled), 'mse'))\n",
    "    for ind, weight_l2 in enumerate(weight_l2_list):\n",
    "        log_name = 'prostate_cv_%d_l2_%.0e' % (val_count, weight_l2)\n",
    "        w_opt, _, _ = variable_decorrelation(x = x_cvtrain_scaled, y = y_train[train_index], \n",
    "                    log_name = log_name, learning_rate = learning_rate, weight_l2 = weight_l2, \n",
    "                    max_iter = 15000, max_to_keep = 5)\n",
    "        _ = ols.fit(x_cvtrain_scaled, y_train[train_index], sample_weight = np.squeeze(w_opt))\n",
    "        mse_l2_list[val_count-1, ind] = cal_prediction_error(y_train[test_index], ols.predict(x_cvtest_scaled), 'mse')     \n",
    "   "
   ]
  },
  {
   "cell_type": "markdown",
   "metadata": {},
   "source": [
    "### 2. Test Addtional outcome variables"
   ]
  },
  {
   "cell_type": "code",
   "execution_count": 29,
   "metadata": {},
   "outputs": [],
   "source": [
    "def generate_function(decay):\n",
    "    X = np.random.normal(0, 1, (1000, 4))\n",
    "    f = np.sum(X, axis=1, keepdims=True) + np.random.normal(0, decay, (1000, 1))\n",
    "    return preprocessing.scale(np.hstack((X, f)))"
   ]
  },
  {
   "cell_type": "code",
   "execution_count": 42,
   "metadata": {},
   "outputs": [],
   "source": [
    "#x_train = generate_function_data(sample_size=500, decay=2e-3, predictor_size=4, outcome_size=1)\n",
    "x_train = generate_function(2e-3)\n",
    "beta_true = np.asarray([1, 1, 1, 1, 0]).reshape([5, 1])\n",
    "data_description = 'synthetic data'\n",
    "log_name = 'synthetic_data_add'\n",
    "learning_rate = 1e-5\n",
    "weight_l2 = 500\n",
    "w_opt, correlation, collinearity = variable_decorrelation(x = x_train, y = None, weight_normalize=1, \n",
    "                                    log_name = log_name, learning_rate = learning_rate, weight_l2 = weight_l2,\n",
    "                                    max_iter = 15000, display_iter = 300, max_to_keep = 10)"
   ]
  },
  {
   "cell_type": "code",
   "execution_count": 50,
   "metadata": {},
   "outputs": [],
   "source": [
    "y_train = linear_model_generation(x_train, beta_true, noise_level=0.1)"
   ]
  },
  {
   "cell_type": "code",
   "execution_count": 51,
   "metadata": {},
   "outputs": [
    {
     "name": "stdout",
     "output_type": "stream",
     "text": [
      "MAE of OLS:  1.634260100265489\n",
      "[[-0.39141563]\n",
      " [-0.28819313]\n",
      " [-0.36528746]\n",
      " [-0.3617946 ]\n",
      " [ 2.76460968]]\n",
      "[[-0.65845759]\n",
      " [-0.53028702]\n",
      " [-0.6172973 ]\n",
      " [-0.61759793]\n",
      " [ 3.28610851]]\n",
      "MAE of OLS:  1.9419496692406721\n"
     ]
    }
   ],
   "source": [
    "ols = OLS()\n",
    "coef_ols = ols.fit(x_train, y_train)\n",
    "print('MAE of OLS: ', cal_estimation_error(beta_true, ols.beta, 'mae'))\n",
    "print(ols.beta)\n",
    "_ = ols.fit(x_train, y_train, sample_weight=w_opt.squeeze())\n",
    "print(ols.beta)\n",
    "print('MAE of OLS: ', cal_estimation_error(beta_true, ols.beta, 'mae'))"
   ]
  },
  {
   "cell_type": "code",
   "execution_count": 52,
   "metadata": {},
   "outputs": [
    {
     "name": "stdout",
     "output_type": "stream",
     "text": [
      "[[-0.00380304]\n",
      " [ 0.        ]\n",
      " [ 0.05367042]\n",
      " [ 0.        ]\n",
      " [ 0.        ]\n",
      " [ 2.00599417]]\n",
      "[[-0.00042851]\n",
      " [-0.0074856 ]\n",
      " [ 0.05814685]\n",
      " [ 0.00661391]\n",
      " [ 0.00397245]\n",
      " [ 2.009243  ]]\n"
     ]
    }
   ],
   "source": [
    "lasso = Lasso()\n",
    "print(lasso.fit(x_train, y_train))\n",
    "print(lasso.fit(x_train, y_train, weights=w_opt))"
   ]
  },
  {
   "cell_type": "code",
   "execution_count": 54,
   "metadata": {},
   "outputs": [],
   "source": [
    "kf = KFold(n_splits=5, shuffle=True, random_state=0)\n",
    "lasso = Lasso()\n",
    "lasso_our = Lasso()\n",
    "lambda_list = [x for x in np.logspace(-4, 1, 100)]\n",
    "mse_lasso_cv = np.zeros((len(lambda_list) , 1))\n",
    "mse_lasso_our_cv = np.zeros((len(lambda_list) , 1))\n",
    "\n",
    "for train_index, test_index in kf.split(x_train):\n",
    "    for ind, lambdau in enumerate(lambda_list):\n",
    "        _ = lasso.fit(x_train[train_index], y_train[train_index], validation=False, lambdau=lambdau)\n",
    "        mse_lasso_cv[ind,0] += cal_prediction_error(y_train[test_index], lasso.predict(x_train[test_index]), 'mse')\n",
    "        _ = lasso_our.fit(x_train[train_index], y_train[train_index], validation=False, lambdau=lambdau, weights=w_opt[train_index])\n",
    "        mse_lasso_our_cv[ind,0] += cal_prediction_error(y_train[test_index], lasso_our.predict(x_train[test_index]), 'mse')\n",
    "param_index = np.argmin(mse_lasso_cv)\n",
    "lambda_lasso = lambda_list[param_index]\n",
    "param_index = np.argmin(mse_lasso_our_cv)\n",
    "lambda_lasso_our = lambda_list[param_index]"
   ]
  },
  {
   "cell_type": "code",
   "execution_count": 55,
   "metadata": {},
   "outputs": [
    {
     "data": {
      "text/plain": [
       "(0.0007220809018385464, 0.002595024211399737)"
      ]
     },
     "execution_count": 55,
     "metadata": {},
     "output_type": "execute_result"
    }
   ],
   "source": [
    "lambda_lasso, lambda_lasso_our"
   ]
  },
  {
   "cell_type": "code",
   "execution_count": 56,
   "metadata": {},
   "outputs": [
    {
     "data": {
      "text/plain": [
       "array([[-0.00380304],\n",
       "       [ 0.        ],\n",
       "       [ 0.05367042],\n",
       "       [ 0.        ],\n",
       "       [ 0.        ],\n",
       "       [ 2.00599417]])"
      ]
     },
     "execution_count": 56,
     "metadata": {},
     "output_type": "execute_result"
    }
   ],
   "source": [
    "lasso.fit(x_train, y_train, validation=False, lambdau=lambda_lasso)"
   ]
  },
  {
   "cell_type": "code",
   "execution_count": 58,
   "metadata": {},
   "outputs": [
    {
     "data": {
      "text/plain": [
       "array([[-0.00119208],\n",
       "       [ 0.        ],\n",
       "       [ 0.07460739],\n",
       "       [ 0.02387393],\n",
       "       [ 0.02074003],\n",
       "       [ 1.98397402]])"
      ]
     },
     "execution_count": 58,
     "metadata": {},
     "output_type": "execute_result"
    }
   ],
   "source": [
    "lasso_our.fit(x_train, y_train, validation=False, lambdau=lambda_lasso_our, weights=w_opt)"
   ]
  },
  {
   "cell_type": "code",
   "execution_count": 18,
   "metadata": {},
   "outputs": [
    {
     "name": "stdout",
     "output_type": "stream",
     "text": [
      "Weighted Correlation:  0.39569526456497756\n",
      "Weighted Collinearity(Log):  14.034349497409663\n"
     ]
    }
   ],
   "source": [
    "_, correlation, collinearity = weighted_corrcoef(x_cv, w_opt)\n",
    "print('Weighted Correlation: ', correlation)\n",
    "print('Weighted Collinearity(Log): ', np.log(collinearity))"
   ]
  },
  {
   "cell_type": "code",
   "execution_count": 230,
   "metadata": {},
   "outputs": [
    {
     "name": "stdout",
     "output_type": "stream",
     "text": [
      "Weighted Correlation:  0.37161934250968803\n",
      "Weighted Collinearity:  1265357.7303086324\n"
     ]
    }
   ],
   "source": [
    "_, correlation, collinearity = weighted_corrcoef(x_train[:, 5:], w_opt)\n",
    "print('Weighted Correlation: ', correlation)\n",
    "print('Weighted Collinearity: ', collinearity)"
   ]
  },
  {
   "cell_type": "code",
   "execution_count": 251,
   "metadata": {},
   "outputs": [],
   "source": [
    "ols_our = OLS()\n",
    "coef_ols_our = ols_our.fit(x_train, y_train, sample_weight = np.squeeze(w_opt))\n",
    "# print('MAE of OLS+Our: ', cal_estimation_error(beta_true, ols_our.beta, 'rmse'))\n",
    "# print('MSE of OLS+Our: ',cal_prediction_error(y_test, ols_our.predict(x_test), 'rmse'))"
   ]
  },
  {
   "cell_type": "code",
   "execution_count": 252,
   "metadata": {},
   "outputs": [
    {
     "data": {
      "text/plain": [
       "array([[ 0.00669347],\n",
       "       [-2.63909133],\n",
       "       [-2.65674492],\n",
       "       [-2.8596922 ],\n",
       "       [-2.818126  ],\n",
       "       [ 7.67300117],\n",
       "       [-0.90273771],\n",
       "       [-1.02731056],\n",
       "       [-0.91340014],\n",
       "       [-0.80080951],\n",
       "       [ 3.71229704]])"
      ]
     },
     "execution_count": 252,
     "metadata": {},
     "output_type": "execute_result"
    }
   ],
   "source": [
    "coef_ols_our"
   ]
  },
  {
   "cell_type": "code",
   "execution_count": 246,
   "metadata": {},
   "outputs": [
    {
     "name": "stdout",
     "output_type": "stream",
     "text": [
      "MAE of Lasso+Our:  1.211567212466482\n",
      "RMSE of Lasso+Our:  0.15908381832398932\n"
     ]
    }
   ],
   "source": [
    "kf = KFold(n_splits=10, shuffle=True, random_state=0)\n",
    "lasso_our = Lasso()\n",
    "lambda_list = [x for x in np.logspace(-5, 1, 100)];\n",
    "mse_lasso_our_cv = np.zeros((len(lambda_list) , 1))\n",
    "\n",
    "for train_index, test_index in kf.split(x_train):\n",
    "    for ind, lambdau in enumerate(lambda_list):\n",
    "        _ = lasso_our.fit(x_train[train_index], y_train[train_index], validation=False, lambdau=lambdau, weights=w_opt[train_index])\n",
    "        mse_lasso_our_cv[ind, 0] += cal_prediction_error(y_train[test_index], lasso_our.predict(x_train[test_index]), 'rmse')\n",
    "        \n",
    "param_index = np.argmin(mse_lasso_our_cv)\n",
    "lambda_lasso_our = lambda_list[param_index]\n",
    "\n",
    "coef_lasso_our = lasso_our.fit(x_train, y_train, validation=False, lambdau=lambda_lasso_our, weights =w_opt )\n",
    "print('MAE of Lasso+Our: ', cal_estimation_error(beta_true, lasso_our.beta, 'rmse'))\n",
    "print('RMSE of Lasso+Our: ',cal_prediction_error(y_test, lasso_our.predict(x_test), 'rmse'))"
   ]
  },
  {
   "cell_type": "code",
   "execution_count": 238,
   "metadata": {},
   "outputs": [],
   "source": []
  },
  {
   "cell_type": "code",
   "execution_count": 247,
   "metadata": {},
   "outputs": [
    {
     "data": {
      "text/plain": [
       "(array([[0.00407003],\n",
       "        [0.06052972],\n",
       "        [0.0577682 ],\n",
       "        [0.        ],\n",
       "        [0.00923926],\n",
       "        [1.97931722],\n",
       "        [0.0565467 ],\n",
       "        [0.        ],\n",
       "        [0.05255958],\n",
       "        [0.10683379],\n",
       "        [1.83278458]]), array([[0.00582436],\n",
       "        [0.05188871],\n",
       "        [0.05806107],\n",
       "        [0.        ],\n",
       "        [0.00971911],\n",
       "        [1.98550685],\n",
       "        [0.06100854],\n",
       "        [0.        ],\n",
       "        [0.05132991],\n",
       "        [0.1020508 ],\n",
       "        [1.8389945 ]]))"
      ]
     },
     "execution_count": 247,
     "metadata": {},
     "output_type": "execute_result"
    }
   ],
   "source": [
    "coef_lasso, coef_lasso_our"
   ]
  },
  {
   "cell_type": "code",
   "execution_count": 253,
   "metadata": {},
   "outputs": [],
   "source": [
    "decay_list = [0.002, 0.005, 0.01, 0.02, 0.05, 0.1, 0.2, 0.5]\n",
    "mse_ols, mse_ols_our, mse_lasso, mse_lasso_our = [], [], [], []\n",
    "for decay in decay_list:\n",
    "    x_test = generate_function_data(sample_size = 500, decay = decay)\n",
    "    y_test = linear_model_generation(x_test, beta_true, noise_level=0.1)\n",
    "    mse_ols.append(cal_prediction_error(y_test, ols.predict(x_test), 'rmse'))\n",
    "    mse_ols_our.append(cal_prediction_error(y_test, ols_our.predict(x_test), 'rmse'))\n",
    "    mse_lasso.append(cal_prediction_error(y_test, lasso.predict(x_test), 'rmse'))\n",
    "    mse_lasso_our.append(cal_prediction_error(y_test, lasso_our.predict(x_test), 'rmse'))"
   ]
  },
  {
   "cell_type": "code",
   "execution_count": 254,
   "metadata": {},
   "outputs": [
    {
     "data": {
      "text/plain": [
       "(0.3740530337728788,\n",
       " 0.28151601924995606,\n",
       " 0.8141470772828949,\n",
       " 0.2782116110986788)"
      ]
     },
     "execution_count": 254,
     "metadata": {},
     "output_type": "execute_result"
    }
   ],
   "source": [
    "np.mean(mse_ols), np.mean(mse_lasso), np.mean(mse_ols_our), np.mean(mse_lasso_our)"
   ]
  },
  {
   "cell_type": "code",
   "execution_count": 255,
   "metadata": {},
   "outputs": [
    {
     "data": {
      "text/plain": [
       "(0.2347544940738816,\n",
       " 0.16809393680853812,\n",
       " 0.5425046767746702,\n",
       " 0.16883344576305237)"
      ]
     },
     "execution_count": 255,
     "metadata": {},
     "output_type": "execute_result"
    }
   ],
   "source": [
    "np.std(mse_ols), np.std(mse_lasso), np.std(mse_ols_our), np.std(mse_lasso_our)"
   ]
  },
  {
   "cell_type": "code",
   "execution_count": null,
   "metadata": {},
   "outputs": [],
   "source": []
  }
 ],
 "metadata": {
  "kernelspec": {
   "display_name": "Python 3",
   "language": "python",
   "name": "python3"
  },
  "language_info": {
   "codemirror_mode": {
    "name": "ipython",
    "version": 3
   },
   "file_extension": ".py",
   "mimetype": "text/x-python",
   "name": "python",
   "nbconvert_exporter": "python",
   "pygments_lexer": "ipython3",
   "version": "3.6.6"
  }
 },
 "nbformat": 4,
 "nbformat_minor": 2
}
