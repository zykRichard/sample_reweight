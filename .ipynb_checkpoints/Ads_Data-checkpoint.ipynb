{
 "cells": [
  {
   "cell_type": "code",
   "execution_count": 390,
   "metadata": {},
   "outputs": [
    {
     "name": "stdout",
     "output_type": "stream",
     "text": [
      "The autoreload extension is already loaded. To reload it, use:\n",
      "  %reload_ext autoreload\n"
     ]
    }
   ],
   "source": [
    "%load_ext autoreload\n",
    "%autoreload 1\n",
    "%matplotlib inline\n",
    "%run ./code/package_loader.py\n",
    "%aimport data_generator, model, baseline, utils, glmnet\n",
    "from sklearn.metrics import roc_auc_score\n",
    "from sklearn.metrics import accuracy_score\n",
    "import random"
   ]
  },
  {
   "cell_type": "markdown",
   "metadata": {},
   "source": [
    "### 1.Load and Preprocess data"
   ]
  },
  {
   "cell_type": "code",
   "execution_count": 683,
   "metadata": {},
   "outputs": [],
   "source": [
    "X_list, Y_list = [], []\n",
    "num_group = 5\n",
    "for i in range(num_group):\n",
    "    x = np.load('data/Ads_age_5group_bak/Ads_X'+str(i)+'.npy')\n",
    "    y = np.load('data/Ads_age_5group_bak/Ads_Y'+str(i)+'.npy')\n",
    "    X_list.append(x)\n",
    "    Y_list.append(y)"
   ]
  },
  {
   "cell_type": "code",
   "execution_count": 684,
   "metadata": {},
   "outputs": [
    {
     "name": "stdout",
     "output_type": "stream",
     "text": [
      "======Envrionment    0============\n",
      "Original Min Eigenvalue:  0.189096829905\n",
      "Original Collinearity:  22.6814253474\n",
      "======Envrionment    1============\n",
      "Original Min Eigenvalue:  0.203845213491\n",
      "Original Collinearity:  20.9578390967\n",
      "======Envrionment    2============\n",
      "Original Min Eigenvalue:  0.236413757132\n",
      "Original Collinearity:  16.9882423443\n",
      "======Envrionment    3============\n",
      "Original Min Eigenvalue:  0.224634982109\n",
      "Original Collinearity:  17.6739414126\n",
      "======Envrionment    4============\n",
      "Original Min Eigenvalue:  0.160905097437\n",
      "Original Collinearity:  26.3740972455\n"
     ]
    }
   ],
   "source": [
    "for i in range(num_group):\n",
    "    x, y = X_list[i], Y_list[i]\n",
    "    w_stat = weighted_stat(x, np.ones(y.shape))\n",
    "    print('======Envrionment %4d============' % (i))\n",
    "    print('Original Min Eigenvalue: ', w_stat['min_eig'])\n",
    "    print('Original Collinearity: ', w_stat['CN'])"
   ]
  },
  {
   "cell_type": "code",
   "execution_count": 685,
   "metadata": {},
   "outputs": [],
   "source": [
    "np.random.seed(5) \n",
    "train_ind = 0\n",
    "n_train = 1000\n",
    "\n",
    "x_train_whole, y_train_whole = X_list[train_ind], Y_list[train_ind]\n",
    "sample_index = np.random.choice(x_train_whole.shape[0], n_train, replace=False)\n",
    "unsample_index = [x for x in range(len(x_train_whole)) if not (x in sample_index)]\n",
    "\n",
    "x_train, y_train = x_train_whole[sample_index], y_train_whole[sample_index]\n",
    "scaler = preprocessing.StandardScaler().fit(x_train)\n",
    "x_train_scaled = scaler.transform(x_train)\n",
    "x_iid_test, y_iid_test = scaler.transform(x_train_whole[unsample_index]), y_train_whole[unsample_index]"
   ]
  },
  {
   "cell_type": "code",
   "execution_count": 686,
   "metadata": {},
   "outputs": [
    {
     "name": "stdout",
     "output_type": "stream",
     "text": [
      "Original Min Eigenvalue:  0.179477312693\n",
      "Original Collinearity:  23.4472191917\n"
     ]
    }
   ],
   "source": [
    "w_stat = weighted_stat(x_train_scaled, np.ones(y_train.shape))\n",
    "print('Original Min Eigenvalue: ', w_stat['min_eig'])\n",
    "print('Original Collinearity: ', w_stat['CN'])"
   ]
  },
  {
   "cell_type": "code",
   "execution_count": 598,
   "metadata": {},
   "outputs": [],
   "source": [
    "os.environ[\"CUDA_VISIBLE_DEVICES\"] = \"3\""
   ]
  },
  {
   "cell_type": "code",
   "execution_count": 498,
   "metadata": {},
   "outputs": [],
   "source": [
    "n_test = 1000"
   ]
  },
  {
   "cell_type": "code",
   "execution_count": 499,
   "metadata": {},
   "outputs": [],
   "source": [
    "def generate_test(X, n_test):\n",
    "    if X.shape[0] < n_test:\n",
    "        return X\n",
    "    else:\n",
    "        sample_index = np.random.choice(X.shape[0], n_test, replace=False)\n",
    "        return X[sample_index]"
   ]
  },
  {
   "cell_type": "markdown",
   "metadata": {},
   "source": [
    "### 2. Baselines"
   ]
  },
  {
   "cell_type": "code",
   "execution_count": 687,
   "metadata": {},
   "outputs": [],
   "source": [
    "# Logistic Regression\n",
    "lr = LR()\n",
    "lr.fit(x_train_scaled, y_train)\n",
    "# Lasso\n",
    "lasso = Lasso(task='classification')\n",
    "lasso.fit(x_train_scaled, y_train)\n",
    "# Elastic Net\n",
    "elaNet = Lasso(task='classification')\n",
    "elaNet.fit(x_train_scaled, y_train, alpha=0.5)\n",
    "# ULasso\n",
    "ulasso = Exlasso(task='classification', method='ULasso')\n",
    "ulasso.fit(x_train_scaled, y_train, l1_norm=lasso.model['lambda_min'][0])\n",
    "# IILasso\n",
    "iilasso = Exlasso(task='classification', method='IILasso')\n",
    "iilasso.fit(x_train_scaled, y_train, l1_norm=lasso.model['lambda_min'][0])"
   ]
  },
  {
   "cell_type": "code",
   "execution_count": 688,
   "metadata": {},
   "outputs": [],
   "source": [
    "auc_lr, auc_lasso, auc_elaNet, auc_ulasso, auc_iilasso = [], [], [], [], []\n",
    "for i in range(0, num_group):\n",
    "    if i == train_ind:\n",
    "        x_test, y_test = x_iid_test, y_iid_test\n",
    "    else:\n",
    "        x_test, y_test = scaler.transform(X_list[i]), Y_list[i]\n",
    "    auc_lr.append(roc_auc_score(y_test, lr.predict(x_test, prob=True)))\n",
    "    auc_lasso.append(roc_auc_score(y_test, lasso.predict(x_test, prob=True)))\n",
    "    auc_elaNet.append(roc_auc_score(y_test, elaNet.predict(x_test, prob=True)))\n",
    "    auc_ulasso.append(roc_auc_score(y_test, ulasso.predict(x_test, prob=True)))\n",
    "    auc_iilasso.append(roc_auc_score(y_test, iilasso.predict(x_test, prob=True)))"
   ]
  },
  {
   "cell_type": "code",
   "execution_count": 689,
   "metadata": {},
   "outputs": [
    {
     "name": "stdout",
     "output_type": "stream",
     "text": [
      "ave_AUC(std) of LR: 0.6492(0.0705)\n",
      "ave_AUC(std) of Lasso: 0.6508(0.0698)\n",
      "ave_AUC(std) of ElasticNet: 0.6508(0.0701)\n",
      "ave_AUC(std) of ULasso: 0.6505(0.0701)\n",
      "ave_AUC(std) of IILasso: 0.6493(0.0705)\n"
     ]
    }
   ],
   "source": [
    "print('ave_AUC(std) of LR: %.4f(%.4f)'%(np.mean(auc_lr), np.std(auc_lr)))\n",
    "print('ave_AUC(std) of Lasso: %.4f(%.4f)'%(np.mean(auc_lasso), np.std(auc_lasso)))\n",
    "print('ave_AUC(std) of ElasticNet: %.4f(%.4f)'%(np.mean(auc_elaNet), np.std(auc_elaNet)))\n",
    "print('ave_AUC(std) of ULasso: %.4f(%.4f)'%(np.mean(auc_ulasso), np.std(auc_ulasso)))\n",
    "print('ave_AUC(std) of IILasso: %.4f(%.4f)'%(np.mean(auc_iilasso), np.std(auc_iilasso)))"
   ]
  },
  {
   "cell_type": "markdown",
   "metadata": {},
   "source": [
    "### 3.Our Method"
   ]
  },
  {
   "cell_type": "code",
   "execution_count": 710,
   "metadata": {},
   "outputs": [
    {
     "name": "stdout",
     "output_type": "stream",
     "text": [
      "Weighted Min Eigenvalue:  0.23226270866\n",
      "Weighted Collinearity:  14.8807914195\n"
     ]
    }
   ],
   "source": [
    "w = decorrelation(x_train_scaled, y_train, mode='cla', max_iter=500,\n",
    "                      trial_num=10, hidden_layer_sizes=(2,))\n",
    "w_stat = weighted_stat(x_train_scaled, w)\n",
    "print('Weighted Min Eigenvalue: ', w_stat['min_eig'])\n",
    "print('Weighted Collinearity: ', w_stat['CN'])"
   ]
  },
  {
   "cell_type": "code",
   "execution_count": 711,
   "metadata": {},
   "outputs": [
    {
     "name": "stdout",
     "output_type": "stream",
     "text": [
      "ave_AUC(std) of Lasso+Our: 0.6581(0.0576)\n"
     ]
    }
   ],
   "source": [
    "lasso_our = Lasso(task='classification')\n",
    "lr_our = LR()\n",
    "auc_lasso_our = []\n",
    "lr_our.fit(x_train_scaled, y_train, weights=w)\n",
    "for i in range(0, num_group):\n",
    "    if i == train_ind:\n",
    "        x_test, y_test = x_iid_test, y_iid_test\n",
    "    else:\n",
    "        x_test, y_test = scaler.transform(X_list[i]), Y_list[i]\n",
    "    auc_lasso_our.append(roc_auc_score(y_test, lr_our.predict(x_test, prob=True)))\n",
    "    \n",
    "print('ave_AUC(std) of Lasso+Our: %.4f(%.4f)'%(np.mean(auc_lasso_our), np.std(auc_lasso_our)))"
   ]
  },
  {
   "cell_type": "code",
   "execution_count": 695,
   "metadata": {},
   "outputs": [
    {
     "name": "stdout",
     "output_type": "stream",
     "text": [
      "[ 0.7471  0.7192  0.6036  0.5684  0.6076]\n",
      "[ 0.7326  0.7111  0.6154  0.5758  0.6397]\n"
     ]
    }
   ],
   "source": [
    "np.set_printoptions(precision=4)\n",
    "print(np.array(auc_lr))\n",
    "print(np.array(auc_lasso_our))"
   ]
  },
  {
   "cell_type": "code",
   "execution_count": 362,
   "metadata": {},
   "outputs": [],
   "source": [
    "np.savez('Ads_result.npz', lr=auc_lr, lasso=auc_lasso, elaNet=auc_elaNet, \n",
    "         ulasso=auc_ulasso, iilasso=auc_iilasso, our = auc_lasso_our)"
   ]
  },
  {
   "cell_type": "code",
   "execution_count": 363,
   "metadata": {},
   "outputs": [],
   "source": [
    "np.save('Ads_w.npy', w)"
   ]
  },
  {
   "cell_type": "code",
   "execution_count": 333,
   "metadata": {},
   "outputs": [],
   "source": [
    "min_eig = weighted_stat(x_train_scaled, np.ones(y_train.shape))['min_eig']\n",
    "min_eig_w = weighted_stat(x_train_scaled, w)['min_eig']"
   ]
  },
  {
   "cell_type": "code",
   "execution_count": 334,
   "metadata": {},
   "outputs": [
    {
     "data": {
      "text/plain": [
       "(0.15572531421091645, 0.24844356401397169)"
      ]
     },
     "execution_count": 334,
     "metadata": {},
     "output_type": "execute_result"
    }
   ],
   "source": [
    "min_eig, min_eig_w"
   ]
  },
  {
   "cell_type": "code",
   "execution_count": 331,
   "metadata": {},
   "outputs": [],
   "source": [
    "CN = weighted_stat(x_train_scaled, np.ones(y_train.shape))['CN']\n",
    "CN_w = weighted_stat(x_train_scaled, w)['CN']"
   ]
  },
  {
   "cell_type": "code",
   "execution_count": 332,
   "metadata": {},
   "outputs": [
    {
     "data": {
      "text/plain": [
       "(31.666667268716257, 16.543808895696348)"
      ]
     },
     "execution_count": 332,
     "metadata": {},
     "output_type": "execute_result"
    }
   ],
   "source": [
    "CN, CN_w"
   ]
  },
  {
   "cell_type": "code",
   "execution_count": 378,
   "metadata": {},
   "outputs": [],
   "source": [
    "a=np.load('Ads_result.npz')"
   ]
  },
  {
   "cell_type": "code",
   "execution_count": 371,
   "metadata": {},
   "outputs": [
    {
     "name": "stdout",
     "output_type": "stream",
     "text": [
      "0.64920876083 0.070450745348\n",
      "0.650845841286 0.0698108615279\n",
      "0.650761796696 0.0700886585659\n",
      "0.650450014806 0.070104585515\n",
      "0.649287495523 0.0704874176921\n",
      "0.661517710437 0.0518404528442\n"
     ]
    }
   ],
   "source": [
    "print(np.mean(a['lr']), np.std(a['lr']))\n",
    "print(np.mean(a['lasso']), np.std(a['lasso']))\n",
    "print(np.mean(a['elaNet']), np.std(a['elaNet']))\n",
    "print(np.mean(a['ulasso']), np.std(a['ulasso']))\n",
    "print(np.mean(a['iilasso']), np.std(a['iilasso']))\n",
    "print(np.mean(a['our']), np.std(a['our']))"
   ]
  },
  {
   "cell_type": "code",
   "execution_count": 385,
   "metadata": {
    "scrolled": false
   },
   "outputs": [
    {
     "data": {
      "image/png": "[encoded data removed]",
      "text/plain": [
       "<Figure size 800x600 with 1 Axes>"
      ]
     },
     "metadata": {
      "needs_background": "light"
     },
     "output_type": "display_data"
    }
   ],
   "source": [
    "# RMSE\n",
    "plt.figure(figsize=(8, 6), dpi=100)\n",
    "ind = np.arange(5)    # the x locations for the groups\n",
    "\n",
    "width = 0.12       # the width of the bars\n",
    "ax=plt.subplot(111)\n",
    "plt.bar(ind, a['iilasso'].squeeze(), width, label='IILasso')\n",
    "plt.bar(ind + width, a['ulasso'].squeeze(), width, label='ULasso')\n",
    "plt.bar(ind + 2*width, a['elaNet'].squeeze(), width, label='Lasso')\n",
    "plt.bar(ind + 3*width, a['lasso'].squeeze(), width, label='ElasticNet')\n",
    "plt.bar(ind + 4*width, a['lr'].squeeze(), width, label='LR')\n",
    "plt.bar(ind + 5*width, a['our'].squeeze(),width, label='SRDO')\n",
    "\n",
    "plt.legend(loc='upper right', frameon=False); \n",
    "ax.set_xticks(ind + 5*width/2); \n",
    "ax.set_xticklabels(('[20,30)', '[30, 40)', '[40, 50)', '[50, 60)','[60, 100)'))\n",
    "plt.ylim(0.5,0.8)\n",
    "plt.xlabel('Age Group', fontsize=12)\n",
    "plt.ylabel('AUC', fontsize=12)\n",
    "plt.savefig('Ads_AUC.eps', dpi=150)"
   ]
  },
  {
   "cell_type": "code",
   "execution_count": 10,
   "metadata": {},
   "outputs": [
    {
     "data": {
      "text/plain": [
       "0.73043267624808916"
      ]
     },
     "execution_count": 10,
     "metadata": {},
     "output_type": "execute_result"
    }
   ],
   "source": [
    "a['lr'].mean()"
   ]
  },
  {
   "cell_type": "code",
   "execution_count": 177,
   "metadata": {},
   "outputs": [],
   "source": [
    "lr_our.fit(x_train_scaled, y_train, weights=w)"
   ]
  },
  {
   "cell_type": "code",
   "execution_count": 386,
   "metadata": {},
   "outputs": [
    {
     "name": "stdout",
     "output_type": "stream",
     "text": [
      "43.1087769954 0.114130957699\n"
     ]
    }
   ],
   "source": [
    "w=np.load('Ads_w.npy')\n",
    "w_stat = weighted_stat(x_train_scaled, w)\n",
    "print(w_stat['CN'], w_stat['min_eig'])"
   ]
  },
  {
   "cell_type": "code",
   "execution_count": null,
   "metadata": {},
   "outputs": [],
   "source": []
  }
 ],
 "metadata": {
  "kernelspec": {
   "display_name": "Python 3",
   "language": "python",
   "name": "python3"
  },
  "language_info": {
   "codemirror_mode": {
    "name": "ipython",
    "version": 3
   },
   "file_extension": ".py",
   "mimetype": "text/x-python",
   "name": "python",
   "nbconvert_exporter": "python",
   "pygments_lexer": "ipython3",
   "version": "3.6.7"
  }
 },
 "nbformat": 4,
 "nbformat_minor": 2
}
