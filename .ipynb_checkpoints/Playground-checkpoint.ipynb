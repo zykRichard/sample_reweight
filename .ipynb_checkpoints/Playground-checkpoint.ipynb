{
 "cells": [
  {
   "cell_type": "code",
   "execution_count": 1,
   "metadata": {},
   "outputs": [],
   "source": [
    "%load_ext autoreload\n",
    "%autoreload 1\n",
    "%matplotlib inline\n",
    "%run ./code/package_loader.py\n",
    "%aimport data_generator, model, baseline, utils"
   ]
  },
  {
   "cell_type": "code",
   "execution_count": 2,
   "metadata": {},
   "outputs": [],
   "source": [
    "import pandas as pd\n",
    "from sklearn.neural_network import MLPClassifier as MLP\n",
    "from sklearn.ensemble import RandomForestClassifier as RFC"
   ]
  },
  {
   "cell_type": "code",
   "execution_count": 59,
   "metadata": {
    "scrolled": true
   },
   "outputs": [
    {
     "name": "stdout",
     "output_type": "stream",
     "text": [
      "0.18535518991030414\n",
      "0.9000735073179262\n",
      "103.13416308739947\n",
      "0.0\n",
      "0.0\n",
      "0.0\n"
     ]
    }
   ],
   "source": [
    "beta_toy = np.array([[1],[1],[1],[1],[1],[2],[1],[1],[2]])\n",
    "#beta_toy = np.array([[0],[1]])\n",
    "ols = OLS()\n",
    "bias=np.zeros((9,1))\n",
    "bias_x=np.zeros((9,1))\n",
    "n_size = 500\n",
    "beta = np.zeros((50, 9))\n",
    "beta_x = np.zeros((50, 9))\n",
    "mae, mae_x = 0, 0\n",
    "mse, mse_x = 0, 0\n",
    "m_cor, m_cor_x = 0, 0\n",
    "m_eig, m_eig_x = 0, 0\n",
    "for i in range(50):\n",
    "    X_toy = generate_block_data(sample_size=n_size, block_size=9, block_num=1, rho=0.9)\n",
    "    Y_b = linear_model_generation(X_toy, beta_toy, degree=1, magnitude=0.2)\n",
    "    m_cor += weighted_corrcoef(X_toy, np.ones([n_size,1]))[1]\n",
    "    m_eig += weighted_corrcoef(X_toy, np.ones([n_size,1]))[2]\n",
    "    _ = ols.fit(X_toy, Y_b)\n",
    "    bias += -beta_toy + ols.beta\n",
    "    beta[i, :] = ols.beta.squeeze()\n",
    "    mae += cal_estimation_error(beta_toy, ols.beta, 'mae')\n",
    "#     w = decorrelation(X_toy)\n",
    "#     m_cor_x += weighted_corrcoef(X_toy, w)[1]\n",
    "#     m_eig_x += weighted_corrcoef(X_toy, w)[2]\n",
    "#     _ = ols.fit(X_toy, Y_b, sample_weight=w)\n",
    "#     beta_x[i, :] = ols.beta.squeeze()\n",
    "#     bias_x += -beta_toy + ols.beta\n",
    "#     mae_x += cal_estimation_error(beta_toy, ols.beta, 'mae')\n",
    "#print(bias/30)\n",
    "#print(beta.std(axis=0))\n",
    "print(mae/50)\n",
    "print(m_cor/50)\n",
    "print(m_eig/50)\n",
    "#print(bias_x/30)\n",
    "#print(beta_x.std(axis=0))\n",
    "print(mae_x/50)\n",
    "print(m_cor_x/50)\n",
    "print(m_eig_x/50)"
   ]
  },
  {
   "cell_type": "code",
   "execution_count": 148,
   "metadata": {},
   "outputs": [
    {
     "name": "stdout",
     "output_type": "stream",
     "text": [
      "[[-0.23431394]\n",
      " [ 1.2301189 ]\n",
      " [ 0.2807564 ]\n",
      " [ 0.70292806]\n",
      " [ 0.06828471]\n",
      " [ 1.00363286]\n",
      " [-0.03573465]\n",
      " [ 1.04516241]\n",
      " [-0.10578209]\n",
      " [ 1.06374858]]\n",
      "[[-0.19959039]\n",
      " [ 1.2040873 ]\n",
      " [ 0.24325651]\n",
      " [ 0.72264238]\n",
      " [-0.01112999]\n",
      " [ 1.09540591]\n",
      " [ 0.00432577]\n",
      " [ 1.01271494]\n",
      " [-0.14422041]\n",
      " [ 1.11424933]]\n"
     ]
    }
   ],
   "source": [
    "X = generate_block_data(sample_size=1000, block_size=2, block_num=5, rho=0.95)\n",
    "beta = np.array([[0],[1],[0],[1],[0],[1],[0],[1],[0],[1]])\n",
    "Y = linear_model_generation(X, beta, degree=2)\n",
    "ols = OLS()\n",
    "ols.fit(X,Y)\n",
    "print(ols.beta)\n",
    "ols.fit(X,Y,sample_weight=decorrelation(X))\n",
    "print(ols.beta)"
   ]
  },
  {
   "cell_type": "code",
   "execution_count": 3,
   "metadata": {},
   "outputs": [],
   "source": [
    "X = generate_block_data(sample_size=500, block_size=2, block_num=5, rho=0.95)\n",
    "beta = np.array([[0],[1],[0],[1],[0],[1],[0],[1],[0],[1]])\n",
    "Y = linear_model_generation(X, beta)"
   ]
  },
  {
   "cell_type": "code",
   "execution_count": 5,
   "metadata": {},
   "outputs": [
    {
     "name": "stdout",
     "output_type": "stream",
     "text": [
      "RuLSIF starting...\n",
      "Searching for the optimal sigma and lambda...\n",
      "sigma = 0.10000, lambda = 0.01000, score = -0.00000\n",
      "sigma = 0.10000, lambda = 0.02000, score = -0.00000\n",
      "sigma = 0.10000, lambda = 0.03000, score = -0.00000\n",
      "sigma = 0.10000, lambda = 0.04000, score = -0.00000\n",
      "sigma = 0.10000, lambda = 0.05000, score = -0.00000\n",
      "sigma = 0.30000, lambda = 0.01000, score = -0.00001\n",
      "sigma = 0.30000, lambda = 0.02000, score = -0.00000\n",
      "sigma = 0.30000, lambda = 0.03000, score = -0.00000\n",
      "sigma = 0.30000, lambda = 0.04000, score = -0.00000\n",
      "sigma = 0.30000, lambda = 0.05000, score = -0.00000\n",
      "sigma = 0.50000, lambda = 0.01000, score = -0.02606\n",
      "sigma = 0.50000, lambda = 0.02000, score = -0.01353\n",
      "sigma = 0.50000, lambda = 0.03000, score = -0.00914\n",
      "sigma = 0.50000, lambda = 0.04000, score = -0.00690\n",
      "sigma = 0.50000, lambda = 0.05000, score = -0.00554\n",
      "sigma = 0.70000, lambda = 0.01000, score = -0.36910\n",
      "sigma = 0.70000, lambda = 0.02000, score = -0.33679\n",
      "sigma = 0.70000, lambda = 0.03000, score = -0.31750\n",
      "sigma = 0.70000, lambda = 0.04000, score = -0.30144\n",
      "sigma = 0.70000, lambda = 0.05000, score = -0.28696\n",
      "sigma = 1.00000, lambda = 0.01000, score = 1.24349\n",
      "sigma = 1.00000, lambda = 0.02000, score = -0.20577\n",
      "sigma = 1.00000, lambda = 0.03000, score = -0.41205\n",
      "sigma = 1.00000, lambda = 0.04000, score = -0.45551\n",
      "sigma = 1.00000, lambda = 0.05000, score = -0.46447\n",
      "Found optimal sigma = 1.000, lambda = 0.050.\n",
      "Optimizing theta...\n",
      "Approximate alpha-relative PE-divergence = 0.33\n",
      "Approximate alpha-relative KL-divergence = -0.02\n",
      "RuLSIF completed.\n"
     ]
    }
   ],
   "source": [
    "X_new = column_decorrelation(X)\n",
    "estimator = densratio(X_new, X, sigma_range=[0.1, 0.3, 0.5, 0.7, 1], \n",
    "                      lambda_range=[0.01, 0.02, 0.03, 0.04, 0.05])"
   ]
  },
  {
   "cell_type": "code",
   "execution_count": 6,
   "metadata": {},
   "outputs": [],
   "source": [
    "w = estimator.compute_density_ratio(X)"
   ]
  },
  {
   "cell_type": "code",
   "execution_count": 10,
   "metadata": {},
   "outputs": [
    {
     "data": {
      "text/plain": [
       "(array([[ 1.        ,  0.94033276,  0.01292759,  0.01868766, -0.04373261,\n",
       "         -0.03971546, -0.09028541, -0.09588934,  0.06749958,  0.05635815],\n",
       "        [ 0.94033276,  1.        , -0.00272335, -0.00244163, -0.04313198,\n",
       "         -0.03492322, -0.08316509, -0.09079448,  0.08522875,  0.06999574],\n",
       "        [ 0.01292759, -0.00272335,  1.        ,  0.94460675, -0.01730957,\n",
       "         -0.0206053 , -0.01057484, -0.02056833, -0.01600544,  0.00403698],\n",
       "        [ 0.01868766, -0.00244163,  0.94460675,  1.        , -0.03051637,\n",
       "         -0.03670749, -0.02779597, -0.03516948, -0.03435456, -0.01741817],\n",
       "        [-0.04373261, -0.04313198, -0.01730957, -0.03051637,  1.        ,\n",
       "          0.94772706, -0.01314539, -0.02616534, -0.01909374, -0.02053705],\n",
       "        [-0.03971546, -0.03492322, -0.0206053 , -0.03670749,  0.94772706,\n",
       "          1.        ,  0.00273916, -0.003941  , -0.00415763, -0.00962389],\n",
       "        [-0.09028541, -0.08316509, -0.01057484, -0.02779597, -0.01314539,\n",
       "          0.00273916,  1.        ,  0.93325251,  0.00631981,  0.04401944],\n",
       "        [-0.09588934, -0.09079448, -0.02056833, -0.03516948, -0.02616534,\n",
       "         -0.003941  ,  0.93325251,  1.        ,  0.02092138,  0.06309485],\n",
       "        [ 0.06749958,  0.08522875, -0.01600544, -0.03435456, -0.01909374,\n",
       "         -0.00415763,  0.00631981,  0.02092138,  1.        ,  0.93798263],\n",
       "        [ 0.05635815,  0.06999574,  0.00403698, -0.01741817, -0.02053705,\n",
       "         -0.00962389,  0.04401944,  0.06309485,  0.93798263,  1.        ]]),\n",
       " 0.13436050936452448,\n",
       " 0.049937823656958986)"
      ]
     },
     "execution_count": 10,
     "metadata": {},
     "output_type": "execute_result"
    }
   ],
   "source": [
    "weighted_corrcoef(X, w)"
   ]
  },
  {
   "cell_type": "code",
   "execution_count": 8,
   "metadata": {},
   "outputs": [
    {
     "name": "stdout",
     "output_type": "stream",
     "text": [
      "0.20801669270116466\n",
      "0.21156904139614693\n"
     ]
    }
   ],
   "source": [
    "ols=OLS()\n",
    "ols.fit(X,Y)\n",
    "print(cal_estimation_error(beta, ols.beta))\n",
    "ols.fit(X,Y,sample_weight=w)\n",
    "print(cal_estimation_error(beta, ols.beta))"
   ]
  },
  {
   "cell_type": "code",
   "execution_count": 11,
   "metadata": {},
   "outputs": [],
   "source": [
    "X = generate_block_data(sample_size=1000, block_size=2, block_num=1, rho=0.95)\n",
    "beta = np.array([[0],[1]])\n",
    "Y = linear_model_generation(X, beta)\n",
    "# estimator = densratio(X, column_decorrelation(X))"
   ]
  },
  {
   "cell_type": "code",
   "execution_count": 79,
   "metadata": {},
   "outputs": [
    {
     "data": {
      "text/plain": [
       "(array([[1.        , 0.94368272],\n",
       "        [0.94368272, 1.        ]]), 0.9436827205375946, 34.51307909564659)"
      ]
     },
     "execution_count": 79,
     "metadata": {},
     "output_type": "execute_result"
    }
   ],
   "source": [
    "w = estimator.compute_density_ratio(X)\n",
    "weighted_corrcoef(X, w)"
   ]
  },
  {
   "cell_type": "code",
   "execution_count": 80,
   "metadata": {},
   "outputs": [
    {
     "name": "stdout",
     "output_type": "stream",
     "text": [
      "0.2866246626094623\n",
      "0.2903238614399168\n"
     ]
    }
   ],
   "source": [
    "ols=OLS()\n",
    "ols.fit(X,Y)\n",
    "print(cal_estimation_error(beta, ols.beta))\n",
    "ols.fit(X,Y,sample_weight=w)\n",
    "print(cal_estimation_error(beta, ols.beta))"
   ]
  },
  {
   "cell_type": "code",
   "execution_count": 12,
   "metadata": {},
   "outputs": [],
   "source": [
    "%aimport pykliep\n",
    "from pykliep import DensityRatioEstimator"
   ]
  },
  {
   "cell_type": "code",
   "execution_count": 13,
   "metadata": {},
   "outputs": [
    {
     "name": "stderr",
     "output_type": "stream",
     "text": [
      "/home/zyshen/Variable_Decorrelation/pykliep.py:167: RuntimeWarning: divide by zero encountered in true_divide\n",
      "  out += epsilon*np.dot(np.transpose(A),1./np.dot(A,out))\n",
      "/home/zyshen/Variable_Decorrelation/pykliep.py:167: RuntimeWarning: overflow encountered in true_divide\n",
      "  out += epsilon*np.dot(np.transpose(A),1./np.dot(A,out))\n"
     ]
    }
   ],
   "source": [
    "kliep = DensityRatioEstimator()\n",
    "kliep.fit(column_decorrelation(X), X) # keyword arguments are X_train and X_test\n",
    "weights = kliep.predict(X)"
   ]
  },
  {
   "cell_type": "code",
   "execution_count": 15,
   "metadata": {},
   "outputs": [
    {
     "data": {
      "text/plain": [
       "(array([[1.       , 0.9999979],\n",
       "        [0.9999979, 1.       ]]), 0.9999978975600268, 2.1024399727842535e-06)"
      ]
     },
     "execution_count": 15,
     "metadata": {},
     "output_type": "execute_result"
    }
   ],
   "source": [
    "weighted_corrcoef(X, 1./weights)"
   ]
  },
  {
   "cell_type": "code",
   "execution_count": 109,
   "metadata": {},
   "outputs": [
    {
     "name": "stdout",
     "output_type": "stream",
     "text": [
      "0.10911893123130482\n",
      "0.16759087444638676\n"
     ]
    }
   ],
   "source": [
    "X = generate_block_data(sample_size=100000, block_size=10, block_num=1, rho=0.95)\n",
    "beta = np.array([[2],[1],[3],[1],[2],[1],[3],[1],[2],[1]])\n",
    "Y = linear_model_generation(X, beta)\n",
    "ols=OLS()\n",
    "ols.fit(X,Y)\n",
    "print(cal_estimation_error(beta, ols.beta))\n",
    "# kliep.fit(X, column_decorrelation(X)) # keyword arguments are X_train and X_test\n",
    "# weights = kliep.predict(X)\n",
    "w = decorrelation(X)\n",
    "ols.fit(X,Y,sample_weight=w)\n",
    "print(cal_estimation_error(beta, ols.beta))"
   ]
  },
  {
   "cell_type": "code",
   "execution_count": 110,
   "metadata": {},
   "outputs": [
    {
     "data": {
      "text/plain": [
       "(array([[1.        , 0.51468798, 0.53225134, 0.44584708, 0.147936  ,\n",
       "         0.68101712, 0.48774373, 0.11083188, 0.43682848, 0.64089818],\n",
       "        [0.51468798, 1.        , 0.50063614, 0.47502179, 0.59298027,\n",
       "         0.65762024, 0.22261551, 0.42761354, 0.59633572, 0.47088588],\n",
       "        [0.53225134, 0.50063614, 1.        , 0.79192373, 0.18582808,\n",
       "         0.68891281, 0.31304224, 0.16114927, 0.36543113, 0.75857495],\n",
       "        [0.44584708, 0.47502179, 0.79192373, 1.        , 0.25548053,\n",
       "         0.62357352, 0.34839169, 0.27673347, 0.41370988, 0.72545097],\n",
       "        [0.147936  , 0.59298027, 0.18582808, 0.25548053, 1.        ,\n",
       "         0.28183631, 0.27389444, 0.74833253, 0.65620075, 0.14559916],\n",
       "        [0.68101712, 0.65762024, 0.68891281, 0.62357352, 0.28183631,\n",
       "         1.        , 0.31765908, 0.18986455, 0.45411317, 0.67384166],\n",
       "        [0.48774373, 0.22261551, 0.31304224, 0.34839169, 0.27389444,\n",
       "         0.31765908, 1.        , 0.43198916, 0.52779563, 0.45911775],\n",
       "        [0.11083188, 0.42761354, 0.16114927, 0.27673347, 0.74833253,\n",
       "         0.18986455, 0.43198916, 1.        , 0.64516775, 0.16992312],\n",
       "        [0.43682848, 0.59633572, 0.36543113, 0.41370988, 0.65620075,\n",
       "         0.45411317, 0.52779563, 0.64516775, 1.        , 0.42438809],\n",
       "        [0.64089818, 0.47088588, 0.75857495, 0.72545097, 0.14559916,\n",
       "         0.67384166, 0.45911775, 0.16992312, 0.42438809, 1.        ]]),\n",
       " 0.44999280712226564,\n",
       " 0.18524186511894072)"
      ]
     },
     "execution_count": 110,
     "metadata": {},
     "output_type": "execute_result"
    }
   ],
   "source": [
    "weighted_corrcoef(X, w)"
   ]
  },
  {
   "cell_type": "code",
   "execution_count": 112,
   "metadata": {},
   "outputs": [
    {
     "data": {
      "text/plain": [
       "(array([[1.        , 0.95001009, 0.9497756 , 0.94993952, 0.94972843,\n",
       "         0.95000829, 0.94983972, 0.95004938, 0.9500918 , 0.94991083],\n",
       "        [0.95001009, 1.        , 0.94963139, 0.94967761, 0.94976718,\n",
       "         0.95007073, 0.94992221, 0.9503387 , 0.94990932, 0.94990976],\n",
       "        [0.9497756 , 0.94963139, 1.        , 0.94955101, 0.94987046,\n",
       "         0.94990912, 0.94949581, 0.94977501, 0.94996528, 0.94959551],\n",
       "        [0.94993952, 0.94967761, 0.94955101, 1.        , 0.94954343,\n",
       "         0.94989469, 0.94914068, 0.94975134, 0.94958457, 0.94977977],\n",
       "        [0.94972843, 0.94976718, 0.94987046, 0.94954343, 1.        ,\n",
       "         0.9495092 , 0.94965506, 0.94973601, 0.94982698, 0.94936349],\n",
       "        [0.95000829, 0.95007073, 0.94990912, 0.94989469, 0.9495092 ,\n",
       "         1.        , 0.95015083, 0.95030059, 0.94988169, 0.94964449],\n",
       "        [0.94983972, 0.94992221, 0.94949581, 0.94914068, 0.94965506,\n",
       "         0.95015083, 1.        , 0.94978673, 0.94966019, 0.94946694],\n",
       "        [0.95004938, 0.9503387 , 0.94977501, 0.94975134, 0.94973601,\n",
       "         0.95030059, 0.94978673, 1.        , 0.95018066, 0.94984265],\n",
       "        [0.9500918 , 0.94990932, 0.94996528, 0.94958457, 0.94982698,\n",
       "         0.94988169, 0.94966019, 0.95018066, 1.        , 0.94970619],\n",
       "        [0.94991083, 0.94990976, 0.94959551, 0.94977977, 0.94936349,\n",
       "         0.94964449, 0.94946694, 0.94984265, 0.94970619, 1.        ]]),\n",
       " 0.9498033097097623,\n",
       " 0.04937910981733413)"
      ]
     },
     "execution_count": 112,
     "metadata": {},
     "output_type": "execute_result"
    }
   ],
   "source": [
    "weighted_corrcoef(X, np.ones([100000,1]))"
   ]
  },
  {
   "cell_type": "code",
   "execution_count": 113,
   "metadata": {},
   "outputs": [
    {
     "name": "stdout",
     "output_type": "stream",
     "text": [
      "18267.578222663524\n",
      "316.2277660168379\n"
     ]
    }
   ],
   "source": [
    "print(np.linalg.norm(w, ord=2))\n",
    "print(np.linalg.norm(np.ones([100000,1]), ord=2))"
   ]
  },
  {
   "cell_type": "code",
   "execution_count": 3,
   "metadata": {},
   "outputs": [],
   "source": [
    "beta = np.array([[1],[1]])\n",
    "X = generate_block_data(sample_size=1000, block_size=2, block_num=1, rho=0.9)\n",
    "Y = linear_model_generation(X, beta, degree=1, magnitude=0.1)"
   ]
  },
  {
   "cell_type": "code",
   "execution_count": 6,
   "metadata": {},
   "outputs": [
    {
     "name": "stdout",
     "output_type": "stream",
     "text": [
      "[[ 0.7927328 ]\n",
      " [ 1.21999835]]\n"
     ]
    }
   ],
   "source": [
    "ols = OLS()\n",
    "ols.fit(X,Y)\n",
    "print(ols.beta)"
   ]
  },
  {
   "cell_type": "code",
   "execution_count": null,
   "metadata": {},
   "outputs": [],
   "source": []
  }
 ],
 "metadata": {
  "kernelspec": {
   "display_name": "Python 3",
   "language": "python",
   "name": "python3"
  },
  "language_info": {
   "codemirror_mode": {
    "name": "ipython",
    "version": 3
   },
   "file_extension": ".py",
   "mimetype": "text/x-python",
   "name": "python",
   "nbconvert_exporter": "python",
   "pygments_lexer": "ipython3",
   "version": "3.6.7"
  }
 },
 "nbformat": 4,
 "nbformat_minor": 2
}
