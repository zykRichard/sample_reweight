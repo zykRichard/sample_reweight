{
 "cells": [
  {
   "cell_type": "code",
   "execution_count": 1,
   "metadata": {},
   "outputs": [],
   "source": [
    "%load_ext autoreload\n",
    "%autoreload 1\n",
    "%matplotlib inline"
   ]
  },
  {
   "cell_type": "code",
   "execution_count": 4,
   "metadata": {},
   "outputs": [],
   "source": [
    "import sys\n",
    "import numpy as np\n",
    "import pandas as pd\n",
    "np.set_printoptions(suppress=True)\n",
    "sys.path.append('./code')\n",
    "%aimport data_generator\n",
    "from data_generator import generate_block_data, linear_model_generation"
   ]
  },
  {
   "cell_type": "markdown",
   "metadata": {},
   "source": [
    "### 0. Synthetic Data Assumption\n",
    "Assume X can be decomposed into X={S, V} and generated from a multivariate normal distribution $X\\sim N(0,\\Sigma)$, by specifying the structure of covariance matrix $\\Sigma$, we can simulate different correlation structue of X. \n",
    "\n",
    "Specifically, we can divide $\\Sigma$ into four blocks according to S and V, as follows:\n",
    "$$\n",
    "\\Sigma = \\left(\\begin{array}{cc} \n",
    "                \\Sigma_{SS} & \\Sigma_{SV}\\\\ \n",
    "                \\Sigma_{VS} & \\Sigma_{VV}\\\\\n",
    "         \\end{array}\\right).\n",
    "$$"
   ]
  },
  {
   "cell_type": "markdown",
   "metadata": {},
   "source": [
    "### 1. S&V data generation\n",
    "In this main experiment, we assume the correlation only comes from S and V, thus becomes spurious correlation"
   ]
  },
  {
   "cell_type": "code",
   "execution_count": 45,
   "metadata": {
    "collapsed": true
   },
   "outputs": [
    {
     "data": {
      "text/plain": [
       "array([[ 0.2],\n",
       "       [-0.4],\n",
       "       [ 0.6],\n",
       "       [-0.8],\n",
       "       [ 1. ],\n",
       "       [-0.2],\n",
       "       [ 0.4],\n",
       "       [-0.6],\n",
       "       [ 0.8],\n",
       "       [-1. ],\n",
       "       [-0.2],\n",
       "       [ 0.4],\n",
       "       [-0.6],\n",
       "       [ 0.8],\n",
       "       [-1. ],\n",
       "       [ 0.2],\n",
       "       [-0.4],\n",
       "       [ 0.6],\n",
       "       [-0.8],\n",
       "       [ 1. ],\n",
       "       [ 0.2],\n",
       "       [-0.4],\n",
       "       [ 0.6],\n",
       "       [-0.8],\n",
       "       [ 1. ],\n",
       "       [-0.2],\n",
       "       [ 0.4],\n",
       "       [-0.6],\n",
       "       [ 0.8],\n",
       "       [-1. ],\n",
       "       [-0.2],\n",
       "       [ 0.4],\n",
       "       [-0.6],\n",
       "       [ 0.8],\n",
       "       [-1. ],\n",
       "       [ 0.2],\n",
       "       [-0.4],\n",
       "       [ 0.6],\n",
       "       [-0.8],\n",
       "       [ 1. ]])"
      ]
     },
     "execution_count": 45,
     "metadata": {},
     "output_type": "execute_result"
    }
   ],
   "source": [
    "beta = np.array([[1/5],[-2/5],[3/5],[-4/5],[1],[-1/5],[2/5],[-3/5],[4/5],[-1]])\n",
    "beta_ = beta.copy()\n",
    "beta = np.vstack([beta, -beta_])\n",
    "beta = np.vstack([beta, beta])\n",
    "beta"
   ]
  },
  {
   "cell_type": "code",
   "execution_count": 74,
   "metadata": {},
   "outputs": [],
   "source": [
    "# Training Data Generation\n",
    "trial_num = 30\n",
    "X_train, Y_train = [], []\n",
    "n, p, s, rho = 1000, 10, 2, 0.8\n",
    "degree, magnitude = 5, 0.5\n",
    "beta = np.array([[1/5],[-2/5],[3/5],[-4/5],[1],[-1/5],[2/5],[-3/5],[4/5],[-1]])\n",
    "for i in range(trial_num):\n",
    "    np.random.seed(i)\n",
    "    X = generate_block_data(sample_size=n, block_size=s, block_num=int(p/s), rho=rho)\n",
    "    Y = linear_model_generation(X, beta, magnitude=magnitude, degree=degree)\n",
    "    X_train.append(X)\n",
    "    Y_train.append(Y)"
   ]
  },
  {
   "cell_type": "code",
   "execution_count": 76,
   "metadata": {},
   "outputs": [],
   "source": [
    "# Testing Data Generation\n",
    "trial_num = 30\n",
    "X_test, Y_test = [], []\n",
    "n, p, s, rho = 1000, 10, 2, 0.8\n",
    "degree, magnitude = 5, 0.5\n",
    "#beta = np.array([[1/5],[-2/5],[3/5],[-4/5],[1],[-1/5],[2/5],[-3/5],[4/5],[-1]])\n",
    "environments = [-0.9, -0.7, -0.5, -0.3, -0.1, 0.1, 0.3, 0.5, 0.7, 0.9]\n",
    "\n",
    "for i in range(trial_num):\n",
    "    np.random.seed(i+100)\n",
    "    X_env, Y_env = [], []\n",
    "    for rho in environments: \n",
    "        X = generate_block_data(sample_size=n, block_size=s, block_num=int(p/s), rho=rho)\n",
    "        Y = linear_model_generation(X, beta, magnitude=magnitude, degree=degree)\n",
    "        X_env.append(X)\n",
    "        Y_env.append(Y)\n",
    "    X_test.append(X_env)\n",
    "    Y_test.append(Y_env)"
   ]
  },
  {
   "cell_type": "code",
   "execution_count": 77,
   "metadata": {},
   "outputs": [],
   "source": [
    "np.savez('synthetic_data_main.npz', xtrain=X_train, ytrain=Y_train, xtest=X_test, ytest=Y_test)"
   ]
  },
  {
   "cell_type": "code",
   "execution_count": 34,
   "metadata": {},
   "outputs": [],
   "source": [
    "synthetic_data_sv = np.load('synthetic_data_sv.npz')"
   ]
  },
  {
   "cell_type": "markdown",
   "metadata": {},
   "source": [
    "### 2. WeChat Ads Data"
   ]
  },
  {
   "cell_type": "code",
   "execution_count": 182,
   "metadata": {},
   "outputs": [],
   "source": [
    "# Load the header file\n",
    "fd = open('./data/Ads_description.txt')\n",
    "headers = [line.strip().strip(',') for line in fd.readlines()]"
   ]
  },
  {
   "cell_type": "code",
   "execution_count": 183,
   "metadata": {},
   "outputs": [
    {
     "name": "stdout",
     "output_type": "stream",
     "text": [
      "(324170, 67)\n"
     ]
    }
   ],
   "source": [
    "# Load the Data\n",
    "ads_data = pd.read_csv('./data/Ads.data', names=headers)\n",
    "print(ads_data.shape)"
   ]
  },
  {
   "cell_type": "code",
   "execution_count": 184,
   "metadata": {},
   "outputs": [],
   "source": [
    "# Filter the invalid age data\n",
    "age = ads_data['fage']\n",
    "ads_data = ads_data[age<100]"
   ]
  },
  {
   "cell_type": "code",
   "execution_count": 185,
   "metadata": {},
   "outputs": [
    {
     "name": "stdout",
     "output_type": "stream",
     "text": [
      "(323609, 66)\n"
     ]
    }
   ],
   "source": [
    "# Drop uin\n",
    "ads_data.drop(['uin'], axis=1, inplace=True)\n",
    "print(ads_data.shape)"
   ]
  },
  {
   "cell_type": "code",
   "execution_count": 186,
   "metadata": {},
   "outputs": [
    {
     "name": "stdout",
     "output_type": "stream",
     "text": [
      "fmplugin_ 0.990420538366\n",
      "facebookplugin_ 0.0353945656641\n",
      "feedsappplugin_ 0.995497653032\n",
      "masssendplugin_ 0.960659314172\n",
      "meishiplugin_ 0.00720931741701\n",
      "sex_ 0.0124533001245\n",
      "personalcard_ 1.0\n",
      "verifyuser_ 0.987117169176\n",
      "recomendfacebookfriend_ 0.00643369003952\n",
      "readerapppush_ 6.18029782855e-06\n",
      "meishicard_ 0.00767283975415\n",
      "weixinhdimg_ 0.999252183963\n",
      "weixinimg_ 0.999765148683\n",
      "albumfrontcover_ 0.975535291046\n",
      "snsflag_ 0.993108967921\n",
      "paybank_ 0.999947467468\n",
      "(323609, 50)\n"
     ]
    }
   ],
   "source": [
    "# Filter the binary features without enough information\n",
    "for col in ads_data.columns:\n",
    "    data = ads_data[col]\n",
    "    if data.max()<1.1 and data.min()>-0.1: #binary\n",
    "        if data.mean()<0.05 or data.mean()>0.95:\n",
    "            print(col, data.mean())\n",
    "            ads_data.drop([col], axis=1, inplace=True)\n",
    "print(ads_data.shape)"
   ]
  },
  {
   "cell_type": "markdown",
   "metadata": {},
   "source": [
    "Up to now, we have 49 features and 1 outcome, among the 49 features there are 11 non-binary and 38 binary features, we want to hold ~15 features total"
   ]
  },
  {
   "cell_type": "code",
   "execution_count": 187,
   "metadata": {},
   "outputs": [
    {
     "data": {
      "text/plain": [
       "(323609, 50)"
      ]
     },
     "execution_count": 187,
     "metadata": {},
     "output_type": "execute_result"
    }
   ],
   "source": [
    "# Hold a subset of binary features\n",
    "feature_num = 15 # Exclude Age\n",
    "drop_cols = ads_data.columns[feature_num+1:-1]\n",
    "ads_data.drop(drop_cols, axis=1, inplace=True)\n",
    "ads_data.shape"
   ]
  },
  {
   "cell_type": "code",
   "execution_count": null,
   "metadata": {},
   "outputs": [],
   "source": [
    "data_list = list()\n",
    "# Split the data with Age\n",
    "edges = [0, 20, 30, 40, 50, 60, 100]\n",
    "for i in range(1, len(edges)):\n",
    "    data = ads_data[ads_data.fage>=edges[i-1]]\n",
    "    data = data[data.fage<edges[i]]\n",
    "    data.drop(['fage'], axis=1, inplace=True)\n",
    "    data_list.append(data)\n",
    "    print(len(data))\n",
    "\n",
    "# Save into file\n",
    "for i in range(1, len(edges)-1):\n",
    "    Y = data_list[i]['outcome']\n",
    "    X = data_list[i].drop(['outcome'], axis=1, inplace=False)\n",
    "    np.save('data/Ads_age_5group/Ads_X'+str(i-1)+'.npy', np.array(X))\n",
    "    np.save('data/Ads_age_5group/Ads_Y'+str(i-1)+'.npy', np.array(Y))"
   ]
  },
  {
   "cell_type": "code",
   "execution_count": 196,
   "metadata": {},
   "outputs": [
    {
     "name": "stdout",
     "output_type": "stream",
     "text": [
      "9712\n",
      "50054\n",
      "120522\n",
      "102332\n",
      "34150\n",
      "6839\n"
     ]
    }
   ],
   "source": [
    "data_list = list()    \n",
    "# Split the data with friend_count\n",
    "edges = [0, 6, 7, 8, 9, 10, 100]\n",
    "for i in range(1, len(edges)):\n",
    "    data = ads_data[ads_data.ftotal_friend_count>=edges[i-1]]\n",
    "    data = data[data.ftotal_friend_count<edges[i]]\n",
    "    data.drop(['ftotal_friend_count'], axis=1, inplace=True)\n",
    "    data_list.append(data)\n",
    "    print(len(data))\n",
    "\n",
    "# Save into file\n",
    "for i in range(len(edges)-1):\n",
    "    Y = data_list[i]['outcome']\n",
    "    X = data_list[i].drop(['outcome'], axis=1, inplace=False)\n",
    "    np.save('data/Ads_friend_6group/Ads_X'+str(i)+'.npy', np.array(X))\n",
    "    np.save('data/Ads_friend_6group/Ads_Y'+str(i)+'.npy', np.array(Y))"
   ]
  },
  {
   "cell_type": "code",
   "execution_count": 197,
   "metadata": {},
   "outputs": [
    {
     "data": {
      "text/plain": [
       "Index(['fage', 'flogin_counts', 'fsendmsg_count', 'frecvmsg_count',\n",
       "       'fsnsupload_count', 'fgamereview_count', 'fbankcard_view_count',\n",
       "       'fsns_view', 'forder_num', 'fgrade', 'fis_game_user', 'device_',\n",
       "       'qqmailplugin_', 'pmplugin_', 'weiboplugin_', 'medianoteplugin_',\n",
       "       'qqmsgplugin_', 'bottleplugin_', 'qqsyncplugin_', 'shakeplugin_',\n",
       "       'lbsplugin_', 'gmailplugin_', 'checkqqfriendplugin_',\n",
       "       'readerappplugin_', 'blogplugin_', 'newsappplugin_', 'nightnovoice_',\n",
       "       'alldaynovoice_', 'emailverify_', 'mobileverify_', 'qqsearch_',\n",
       "       'promotetoother_', 'qqmsgnotify_', 'promoteqqfriendtome_',\n",
       "       'promotetome_', 'mobilesearch_', 'addcontact_', 'apnstips_',\n",
       "       'qqweixinonline_', 'uploadmobilecontact_', 'weibourl_',\n",
       "       'readerapptxnewspush_', 'readerappweibopush_', 'txweiboicon_',\n",
       "       'bottlehdimg_', 'newsapptxnewspush_', 'snsflagex_', 'voiceinput_',\n",
       "       'outcome'],\n",
       "      dtype='object')"
      ]
     },
     "execution_count": 197,
     "metadata": {},
     "output_type": "execute_result"
    }
   ],
   "source": [
    "data_list[0].columns"
   ]
  },
  {
   "cell_type": "code",
   "execution_count": 198,
   "metadata": {},
   "outputs": [
    {
     "data": {
      "text/html": [
       "<div>\n",
       "<style scoped>\n",
       "    .dataframe tbody tr th:only-of-type {\n",
       "        vertical-align: middle;\n",
       "    }\n",
       "\n",
       "    .dataframe tbody tr th {\n",
       "        vertical-align: top;\n",
       "    }\n",
       "\n",
       "    .dataframe thead th {\n",
       "        text-align: right;\n",
       "    }\n",
       "</style>\n",
       "<table border=\"1\" class=\"dataframe\">\n",
       "  <thead>\n",
       "    <tr style=\"text-align: right;\">\n",
       "      <th></th>\n",
       "      <th>fage</th>\n",
       "      <th>flogin_counts</th>\n",
       "      <th>fsendmsg_count</th>\n",
       "      <th>frecvmsg_count</th>\n",
       "      <th>fsnsupload_count</th>\n",
       "      <th>fgamereview_count</th>\n",
       "      <th>fbankcard_view_count</th>\n",
       "      <th>fsns_view</th>\n",
       "      <th>forder_num</th>\n",
       "      <th>fgrade</th>\n",
       "      <th>...</th>\n",
       "      <th>uploadmobilecontact_</th>\n",
       "      <th>weibourl_</th>\n",
       "      <th>readerapptxnewspush_</th>\n",
       "      <th>readerappweibopush_</th>\n",
       "      <th>txweiboicon_</th>\n",
       "      <th>bottlehdimg_</th>\n",
       "      <th>newsapptxnewspush_</th>\n",
       "      <th>snsflagex_</th>\n",
       "      <th>voiceinput_</th>\n",
       "      <th>outcome</th>\n",
       "    </tr>\n",
       "  </thead>\n",
       "  <tbody>\n",
       "    <tr>\n",
       "      <th>count</th>\n",
       "      <td>9712.000000</td>\n",
       "      <td>9712.000000</td>\n",
       "      <td>9712.000000</td>\n",
       "      <td>9712.000000</td>\n",
       "      <td>9712.000000</td>\n",
       "      <td>9712.000000</td>\n",
       "      <td>9712.000000</td>\n",
       "      <td>9712.000000</td>\n",
       "      <td>9712.000000</td>\n",
       "      <td>9712.000000</td>\n",
       "      <td>...</td>\n",
       "      <td>9712.000000</td>\n",
       "      <td>9712.000000</td>\n",
       "      <td>9712.000000</td>\n",
       "      <td>9712.000000</td>\n",
       "      <td>9712.000000</td>\n",
       "      <td>9712.000000</td>\n",
       "      <td>9712.000000</td>\n",
       "      <td>9712.000000</td>\n",
       "      <td>9712.000000</td>\n",
       "      <td>9712.000000</td>\n",
       "    </tr>\n",
       "    <tr>\n",
       "      <th>mean</th>\n",
       "      <td>27.032846</td>\n",
       "      <td>8.207702</td>\n",
       "      <td>7.172357</td>\n",
       "      <td>9.061019</td>\n",
       "      <td>2.748853</td>\n",
       "      <td>2.438740</td>\n",
       "      <td>1.851859</td>\n",
       "      <td>6.890589</td>\n",
       "      <td>1.116274</td>\n",
       "      <td>3.004839</td>\n",
       "      <td>...</td>\n",
       "      <td>0.816516</td>\n",
       "      <td>0.078357</td>\n",
       "      <td>0.020181</td>\n",
       "      <td>0.142504</td>\n",
       "      <td>0.081755</td>\n",
       "      <td>0.416186</td>\n",
       "      <td>0.304057</td>\n",
       "      <td>0.373867</td>\n",
       "      <td>0.958505</td>\n",
       "      <td>0.111306</td>\n",
       "    </tr>\n",
       "    <tr>\n",
       "      <th>std</th>\n",
       "      <td>9.624162</td>\n",
       "      <td>2.633818</td>\n",
       "      <td>3.321355</td>\n",
       "      <td>3.257955</td>\n",
       "      <td>2.116820</td>\n",
       "      <td>1.913250</td>\n",
       "      <td>2.024938</td>\n",
       "      <td>2.564211</td>\n",
       "      <td>1.626852</td>\n",
       "      <td>1.907574</td>\n",
       "      <td>...</td>\n",
       "      <td>0.387083</td>\n",
       "      <td>0.268746</td>\n",
       "      <td>0.140627</td>\n",
       "      <td>0.349584</td>\n",
       "      <td>0.274004</td>\n",
       "      <td>0.492951</td>\n",
       "      <td>0.460031</td>\n",
       "      <td>0.483854</td>\n",
       "      <td>0.199443</td>\n",
       "      <td>0.314526</td>\n",
       "    </tr>\n",
       "    <tr>\n",
       "      <th>min</th>\n",
       "      <td>0.000000</td>\n",
       "      <td>0.000000</td>\n",
       "      <td>0.000000</td>\n",
       "      <td>0.000000</td>\n",
       "      <td>0.000000</td>\n",
       "      <td>0.000000</td>\n",
       "      <td>0.000000</td>\n",
       "      <td>0.000000</td>\n",
       "      <td>0.000000</td>\n",
       "      <td>0.000000</td>\n",
       "      <td>...</td>\n",
       "      <td>0.000000</td>\n",
       "      <td>0.000000</td>\n",
       "      <td>0.000000</td>\n",
       "      <td>0.000000</td>\n",
       "      <td>0.000000</td>\n",
       "      <td>0.000000</td>\n",
       "      <td>0.000000</td>\n",
       "      <td>0.000000</td>\n",
       "      <td>0.000000</td>\n",
       "      <td>0.000000</td>\n",
       "    </tr>\n",
       "    <tr>\n",
       "      <th>25%</th>\n",
       "      <td>21.000000</td>\n",
       "      <td>7.851749</td>\n",
       "      <td>5.643856</td>\n",
       "      <td>7.971544</td>\n",
       "      <td>1.000000</td>\n",
       "      <td>1.000000</td>\n",
       "      <td>0.000000</td>\n",
       "      <td>6.247928</td>\n",
       "      <td>0.000000</td>\n",
       "      <td>2.000000</td>\n",
       "      <td>...</td>\n",
       "      <td>1.000000</td>\n",
       "      <td>0.000000</td>\n",
       "      <td>0.000000</td>\n",
       "      <td>0.000000</td>\n",
       "      <td>0.000000</td>\n",
       "      <td>0.000000</td>\n",
       "      <td>0.000000</td>\n",
       "      <td>0.000000</td>\n",
       "      <td>1.000000</td>\n",
       "      <td>0.000000</td>\n",
       "    </tr>\n",
       "    <tr>\n",
       "      <th>50%</th>\n",
       "      <td>26.000000</td>\n",
       "      <td>8.823367</td>\n",
       "      <td>7.842347</td>\n",
       "      <td>9.670656</td>\n",
       "      <td>2.807355</td>\n",
       "      <td>2.321928</td>\n",
       "      <td>1.000000</td>\n",
       "      <td>7.588710</td>\n",
       "      <td>0.000000</td>\n",
       "      <td>3.000000</td>\n",
       "      <td>...</td>\n",
       "      <td>1.000000</td>\n",
       "      <td>0.000000</td>\n",
       "      <td>0.000000</td>\n",
       "      <td>0.000000</td>\n",
       "      <td>0.000000</td>\n",
       "      <td>0.000000</td>\n",
       "      <td>0.000000</td>\n",
       "      <td>0.000000</td>\n",
       "      <td>1.000000</td>\n",
       "      <td>0.000000</td>\n",
       "    </tr>\n",
       "    <tr>\n",
       "      <th>75%</th>\n",
       "      <td>32.000000</td>\n",
       "      <td>9.707359</td>\n",
       "      <td>9.459432</td>\n",
       "      <td>11.087629</td>\n",
       "      <td>4.392317</td>\n",
       "      <td>3.700440</td>\n",
       "      <td>3.321928</td>\n",
       "      <td>8.511753</td>\n",
       "      <td>2.000000</td>\n",
       "      <td>4.000000</td>\n",
       "      <td>...</td>\n",
       "      <td>1.000000</td>\n",
       "      <td>0.000000</td>\n",
       "      <td>0.000000</td>\n",
       "      <td>0.000000</td>\n",
       "      <td>0.000000</td>\n",
       "      <td>1.000000</td>\n",
       "      <td>1.000000</td>\n",
       "      <td>1.000000</td>\n",
       "      <td>1.000000</td>\n",
       "      <td>0.000000</td>\n",
       "    </tr>\n",
       "    <tr>\n",
       "      <th>max</th>\n",
       "      <td>99.000000</td>\n",
       "      <td>16.077442</td>\n",
       "      <td>15.038105</td>\n",
       "      <td>17.719930</td>\n",
       "      <td>9.763212</td>\n",
       "      <td>10.542065</td>\n",
       "      <td>11.316847</td>\n",
       "      <td>12.067770</td>\n",
       "      <td>9.339850</td>\n",
       "      <td>6.000000</td>\n",
       "      <td>...</td>\n",
       "      <td>1.000000</td>\n",
       "      <td>1.000000</td>\n",
       "      <td>1.000000</td>\n",
       "      <td>1.000000</td>\n",
       "      <td>1.000000</td>\n",
       "      <td>1.000000</td>\n",
       "      <td>1.000000</td>\n",
       "      <td>1.000000</td>\n",
       "      <td>1.000000</td>\n",
       "      <td>1.000000</td>\n",
       "    </tr>\n",
       "  </tbody>\n",
       "</table>\n",
       "<p>8 rows × 49 columns</p>\n",
       "</div>"
      ],
      "text/plain": [
       "              fage  flogin_counts  fsendmsg_count  frecvmsg_count  \\\n",
       "count  9712.000000    9712.000000     9712.000000     9712.000000   \n",
       "mean     27.032846       8.207702        7.172357        9.061019   \n",
       "std       9.624162       2.633818        3.321355        3.257955   \n",
       "min       0.000000       0.000000        0.000000        0.000000   \n",
       "25%      21.000000       7.851749        5.643856        7.971544   \n",
       "50%      26.000000       8.823367        7.842347        9.670656   \n",
       "75%      32.000000       9.707359        9.459432       11.087629   \n",
       "max      99.000000      16.077442       15.038105       17.719930   \n",
       "\n",
       "       fsnsupload_count  fgamereview_count  fbankcard_view_count    fsns_view  \\\n",
       "count       9712.000000        9712.000000           9712.000000  9712.000000   \n",
       "mean           2.748853           2.438740              1.851859     6.890589   \n",
       "std            2.116820           1.913250              2.024938     2.564211   \n",
       "min            0.000000           0.000000              0.000000     0.000000   \n",
       "25%            1.000000           1.000000              0.000000     6.247928   \n",
       "50%            2.807355           2.321928              1.000000     7.588710   \n",
       "75%            4.392317           3.700440              3.321928     8.511753   \n",
       "max            9.763212          10.542065             11.316847    12.067770   \n",
       "\n",
       "        forder_num       fgrade     ...       uploadmobilecontact_  \\\n",
       "count  9712.000000  9712.000000     ...                9712.000000   \n",
       "mean      1.116274     3.004839     ...                   0.816516   \n",
       "std       1.626852     1.907574     ...                   0.387083   \n",
       "min       0.000000     0.000000     ...                   0.000000   \n",
       "25%       0.000000     2.000000     ...                   1.000000   \n",
       "50%       0.000000     3.000000     ...                   1.000000   \n",
       "75%       2.000000     4.000000     ...                   1.000000   \n",
       "max       9.339850     6.000000     ...                   1.000000   \n",
       "\n",
       "         weibourl_  readerapptxnewspush_  readerappweibopush_  txweiboicon_  \\\n",
       "count  9712.000000           9712.000000          9712.000000   9712.000000   \n",
       "mean      0.078357              0.020181             0.142504      0.081755   \n",
       "std       0.268746              0.140627             0.349584      0.274004   \n",
       "min       0.000000              0.000000             0.000000      0.000000   \n",
       "25%       0.000000              0.000000             0.000000      0.000000   \n",
       "50%       0.000000              0.000000             0.000000      0.000000   \n",
       "75%       0.000000              0.000000             0.000000      0.000000   \n",
       "max       1.000000              1.000000             1.000000      1.000000   \n",
       "\n",
       "       bottlehdimg_  newsapptxnewspush_   snsflagex_  voiceinput_      outcome  \n",
       "count   9712.000000         9712.000000  9712.000000  9712.000000  9712.000000  \n",
       "mean       0.416186            0.304057     0.373867     0.958505     0.111306  \n",
       "std        0.492951            0.460031     0.483854     0.199443     0.314526  \n",
       "min        0.000000            0.000000     0.000000     0.000000     0.000000  \n",
       "25%        0.000000            0.000000     0.000000     1.000000     0.000000  \n",
       "50%        0.000000            0.000000     0.000000     1.000000     0.000000  \n",
       "75%        1.000000            1.000000     1.000000     1.000000     0.000000  \n",
       "max        1.000000            1.000000     1.000000     1.000000     1.000000  \n",
       "\n",
       "[8 rows x 49 columns]"
      ]
     },
     "execution_count": 198,
     "metadata": {},
     "output_type": "execute_result"
    }
   ],
   "source": [
    "data_list[0].describe()"
   ]
  },
  {
   "cell_type": "code",
   "execution_count": null,
   "metadata": {},
   "outputs": [],
   "source": []
  }
 ],
 "metadata": {
  "kernelspec": {
   "display_name": "Python 3.9.12 ('base')",
   "language": "python",
   "name": "python3"
  },
  "language_info": {
   "codemirror_mode": {
    "name": "ipython",
    "version": 3
   },
   "file_extension": ".py",
   "mimetype": "text/x-python",
   "name": "python",
   "nbconvert_exporter": "python",
   "pygments_lexer": "ipython3",
   "version": "3.9.12"
  },
  "vscode": {
   "interpreter": {
    "hash": "0496842fed3252e429d236fd9df9f28ef62eb2f8e7d98cd38ba8d6755488d983"
   }
  }
 },
 "nbformat": 4,
 "nbformat_minor": 2
}
