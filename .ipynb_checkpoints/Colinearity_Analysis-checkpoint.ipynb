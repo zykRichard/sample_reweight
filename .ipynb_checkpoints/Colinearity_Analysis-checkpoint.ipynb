{
 "cells": [
  {
   "cell_type": "code",
   "execution_count": 1,
   "metadata": {},
   "outputs": [
    {
     "ename": "ModuleNotFoundError",
     "evalue": "No module named 'tensorflow'",
     "output_type": "error",
     "traceback": [
      "\u001b[0;31m---------------------------------------------------------------------------\u001b[0m",
      "\u001b[0;31mModuleNotFoundError\u001b[0m                       Traceback (most recent call last)",
      "\u001b[0;32m<ipython-input-1-770532f95c57>\u001b[0m in \u001b[0;36m<module>\u001b[0;34m()\u001b[0m\n\u001b[1;32m      7\u001b[0m \u001b[0;32mimport\u001b[0m \u001b[0mlogging\u001b[0m\u001b[0;34m,\u001b[0m \u001b[0margparse\u001b[0m\u001b[0;34m,\u001b[0m \u001b[0mos\u001b[0m\u001b[0;34m,\u001b[0m \u001b[0msys\u001b[0m\u001b[0;34m\u001b[0m\u001b[0m\n\u001b[1;32m      8\u001b[0m \u001b[0;32mimport\u001b[0m \u001b[0mnumpy\u001b[0m \u001b[0;32mas\u001b[0m \u001b[0mnp\u001b[0m\u001b[0;34m\u001b[0m\u001b[0m\n\u001b[0;32m----> 9\u001b[0;31m \u001b[0;32mimport\u001b[0m \u001b[0mtensorflow\u001b[0m \u001b[0;32mas\u001b[0m \u001b[0mtf\u001b[0m\u001b[0;34m\u001b[0m\u001b[0m\n\u001b[0m\u001b[1;32m     10\u001b[0m \u001b[0;32mimport\u001b[0m \u001b[0mscipy\u001b[0m\u001b[0;34m,\u001b[0m \u001b[0mimportlib\u001b[0m\u001b[0;34m,\u001b[0m \u001b[0mpprint\u001b[0m\u001b[0;34m,\u001b[0m \u001b[0mmatplotlib\u001b[0m\u001b[0;34m.\u001b[0m\u001b[0mpyplot\u001b[0m \u001b[0;32mas\u001b[0m \u001b[0mplt\u001b[0m\u001b[0;34m,\u001b[0m \u001b[0mwarnings\u001b[0m\u001b[0;34m\u001b[0m\u001b[0m\n\u001b[1;32m     11\u001b[0m \u001b[0;32mimport\u001b[0m \u001b[0mseaborn\u001b[0m \u001b[0;32mas\u001b[0m \u001b[0msns\u001b[0m\u001b[0;34m\u001b[0m\u001b[0m\n",
      "\u001b[0;31mModuleNotFoundError\u001b[0m: No module named 'tensorflow'"
     ]
    }
   ],
   "source": [
    "# Enable autoreload for customized module and some global settings\n",
    "%load_ext autoreload\n",
    "%autoreload 1\n",
    "%matplotlib inline\n",
    "#np.set_printoptions(suppress=True)\n",
    "\n",
    "import logging, argparse, os, sys\n",
    "import numpy as np\n",
    "import tensorflow as tf\n",
    "import scipy, importlib, pprint, matplotlib.pyplot as plt, warnings\n",
    "import seaborn as sns\n",
    "# import glmnet_python\n",
    "# from glmnet import glmnet; from glmnetPlot import glmnetPlot\n",
    "# from glmnetPrint import glmnetPrint; from glmnetCoef import glmnetCoef; from glmnetPredict import glmnetPredict\n",
    "# from cvglmnet import cvglmnet; from cvglmnetCoef import cvglmnetCoef\n",
    "# from cvglmnetPlot import cvglmnetPlot; from cvglmnetPredict import cvglmnetPredict\n",
    "# from statsmodels.stats.weightstats import DescrStatsW\n",
    "# from glmnetSet import glmnetSet\n",
    "warnings.filterwarnings('ignore')\n",
    "from sklearn import preprocessing\n",
    "from sklearn.linear_model import LinearRegression\n",
    "import statsmodels.api as sm\n",
    "\n",
    "# Package need to be reloaded frequently\n",
    "sys.path.append('./code')\n",
    "%aimport data_generator, baseline\n",
    "from data_generator import generate_toy_example\n",
    "from data_generator import linear_model_generation\n",
    "from data_generator import generate_group_data\n",
    "from baseline import Lasso\n",
    "from alg_baselines import f_bl_Ulasso, f_bl_IIlasso\n",
    "%aimport model, utils\n",
    "from model import variable_decorrelation"
   ]
  },
  {
   "cell_type": "markdown",
   "metadata": {},
   "source": [
    "## 1. Different Colinearity Structre"
   ]
  },
  {
   "cell_type": "code",
   "execution_count": 7,
   "metadata": {
    "collapsed": true
   },
   "outputs": [],
   "source": [
    "def generate_function_data(decay):\n",
    "    X = np.random.normal(0, 1, (1000, 4))\n",
    "    f = np.sum(X, axis=1, keepdims=True) + np.random.normal(0, decay, (1000, 1))\n",
    "    return preprocessing.scale(np.hstack((X, f)))"
   ]
  },
  {
   "cell_type": "code",
   "execution_count": 9,
   "metadata": {
    "collapsed": true
   },
   "outputs": [
    {
     "name": "stdout",
     "output_type": "stream",
     "text": [
      "1.1916849762321629\n",
      "0.001\n",
      "(array([[1.        , 0.9999985 , 0.99999718, 0.99999594, 0.99999468],\n",
      "       [0.9999985 , 1.        , 0.99999853, 0.99999719, 0.99999568],\n",
      "       [0.99999718, 0.99999853, 1.        , 0.99999855, 0.99999706],\n",
      "       [0.99999594, 0.99999719, 0.99999855, 1.        , 0.99999845],\n",
      "       [0.99999468, 0.99999568, 0.99999706, 0.99999845, 1.        ]]), 0.9999977398529771, 5763658.202747467)\n",
      "(array([[ 1.        , -0.04013495,  0.025675  ,  0.0098658 ,  0.47591353],\n",
      "       [-0.04013495,  1.        ,  0.03132502,  0.02686719,  0.50194908],\n",
      "       [ 0.025675  ,  0.03132502,  1.        ,  0.00572748,  0.53907014],\n",
      "       [ 0.0098658 ,  0.02686719,  0.00572748,  1.        ,  0.51204141],\n",
      "       [ 0.47591353,  0.50194908,  0.53907014,  0.51204141,  1.        ]]), 0.3670639764918985, 16173845.95724764)\n",
      "0.005\n",
      "(array([[1.        , 0.99996255, 0.99992946, 0.99989849, 0.99986691],\n",
      "       [0.99996255, 1.        , 0.99996315, 0.99992967, 0.99989191],\n",
      "       [0.99992946, 0.99996315, 1.        , 0.99996385, 0.99992639],\n",
      "       [0.99989849, 0.99992967, 0.99996385, 1.        , 0.99996123],\n",
      "       [0.99986691, 0.99989191, 0.99992639, 0.99996123, 1.        ]]), 0.9999434877897166, 230496.07574988593)\n",
      "(array([[ 1.        , -0.04013495,  0.025675  ,  0.0098658 ,  0.47585406],\n",
      "       [-0.04013495,  1.        ,  0.03132502,  0.02686719,  0.50197548],\n",
      "       [ 0.025675  ,  0.03132502,  1.        ,  0.00572748,  0.53909685],\n",
      "       [ 0.0098658 ,  0.02686719,  0.00572748,  1.        ,  0.5120391 ],\n",
      "       [ 0.47585406,  0.50197548,  0.53909685,  0.5120391 ,  1.        ]]), 0.36706328322296355, 647017.4809941282)\n",
      "0.01\n",
      "(array([[1.        , 0.99985019, 0.99971767, 0.99959408, 0.99946774],\n",
      "       [0.99985019, 1.        , 0.99985251, 0.99971879, 0.99956773],\n",
      "       [0.99971767, 0.99985251, 1.        , 0.99985545, 0.99970561],\n",
      "       [0.99959408, 0.99971879, 0.99985545, 1.        , 0.99984499],\n",
      "       [0.99946774, 0.99956773, 0.99970561, 0.99984499, 1.        ]]), 0.9997739799780895, 57617.174169867925)\n",
      "(array([[ 1.        , -0.04013495,  0.025675  ,  0.0098658 ,  0.47577709],\n",
      "       [-0.04013495,  1.        ,  0.03132502,  0.02686719,  0.50200569],\n",
      "       [ 0.025675  ,  0.03132502,  1.        ,  0.00572748,  0.53912722],\n",
      "       [ 0.0098658 ,  0.02686719,  0.00572748,  1.        ,  0.51203336],\n",
      "       [ 0.47577709,  0.50200569,  0.53912722,  0.51203336,  1.        ]]), 0.36706151201988324, 161775.16321740387)\n",
      "0.05\n",
      "(array([[1.        , 0.99627017, 0.99296328, 0.98998909, 0.98689714],\n",
      "       [0.99627017, 1.        , 0.99633114, 0.99307509, 0.98937346],\n",
      "       [0.99296328, 0.99633114, 1.        , 0.99644472, 0.99277208],\n",
      "       [0.98998909, 0.99307509, 0.99644472, 1.        , 0.99620223],\n",
      "       [0.98689714, 0.98937346, 0.99277208, 0.99620223, 1.        ]]), 0.9944254711852455, 2316.8716950547037)\n",
      "(array([[ 1.        , -0.04013495,  0.025675  ,  0.0098658 ,  0.4750559 ],\n",
      "       [-0.04013495,  1.        ,  0.03132502,  0.02686719,  0.50213534],\n",
      "       [ 0.025675  ,  0.03132502,  1.        ,  0.00572748,  0.53925   ],\n",
      "       [ 0.0098658 ,  0.02686719,  0.00572748,  1.        ,  0.5118735 ],\n",
      "       [ 0.4750559 ,  0.50213534,  0.53925   ,  0.5118735 ,  1.        ]]), 0.36701122226940186, 6479.107466842708)\n",
      "0.1\n",
      "(array([[1.        , 0.98530402, 0.97247752, 0.96162857, 0.95027161],\n",
      "       [0.98530402, 1.        , 0.98572715, 0.97357854, 0.95983126],\n",
      "       [0.97247752, 0.98572715, 1.        , 0.98649312, 0.97279924],\n",
      "       [0.96162857, 0.97357854, 0.98649312, 1.        , 0.98578424],\n",
      "       [0.95027161, 0.95983126, 0.97279924, 0.98578424, 1.        ]]), 0.9787116220167771, 592.6683181602738)\n",
      "(array([[ 1.        , -0.04013495,  0.025675  ,  0.0098658 ,  0.47389306],\n",
      "       [-0.04013495,  1.        ,  0.03132502,  0.02686719,  0.50201859],\n",
      "       [ 0.025675  ,  0.03132502,  1.        ,  0.00572748,  0.53910411],\n",
      "       [ 0.0098658 ,  0.02686719,  0.00572748,  1.        ,  0.5113903 ],\n",
      "       [ 0.47389306,  0.50201859,  0.53910411,  0.5113903 ,  1.        ]]), 0.36685852855568885, 1623.2124644496162)\n",
      "0.5\n",
      "(array([[1.        , 0.75362818, 0.62701033, 0.57228886, 0.51407071],\n",
      "       [0.75362818, 1.        , 0.82687841, 0.73129368, 0.63675579],\n",
      "       [0.62701033, 0.82687841, 1.        , 0.87181307, 0.77062612],\n",
      "       [0.57228886, 0.73129368, 0.87181307, 1.        , 0.88674842],\n",
      "       [0.51407071, 0.63675579, 0.77062612, 0.88674842, 1.        ]]), 0.7752890862099651, 47.97049931092906)\n",
      "(array([[ 1.        , -0.04013495,  0.025675  ,  0.0098658 ,  0.45499406],\n",
      "       [-0.04013495,  1.        ,  0.03132502,  0.02686719,  0.49061415],\n",
      "       [ 0.025675  ,  0.03132502,  1.        ,  0.00572748,  0.5266986 ],\n",
      "       [ 0.0098658 ,  0.02686719,  0.00572748,  1.        ,  0.49695828],\n",
      "       [ 0.45499406,  0.49061415,  0.5266986 ,  0.49695828,  1.        ]]), 0.3622872502789987, 67.46058497641286)\n",
      "1\n",
      "(array([[1.        , 0.49442529, 0.35828923, 0.32779946, 0.28101811],\n",
      "       [0.49442529, 1.        , 0.73873158, 0.61912049, 0.50786085],\n",
      "       [0.35828923, 0.73873158, 1.        , 0.82571664, 0.70181311],\n",
      "       [0.32779946, 0.61912049, 0.82571664, 1.        , 0.85591345],\n",
      "       [0.28101811, 0.50786085, 0.70181311, 0.85591345, 1.        ]]), 0.6568550556752704, 30.972094857841583)\n",
      "(array([[ 1.        , -0.04013495,  0.025675  ,  0.0098658 ,  0.41418281],\n",
      "       [-0.04013495,  1.        ,  0.03132502,  0.02686719,  0.45657901],\n",
      "       [ 0.025675  ,  0.03132502,  1.        ,  0.00572748,  0.48997989],\n",
      "       [ 0.0098658 ,  0.02686719,  0.00572748,  1.        ,  0.45928294],\n",
      "       [ 0.41418281,  0.45657901,  0.48997989,  0.45928294,  1.        ]]), 0.3503480156265358, 18.51528366148522)\n"
     ]
    }
   ],
   "source": [
    "sample_size, dimension = 1000, 5\n",
    "decay_list = [0.001, 0.005, 0.01, 0.05, 0.1, 0.5, 1]\n",
    "X_ind = np.random.normal(0, 1, (sample_size, dimension))\n",
    "print(np.linalg.cond(np.corrcoef(X_ind.T)))\n",
    "for ind, decay in enumerate(decay_list):\n",
    "    X_pair = generate_group_data(sample_size, decay, group_size=dimension, group_num=1)\n",
    "    X_func = generate_function_data(decay)\n",
    "    print(decay)\n",
    "    print(utils.weighted_corrcoef(X_pair))\n",
    "    print(utils.weighted_corrcoef(X_func))"
   ]
  },
  {
   "cell_type": "code",
   "execution_count": 15,
   "metadata": {
    "collapsed": true,
    "scrolled": true
   },
   "outputs": [],
   "source": [
    "decay = 0.05\n",
    "X_group = generate_group_data(sample_size = 1000, decay = decay, group_num=1)\n",
    "Y_group = None\n",
    "for weight in [2e-3, 5e-3, 2e-2, 5e-2, 1e-1]:\n",
    "    learning_rate, weight_l2, weight_upper = 1e-4, weight, 0\n",
    "    log_name = 'collinearity_analysis_l2_%.0e' % (weight_l2) #'group_decay_%.0e_l2_%.0e_lr_%.0e' % (decay, weight_l2, learning_rate)\n",
    "    data_description = 'Group data (5 var) with decay %.0e' % (decay)\n",
    "    _ = variable_decorrelation(x = X_group, y = Y_group, log_name = log_name, data_description = data_description,\n",
    "                   learning_rate = learning_rate, weight_l2 = weight_l2, weight_upper = weight_upper, \n",
    "                   max_iter = 15000, display_iter=300, save_iter=750, mode='rotation')"
   ]
  },
  {
   "cell_type": "code",
   "execution_count": 14,
   "metadata": {},
   "outputs": [
    {
     "data": {
      "text/plain": [
       "(array([[1.        , 0.99627017, 0.99296328, 0.98998909, 0.98689714],\n",
       "        [0.99627017, 1.        , 0.99633114, 0.99307509, 0.98937346],\n",
       "        [0.99296328, 0.99633114, 1.        , 0.99644472, 0.99277208],\n",
       "        [0.98998909, 0.99307509, 0.99644472, 1.        , 0.99620223],\n",
       "        [0.98689714, 0.98937346, 0.99277208, 0.99620223, 1.        ]]),\n",
       " 0.994425471185246,\n",
       " 2316.871695054794)"
      ]
     },
     "execution_count": 14,
     "metadata": {},
     "output_type": "execute_result"
    }
   ],
   "source": [
    "utils.weighted_corrcoef(X_group, np.ones((X_group.shape[0], 1)))"
   ]
  },
  {
   "cell_type": "code",
   "execution_count": 19,
   "metadata": {},
   "outputs": [
    {
     "name": "stdout",
     "output_type": "stream",
     "text": [
      "INFO:tensorflow:Restoring parameters from model/collinearity_analysis/model_iters15000.ckpt\n",
      "(array([[1.        , 0.99302146, 0.98862177, 0.98568818, 0.97990144],\n",
      "       [0.99302146, 1.        , 0.99397133, 0.99053145, 0.98386579],\n",
      "       [0.98862177, 0.99397133, 1.        , 0.99469257, 0.98802667],\n",
      "       [0.98568818, 0.99053145, 0.99469257, 1.        , 0.99256711],\n",
      "       [0.97990144, 0.98386579, 0.98802667, 0.99256711, 1.        ]]), 0.9912710216731685, 1261.9708653557225)\n"
     ]
    }
   ],
   "source": [
    "decay = 0.05\n",
    "X_group = generate_group_data(sample_size = 1000, decay = 0.05, group_num=1)\n",
    "model_path = 'model/collinearity_analysis/model_iters15000.ckpt'\n",
    "w_opt = model.load_weight(X_group, None, model_path)\n",
    "print(utils.weighted_corrcoef(X_group, w_opt))"
   ]
  },
  {
   "cell_type": "code",
   "execution_count": 21,
   "metadata": {},
   "outputs": [
    {
     "name": "stdout",
     "output_type": "stream",
     "text": [
      "INFO:tensorflow:Restoring parameters from model/collinearity_analysis_l2_2e-03/model_iters15000.ckpt\n",
      "(array([[1.        , 0.98636704, 0.97998684, 0.97715479, 0.96144329],\n",
      "       [0.98636704, 1.        , 0.98788643, 0.98431726, 0.96652277],\n",
      "       [0.97998684, 0.98788643, 1.        , 0.99045679, 0.97284525],\n",
      "       [0.97715479, 0.98431726, 0.99045679, 1.        , 0.98101527],\n",
      "       [0.96144329, 0.96652277, 0.97284525, 0.98101527, 1.        ]]), 0.9830396589738831, 602.3889413057892)\n"
     ]
    }
   ],
   "source": [
    "model_path = 'model/collinearity_analysis_l2_2e-03/model_iters15000.ckpt'\n",
    "w_opt = model.load_weight(X_group, None, model_path)\n",
    "print(utils.weighted_corrcoef(X_group, w_opt))"
   ]
  },
  {
   "cell_type": "code",
   "execution_count": 22,
   "metadata": {},
   "outputs": [
    {
     "name": "stdout",
     "output_type": "stream",
     "text": [
      "INFO:tensorflow:Restoring parameters from model/collinearity_analysis_l2_5e-03/model_iters15000.ckpt\n",
      "(array([[1.        , 0.99040111, 0.98505065, 0.98207988, 0.9738069 ],\n",
      "       [0.99040111, 1.        , 0.99193723, 0.98823935, 0.97879181],\n",
      "       [0.98505065, 0.99193723, 1.        , 0.99326009, 0.983797  ],\n",
      "       [0.98207988, 0.98823935, 0.99326009, 1.        , 0.98944347],\n",
      "       [0.9738069 , 0.97879181, 0.983797  , 0.98944347, 1.        ]]), 0.9885445996208548, 931.6542319680349)\n"
     ]
    }
   ],
   "source": [
    "model_path = 'model/collinearity_analysis_l2_5e-03/model_iters15000.ckpt'\n",
    "w_opt = model.load_weight(X_group, None, model_path)\n",
    "print(utils.weighted_corrcoef(X_group, w_opt))"
   ]
  },
  {
   "cell_type": "code",
   "execution_count": 23,
   "metadata": {},
   "outputs": [
    {
     "name": "stdout",
     "output_type": "stream",
     "text": [
      "INFO:tensorflow:Restoring parameters from model/collinearity_analysis_l2_5e-02/model_iters15000.ckpt\n",
      "(array([[1.        , 0.99559669, 0.99215545, 0.98928517, 0.98565044],\n",
      "       [0.99559669, 1.        , 0.99586515, 0.99268721, 0.98841232],\n",
      "       [0.99215545, 0.99586515, 1.        , 0.99613811, 0.99189331],\n",
      "       [0.98928517, 0.99268721, 0.99613811, 1.        , 0.99544556],\n",
      "       [0.98565044, 0.98841232, 0.99189331, 0.99544556, 1.        ]]), 0.9938503529299425, 1962.8968523259398)\n"
     ]
    }
   ],
   "source": [
    "model_path = 'model/collinearity_analysis_l2_5e-02/model_iters15000.ckpt'\n",
    "w_opt = model.load_weight(X_group, None, model_path)\n",
    "print(utils.weighted_corrcoef(X_group, w_opt))"
   ]
  },
  {
   "cell_type": "code",
   "execution_count": 24,
   "metadata": {},
   "outputs": [
    {
     "name": "stdout",
     "output_type": "stream",
     "text": [
      "INFO:tensorflow:Restoring parameters from model/collinearity_analysis_l2_1e-01/model_iters15000.ckpt\n",
      "(array([[1.        , 0.9959316 , 0.99257001, 0.98965638, 0.9862916 ],\n",
      "       [0.9959316 , 1.        , 0.99609889, 0.99289507, 0.98890954],\n",
      "       [0.99257001, 0.99609889, 1.        , 0.99629749, 0.9923433 ],\n",
      "       [0.98965638, 0.99289507, 0.99629749, 1.        , 0.99582083],\n",
      "       [0.9862916 , 0.98890954, 0.9923433 , 0.99582083, 1.        ]]), 0.9941451765828936, 2121.806970348623)\n"
     ]
    }
   ],
   "source": [
    "model_path = 'model/collinearity_analysis_l2_1e-01/model_iters15000.ckpt'\n",
    "w_opt = model.load_weight(X_group, None, model_path)\n",
    "print(utils.weighted_corrcoef(X_group, w_opt))"
   ]
  },
  {
   "cell_type": "code",
   "execution_count": null,
   "metadata": {
    "collapsed": true
   },
   "outputs": [],
   "source": []
  }
 ],
 "metadata": {
  "kernelspec": {
   "display_name": "Python 3",
   "language": "python",
   "name": "python3"
  },
  "language_info": {
   "codemirror_mode": {
    "name": "ipython",
    "version": 3
   },
   "file_extension": ".py",
   "mimetype": "text/x-python",
   "name": "python",
   "nbconvert_exporter": "python",
   "pygments_lexer": "ipython3",
   "version": "3.6.6"
  }
 },
 "nbformat": 4,
 "nbformat_minor": 2
}
